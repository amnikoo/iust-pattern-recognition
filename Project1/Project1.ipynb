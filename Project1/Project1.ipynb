{
  "nbformat": 4,
  "nbformat_minor": 0,
  "metadata": {
    "colab": {
      "name": "Untitled(5).ipynb",
      "provenance": [],
      "collapsed_sections": [],
      "toc_visible": true
    },
    "kernelspec": {
      "name": "python3",
      "display_name": "Python 3"
    },
    "accelerator": "GPU",
    "widgets": {
      "application/vnd.jupyter.widget-state+json": {
        "2ed28fb6e8524c3690877489483f3478": {
          "model_module": "@jupyter-widgets/controls",
          "model_name": "HBoxModel",
          "state": {
            "_view_name": "HBoxView",
            "_dom_classes": [],
            "_model_name": "HBoxModel",
            "_view_module": "@jupyter-widgets/controls",
            "_model_module_version": "1.5.0",
            "_view_count": null,
            "_view_module_version": "1.5.0",
            "box_style": "",
            "layout": "IPY_MODEL_be4ee9ec5cbd4cdbb8fdc7d673c05377",
            "_model_module": "@jupyter-widgets/controls",
            "children": [
              "IPY_MODEL_1e6f221b28504039964c477fef1b427c",
              "IPY_MODEL_2ae0e9ee14f243eaa79cee7a2491ab15"
            ]
          }
        },
        "be4ee9ec5cbd4cdbb8fdc7d673c05377": {
          "model_module": "@jupyter-widgets/base",
          "model_name": "LayoutModel",
          "state": {
            "_view_name": "LayoutView",
            "grid_template_rows": null,
            "right": null,
            "justify_content": null,
            "_view_module": "@jupyter-widgets/base",
            "overflow": null,
            "_model_module_version": "1.2.0",
            "_view_count": null,
            "flex_flow": null,
            "width": null,
            "min_width": null,
            "border": null,
            "align_items": null,
            "bottom": null,
            "_model_module": "@jupyter-widgets/base",
            "top": null,
            "grid_column": null,
            "overflow_y": null,
            "overflow_x": null,
            "grid_auto_flow": null,
            "grid_area": null,
            "grid_template_columns": null,
            "flex": null,
            "_model_name": "LayoutModel",
            "justify_items": null,
            "grid_row": null,
            "max_height": null,
            "align_content": null,
            "visibility": null,
            "align_self": null,
            "height": null,
            "min_height": null,
            "padding": null,
            "grid_auto_rows": null,
            "grid_gap": null,
            "max_width": null,
            "order": null,
            "_view_module_version": "1.2.0",
            "grid_template_areas": null,
            "object_position": null,
            "object_fit": null,
            "grid_auto_columns": null,
            "margin": null,
            "display": null,
            "left": null
          }
        },
        "1e6f221b28504039964c477fef1b427c": {
          "model_module": "@jupyter-widgets/controls",
          "model_name": "FloatProgressModel",
          "state": {
            "_view_name": "ProgressView",
            "style": "IPY_MODEL_c3a715aaabcf4875a6fa9f5038b54544",
            "_dom_classes": [],
            "description": "Batches: 100%",
            "_model_name": "FloatProgressModel",
            "bar_style": "success",
            "max": 1250,
            "_view_module": "@jupyter-widgets/controls",
            "_model_module_version": "1.5.0",
            "value": 1250,
            "_view_count": null,
            "_view_module_version": "1.5.0",
            "orientation": "horizontal",
            "min": 0,
            "description_tooltip": null,
            "_model_module": "@jupyter-widgets/controls",
            "layout": "IPY_MODEL_16c0bf010f3a413ba70a55a4e6e97701"
          }
        },
        "2ae0e9ee14f243eaa79cee7a2491ab15": {
          "model_module": "@jupyter-widgets/controls",
          "model_name": "HTMLModel",
          "state": {
            "_view_name": "HTMLView",
            "style": "IPY_MODEL_fee631ddd9064588ac41749d8908b888",
            "_dom_classes": [],
            "description": "",
            "_model_name": "HTMLModel",
            "placeholder": "​",
            "_view_module": "@jupyter-widgets/controls",
            "_model_module_version": "1.5.0",
            "value": " 1250/1250 [2:39:20&lt;00:00,  7.65s/it]",
            "_view_count": null,
            "_view_module_version": "1.5.0",
            "description_tooltip": null,
            "_model_module": "@jupyter-widgets/controls",
            "layout": "IPY_MODEL_13e8c0f4038544c5821ff4ca652b0036"
          }
        },
        "c3a715aaabcf4875a6fa9f5038b54544": {
          "model_module": "@jupyter-widgets/controls",
          "model_name": "ProgressStyleModel",
          "state": {
            "_view_name": "StyleView",
            "_model_name": "ProgressStyleModel",
            "description_width": "initial",
            "_view_module": "@jupyter-widgets/base",
            "_model_module_version": "1.5.0",
            "_view_count": null,
            "_view_module_version": "1.2.0",
            "bar_color": null,
            "_model_module": "@jupyter-widgets/controls"
          }
        },
        "16c0bf010f3a413ba70a55a4e6e97701": {
          "model_module": "@jupyter-widgets/base",
          "model_name": "LayoutModel",
          "state": {
            "_view_name": "LayoutView",
            "grid_template_rows": null,
            "right": null,
            "justify_content": null,
            "_view_module": "@jupyter-widgets/base",
            "overflow": null,
            "_model_module_version": "1.2.0",
            "_view_count": null,
            "flex_flow": null,
            "width": null,
            "min_width": null,
            "border": null,
            "align_items": null,
            "bottom": null,
            "_model_module": "@jupyter-widgets/base",
            "top": null,
            "grid_column": null,
            "overflow_y": null,
            "overflow_x": null,
            "grid_auto_flow": null,
            "grid_area": null,
            "grid_template_columns": null,
            "flex": null,
            "_model_name": "LayoutModel",
            "justify_items": null,
            "grid_row": null,
            "max_height": null,
            "align_content": null,
            "visibility": null,
            "align_self": null,
            "height": null,
            "min_height": null,
            "padding": null,
            "grid_auto_rows": null,
            "grid_gap": null,
            "max_width": null,
            "order": null,
            "_view_module_version": "1.2.0",
            "grid_template_areas": null,
            "object_position": null,
            "object_fit": null,
            "grid_auto_columns": null,
            "margin": null,
            "display": null,
            "left": null
          }
        },
        "fee631ddd9064588ac41749d8908b888": {
          "model_module": "@jupyter-widgets/controls",
          "model_name": "DescriptionStyleModel",
          "state": {
            "_view_name": "StyleView",
            "_model_name": "DescriptionStyleModel",
            "description_width": "",
            "_view_module": "@jupyter-widgets/base",
            "_model_module_version": "1.5.0",
            "_view_count": null,
            "_view_module_version": "1.2.0",
            "_model_module": "@jupyter-widgets/controls"
          }
        },
        "13e8c0f4038544c5821ff4ca652b0036": {
          "model_module": "@jupyter-widgets/base",
          "model_name": "LayoutModel",
          "state": {
            "_view_name": "LayoutView",
            "grid_template_rows": null,
            "right": null,
            "justify_content": null,
            "_view_module": "@jupyter-widgets/base",
            "overflow": null,
            "_model_module_version": "1.2.0",
            "_view_count": null,
            "flex_flow": null,
            "width": null,
            "min_width": null,
            "border": null,
            "align_items": null,
            "bottom": null,
            "_model_module": "@jupyter-widgets/base",
            "top": null,
            "grid_column": null,
            "overflow_y": null,
            "overflow_x": null,
            "grid_auto_flow": null,
            "grid_area": null,
            "grid_template_columns": null,
            "flex": null,
            "_model_name": "LayoutModel",
            "justify_items": null,
            "grid_row": null,
            "max_height": null,
            "align_content": null,
            "visibility": null,
            "align_self": null,
            "height": null,
            "min_height": null,
            "padding": null,
            "grid_auto_rows": null,
            "grid_gap": null,
            "max_width": null,
            "order": null,
            "_view_module_version": "1.2.0",
            "grid_template_areas": null,
            "object_position": null,
            "object_fit": null,
            "grid_auto_columns": null,
            "margin": null,
            "display": null,
            "left": null
          }
        },
        "91c16e50686f4d589f7e0ac0ec3464bd": {
          "model_module": "@jupyter-widgets/controls",
          "model_name": "HBoxModel",
          "state": {
            "_view_name": "HBoxView",
            "_dom_classes": [],
            "_model_name": "HBoxModel",
            "_view_module": "@jupyter-widgets/controls",
            "_model_module_version": "1.5.0",
            "_view_count": null,
            "_view_module_version": "1.5.0",
            "box_style": "",
            "layout": "IPY_MODEL_bea819afc232492ab319cfa658095005",
            "_model_module": "@jupyter-widgets/controls",
            "children": [
              "IPY_MODEL_347c78d037654a7e84985c8c9542df53",
              "IPY_MODEL_4b2b70b20fc84fc6899c0504d790bb66"
            ]
          }
        },
        "bea819afc232492ab319cfa658095005": {
          "model_module": "@jupyter-widgets/base",
          "model_name": "LayoutModel",
          "state": {
            "_view_name": "LayoutView",
            "grid_template_rows": null,
            "right": null,
            "justify_content": null,
            "_view_module": "@jupyter-widgets/base",
            "overflow": null,
            "_model_module_version": "1.2.0",
            "_view_count": null,
            "flex_flow": null,
            "width": null,
            "min_width": null,
            "border": null,
            "align_items": null,
            "bottom": null,
            "_model_module": "@jupyter-widgets/base",
            "top": null,
            "grid_column": null,
            "overflow_y": null,
            "overflow_x": null,
            "grid_auto_flow": null,
            "grid_area": null,
            "grid_template_columns": null,
            "flex": null,
            "_model_name": "LayoutModel",
            "justify_items": null,
            "grid_row": null,
            "max_height": null,
            "align_content": null,
            "visibility": null,
            "align_self": null,
            "height": null,
            "min_height": null,
            "padding": null,
            "grid_auto_rows": null,
            "grid_gap": null,
            "max_width": null,
            "order": null,
            "_view_module_version": "1.2.0",
            "grid_template_areas": null,
            "object_position": null,
            "object_fit": null,
            "grid_auto_columns": null,
            "margin": null,
            "display": null,
            "left": null
          }
        },
        "347c78d037654a7e84985c8c9542df53": {
          "model_module": "@jupyter-widgets/controls",
          "model_name": "FloatProgressModel",
          "state": {
            "_view_name": "ProgressView",
            "style": "IPY_MODEL_35375edce95e44839e77e9dc22e2f47c",
            "_dom_classes": [],
            "description": "Batches: 100%",
            "_model_name": "FloatProgressModel",
            "bar_style": "success",
            "max": 157,
            "_view_module": "@jupyter-widgets/controls",
            "_model_module_version": "1.5.0",
            "value": 157,
            "_view_count": null,
            "_view_module_version": "1.5.0",
            "orientation": "horizontal",
            "min": 0,
            "description_tooltip": null,
            "_model_module": "@jupyter-widgets/controls",
            "layout": "IPY_MODEL_9d22b9714d7545a6a62b5c60556b039e"
          }
        },
        "4b2b70b20fc84fc6899c0504d790bb66": {
          "model_module": "@jupyter-widgets/controls",
          "model_name": "HTMLModel",
          "state": {
            "_view_name": "HTMLView",
            "style": "IPY_MODEL_dc794adbfb434fb69ed3626b42a62ec9",
            "_dom_classes": [],
            "description": "",
            "_model_name": "HTMLModel",
            "placeholder": "​",
            "_view_module": "@jupyter-widgets/controls",
            "_model_module_version": "1.5.0",
            "value": " 157/157 [2:35:00&lt;00:00, 59.24s/it]",
            "_view_count": null,
            "_view_module_version": "1.5.0",
            "description_tooltip": null,
            "_model_module": "@jupyter-widgets/controls",
            "layout": "IPY_MODEL_f3d9cc1055264b36939902861eb4eef4"
          }
        },
        "35375edce95e44839e77e9dc22e2f47c": {
          "model_module": "@jupyter-widgets/controls",
          "model_name": "ProgressStyleModel",
          "state": {
            "_view_name": "StyleView",
            "_model_name": "ProgressStyleModel",
            "description_width": "initial",
            "_view_module": "@jupyter-widgets/base",
            "_model_module_version": "1.5.0",
            "_view_count": null,
            "_view_module_version": "1.2.0",
            "bar_color": null,
            "_model_module": "@jupyter-widgets/controls"
          }
        },
        "9d22b9714d7545a6a62b5c60556b039e": {
          "model_module": "@jupyter-widgets/base",
          "model_name": "LayoutModel",
          "state": {
            "_view_name": "LayoutView",
            "grid_template_rows": null,
            "right": null,
            "justify_content": null,
            "_view_module": "@jupyter-widgets/base",
            "overflow": null,
            "_model_module_version": "1.2.0",
            "_view_count": null,
            "flex_flow": null,
            "width": null,
            "min_width": null,
            "border": null,
            "align_items": null,
            "bottom": null,
            "_model_module": "@jupyter-widgets/base",
            "top": null,
            "grid_column": null,
            "overflow_y": null,
            "overflow_x": null,
            "grid_auto_flow": null,
            "grid_area": null,
            "grid_template_columns": null,
            "flex": null,
            "_model_name": "LayoutModel",
            "justify_items": null,
            "grid_row": null,
            "max_height": null,
            "align_content": null,
            "visibility": null,
            "align_self": null,
            "height": null,
            "min_height": null,
            "padding": null,
            "grid_auto_rows": null,
            "grid_gap": null,
            "max_width": null,
            "order": null,
            "_view_module_version": "1.2.0",
            "grid_template_areas": null,
            "object_position": null,
            "object_fit": null,
            "grid_auto_columns": null,
            "margin": null,
            "display": null,
            "left": null
          }
        },
        "dc794adbfb434fb69ed3626b42a62ec9": {
          "model_module": "@jupyter-widgets/controls",
          "model_name": "DescriptionStyleModel",
          "state": {
            "_view_name": "StyleView",
            "_model_name": "DescriptionStyleModel",
            "description_width": "",
            "_view_module": "@jupyter-widgets/base",
            "_model_module_version": "1.5.0",
            "_view_count": null,
            "_view_module_version": "1.2.0",
            "_model_module": "@jupyter-widgets/controls"
          }
        },
        "f3d9cc1055264b36939902861eb4eef4": {
          "model_module": "@jupyter-widgets/base",
          "model_name": "LayoutModel",
          "state": {
            "_view_name": "LayoutView",
            "grid_template_rows": null,
            "right": null,
            "justify_content": null,
            "_view_module": "@jupyter-widgets/base",
            "overflow": null,
            "_model_module_version": "1.2.0",
            "_view_count": null,
            "flex_flow": null,
            "width": null,
            "min_width": null,
            "border": null,
            "align_items": null,
            "bottom": null,
            "_model_module": "@jupyter-widgets/base",
            "top": null,
            "grid_column": null,
            "overflow_y": null,
            "overflow_x": null,
            "grid_auto_flow": null,
            "grid_area": null,
            "grid_template_columns": null,
            "flex": null,
            "_model_name": "LayoutModel",
            "justify_items": null,
            "grid_row": null,
            "max_height": null,
            "align_content": null,
            "visibility": null,
            "align_self": null,
            "height": null,
            "min_height": null,
            "padding": null,
            "grid_auto_rows": null,
            "grid_gap": null,
            "max_width": null,
            "order": null,
            "_view_module_version": "1.2.0",
            "grid_template_areas": null,
            "object_position": null,
            "object_fit": null,
            "grid_auto_columns": null,
            "margin": null,
            "display": null,
            "left": null
          }
        },
        "a3edcb5bcee449949c30663324130af6": {
          "model_module": "@jupyter-widgets/controls",
          "model_name": "HBoxModel",
          "state": {
            "_view_name": "HBoxView",
            "_dom_classes": [],
            "_model_name": "HBoxModel",
            "_view_module": "@jupyter-widgets/controls",
            "_model_module_version": "1.5.0",
            "_view_count": null,
            "_view_module_version": "1.5.0",
            "box_style": "",
            "layout": "IPY_MODEL_887a3b056c04474ca06275784fb636b2",
            "_model_module": "@jupyter-widgets/controls",
            "children": [
              "IPY_MODEL_2921ee932aaf4624987f226012300323",
              "IPY_MODEL_27b2512d2fa24ec49bfdeba917172c25"
            ]
          }
        },
        "887a3b056c04474ca06275784fb636b2": {
          "model_module": "@jupyter-widgets/base",
          "model_name": "LayoutModel",
          "state": {
            "_view_name": "LayoutView",
            "grid_template_rows": null,
            "right": null,
            "justify_content": null,
            "_view_module": "@jupyter-widgets/base",
            "overflow": null,
            "_model_module_version": "1.2.0",
            "_view_count": null,
            "flex_flow": null,
            "width": null,
            "min_width": null,
            "border": null,
            "align_items": null,
            "bottom": null,
            "_model_module": "@jupyter-widgets/base",
            "top": null,
            "grid_column": null,
            "overflow_y": null,
            "overflow_x": null,
            "grid_auto_flow": null,
            "grid_area": null,
            "grid_template_columns": null,
            "flex": null,
            "_model_name": "LayoutModel",
            "justify_items": null,
            "grid_row": null,
            "max_height": null,
            "align_content": null,
            "visibility": null,
            "align_self": null,
            "height": null,
            "min_height": null,
            "padding": null,
            "grid_auto_rows": null,
            "grid_gap": null,
            "max_width": null,
            "order": null,
            "_view_module_version": "1.2.0",
            "grid_template_areas": null,
            "object_position": null,
            "object_fit": null,
            "grid_auto_columns": null,
            "margin": null,
            "display": null,
            "left": null
          }
        },
        "2921ee932aaf4624987f226012300323": {
          "model_module": "@jupyter-widgets/controls",
          "model_name": "FloatProgressModel",
          "state": {
            "_view_name": "ProgressView",
            "style": "IPY_MODEL_449744d7a6304510babf7facdd9cdc12",
            "_dom_classes": [],
            "description": "Batches: 100%",
            "_model_name": "FloatProgressModel",
            "bar_style": "success",
            "max": 157,
            "_view_module": "@jupyter-widgets/controls",
            "_model_module_version": "1.5.0",
            "value": 157,
            "_view_count": null,
            "_view_module_version": "1.5.0",
            "orientation": "horizontal",
            "min": 0,
            "description_tooltip": null,
            "_model_module": "@jupyter-widgets/controls",
            "layout": "IPY_MODEL_cec1d623fc3e4b6b96742dcde061fa72"
          }
        },
        "27b2512d2fa24ec49bfdeba917172c25": {
          "model_module": "@jupyter-widgets/controls",
          "model_name": "HTMLModel",
          "state": {
            "_view_name": "HTMLView",
            "style": "IPY_MODEL_610e6b23c1f9443c87c33b2b647ebf6e",
            "_dom_classes": [],
            "description": "",
            "_model_name": "HTMLModel",
            "placeholder": "​",
            "_view_module": "@jupyter-widgets/controls",
            "_model_module_version": "1.5.0",
            "value": " 157/157 [2:34:27&lt;00:00, 59.03s/it]",
            "_view_count": null,
            "_view_module_version": "1.5.0",
            "description_tooltip": null,
            "_model_module": "@jupyter-widgets/controls",
            "layout": "IPY_MODEL_54b4f19d0c53444ea58aa1cfb356106f"
          }
        },
        "449744d7a6304510babf7facdd9cdc12": {
          "model_module": "@jupyter-widgets/controls",
          "model_name": "ProgressStyleModel",
          "state": {
            "_view_name": "StyleView",
            "_model_name": "ProgressStyleModel",
            "description_width": "initial",
            "_view_module": "@jupyter-widgets/base",
            "_model_module_version": "1.5.0",
            "_view_count": null,
            "_view_module_version": "1.2.0",
            "bar_color": null,
            "_model_module": "@jupyter-widgets/controls"
          }
        },
        "cec1d623fc3e4b6b96742dcde061fa72": {
          "model_module": "@jupyter-widgets/base",
          "model_name": "LayoutModel",
          "state": {
            "_view_name": "LayoutView",
            "grid_template_rows": null,
            "right": null,
            "justify_content": null,
            "_view_module": "@jupyter-widgets/base",
            "overflow": null,
            "_model_module_version": "1.2.0",
            "_view_count": null,
            "flex_flow": null,
            "width": null,
            "min_width": null,
            "border": null,
            "align_items": null,
            "bottom": null,
            "_model_module": "@jupyter-widgets/base",
            "top": null,
            "grid_column": null,
            "overflow_y": null,
            "overflow_x": null,
            "grid_auto_flow": null,
            "grid_area": null,
            "grid_template_columns": null,
            "flex": null,
            "_model_name": "LayoutModel",
            "justify_items": null,
            "grid_row": null,
            "max_height": null,
            "align_content": null,
            "visibility": null,
            "align_self": null,
            "height": null,
            "min_height": null,
            "padding": null,
            "grid_auto_rows": null,
            "grid_gap": null,
            "max_width": null,
            "order": null,
            "_view_module_version": "1.2.0",
            "grid_template_areas": null,
            "object_position": null,
            "object_fit": null,
            "grid_auto_columns": null,
            "margin": null,
            "display": null,
            "left": null
          }
        },
        "610e6b23c1f9443c87c33b2b647ebf6e": {
          "model_module": "@jupyter-widgets/controls",
          "model_name": "DescriptionStyleModel",
          "state": {
            "_view_name": "StyleView",
            "_model_name": "DescriptionStyleModel",
            "description_width": "",
            "_view_module": "@jupyter-widgets/base",
            "_model_module_version": "1.5.0",
            "_view_count": null,
            "_view_module_version": "1.2.0",
            "_model_module": "@jupyter-widgets/controls"
          }
        },
        "54b4f19d0c53444ea58aa1cfb356106f": {
          "model_module": "@jupyter-widgets/base",
          "model_name": "LayoutModel",
          "state": {
            "_view_name": "LayoutView",
            "grid_template_rows": null,
            "right": null,
            "justify_content": null,
            "_view_module": "@jupyter-widgets/base",
            "overflow": null,
            "_model_module_version": "1.2.0",
            "_view_count": null,
            "flex_flow": null,
            "width": null,
            "min_width": null,
            "border": null,
            "align_items": null,
            "bottom": null,
            "_model_module": "@jupyter-widgets/base",
            "top": null,
            "grid_column": null,
            "overflow_y": null,
            "overflow_x": null,
            "grid_auto_flow": null,
            "grid_area": null,
            "grid_template_columns": null,
            "flex": null,
            "_model_name": "LayoutModel",
            "justify_items": null,
            "grid_row": null,
            "max_height": null,
            "align_content": null,
            "visibility": null,
            "align_self": null,
            "height": null,
            "min_height": null,
            "padding": null,
            "grid_auto_rows": null,
            "grid_gap": null,
            "max_width": null,
            "order": null,
            "_view_module_version": "1.2.0",
            "grid_template_areas": null,
            "object_position": null,
            "object_fit": null,
            "grid_auto_columns": null,
            "margin": null,
            "display": null,
            "left": null
          }
        }
      }
    }
  },
  "cells": [
    {
      "cell_type": "markdown",
      "metadata": {
        "id": "sEu6r64lk6u6"
      },
      "source": [
        "**Pattern Recognition Project 1**\r\n",
        "\r\n",
        "by Amir Mahdi Nikukaran\r\n",
        "\r\n",
        "ID: 99722148"
      ]
    },
    {
      "cell_type": "markdown",
      "metadata": {
        "id": "cW19sMMTl0tv"
      },
      "source": [
        "# **Text Sentiment Recognition**"
      ]
    },
    {
      "cell_type": "markdown",
      "metadata": {
        "id": "HDSEWeUsmiMo"
      },
      "source": [
        "  The main aim of this project is evaluate some base classifiers in sentiment recognition task. This project is done with four word embedding approaches (BOW, TF-IDF, Word2Vec and BERT) and three base classifiers (Naive Bayes, Linear SVM and SVM with RBF kernel) as well as some text pre-processing techniques on the IMDB movie reviews dataset.\r\n",
        "\r\n",
        "  IMDB movie reviews dataset contains 50K reviews, half of which are positive and the other half negative. The dataset has splitted to 40K training set, 5K validation set and 5K testing set.\r\n",
        "\r\n"
      ]
    },
    {
      "cell_type": "code",
      "metadata": {
        "id": "8IBDM3e1IsLs"
      },
      "source": [
        "# Code to read csv file into Colaboratory:!pip install -U -q PyDrive\n",
        "from pydrive.auth import GoogleAuth\n",
        "from pydrive.drive import GoogleDrive\n",
        "from google.colab import auth\n",
        "from oauth2client.client import GoogleCredentials# Authenticate and create the PyDrive client.\n",
        "auth.authenticate_user()\n",
        "gauth = GoogleAuth()\n",
        "gauth.credentials = GoogleCredentials.get_application_default()\n",
        "drive = GoogleDrive(gauth)"
      ],
      "execution_count": 1,
      "outputs": []
    },
    {
      "cell_type": "code",
      "metadata": {
        "id": "vyDBNQhESoi-"
      },
      "source": [
        "train_id = '1VPbM-txlbNAWM1K0h3XKVJEkTE8bYgTz'\n",
        "valid_id = '1-uxpBcpItwLCkWdXX3MsVWL2iO2DvrNP'\n",
        "test_id = '1g8pz76ZAxufftkHzy1g1W7EPVZhdSGKM'"
      ],
      "execution_count": 2,
      "outputs": []
    },
    {
      "cell_type": "code",
      "metadata": {
        "id": "pICbC-mmiAJz"
      },
      "source": [
        "#Import libraries\n",
        "import numpy as np\n",
        "import pandas as pd\n",
        "import seaborn as sns\n",
        "import matplotlib.pyplot as plt\n",
        "import nltk\n",
        "from sklearn.feature_extraction.text import CountVectorizer\n",
        "from sklearn.feature_extraction.text import TfidfVectorizer\n",
        "from gensim.sklearn_api import W2VTransformer\n",
        "from sklearn.preprocessing import LabelBinarizer\n",
        "from nltk.corpus import stopwords\n",
        "from nltk.stem.porter import PorterStemmer\n",
        "from wordcloud import WordCloud, STOPWORDS\n",
        "from nltk.stem import WordNetLemmatizer\n",
        "from nltk.tokenize import word_tokenize, sent_tokenize\n",
        "from bs4 import BeautifulSoup\n",
        "import spacy\n",
        "import re,string,unicodedata\n",
        "from nltk.tokenize.toktok import ToktokTokenizer\n",
        "from nltk.stem import LancasterStemmer, WordNetLemmatizer\n",
        "\n",
        "from sklearn.linear_model import SGDClassifier\n",
        "from sklearn.naive_bayes import MultinomialNB, GaussianNB, BernoulliNB\n",
        "from sklearn.svm import SVC, LinearSVC\n",
        "\n",
        "from sklearn.model_selection import GridSearchCV\n",
        "\n",
        "from textblob import TextBlob\n",
        "from textblob import Word\n",
        "from sklearn.metrics import classification_report, confusion_matrix, accuracy_score, roc_curve, auc, plot_roc_curve, roc_auc_score\n",
        "\n",
        "import os\n",
        "#print(os.listdir(\"../input\"))\n",
        "import warnings\n",
        "warnings.filterwarnings('ignore')"
      ],
      "execution_count": 3,
      "outputs": []
    },
    {
      "cell_type": "code",
      "metadata": {
        "id": "UA17M7BwT4SH"
      },
      "source": [
        "downloaded = drive.CreateFile({'id':train_id})\n",
        "downloaded.GetContentFile('Train.csv')\n",
        "train_df = pd.read_csv('Train.csv')# Dataset is now stored in a Pandas Dataframe\n",
        "\n",
        "downloaded = drive.CreateFile({'id':valid_id})\n",
        "downloaded.GetContentFile('Valid.csv')\n",
        "valid_df = pd.read_csv('Valid.csv')# Dataset is now stored in a Pandas Dataframe\n",
        "\n",
        "downloaded = drive.CreateFile({'id':test_id})\n",
        "downloaded.GetContentFile('Test.csv')\n",
        "test_df = pd.read_csv('Test.csv')# Dataset is now stored in a Pandas Dataframe"
      ],
      "execution_count": 4,
      "outputs": []
    },
    {
      "cell_type": "code",
      "metadata": {
        "id": "f5B7OGyuky_o",
        "colab": {
          "base_uri": "https://localhost:8080/",
          "height": 381
        },
        "outputId": "d976b26d-4f06-4f94-96f0-6a2cfe452b7d"
      },
      "source": [
        "print(train_df.shape)\n",
        "train_df[:10]"
      ],
      "execution_count": 5,
      "outputs": [
        {
          "output_type": "stream",
          "text": [
            "(40000, 2)\n"
          ],
          "name": "stdout"
        },
        {
          "output_type": "execute_result",
          "data": {
            "text/html": [
              "<div>\n",
              "<style scoped>\n",
              "    .dataframe tbody tr th:only-of-type {\n",
              "        vertical-align: middle;\n",
              "    }\n",
              "\n",
              "    .dataframe tbody tr th {\n",
              "        vertical-align: top;\n",
              "    }\n",
              "\n",
              "    .dataframe thead th {\n",
              "        text-align: right;\n",
              "    }\n",
              "</style>\n",
              "<table border=\"1\" class=\"dataframe\">\n",
              "  <thead>\n",
              "    <tr style=\"text-align: right;\">\n",
              "      <th></th>\n",
              "      <th>text</th>\n",
              "      <th>label</th>\n",
              "    </tr>\n",
              "  </thead>\n",
              "  <tbody>\n",
              "    <tr>\n",
              "      <th>0</th>\n",
              "      <td>I grew up (b. 1965) watching and loving the Th...</td>\n",
              "      <td>0</td>\n",
              "    </tr>\n",
              "    <tr>\n",
              "      <th>1</th>\n",
              "      <td>When I put this movie in my DVD player, and sa...</td>\n",
              "      <td>0</td>\n",
              "    </tr>\n",
              "    <tr>\n",
              "      <th>2</th>\n",
              "      <td>Why do people who do not know what a particula...</td>\n",
              "      <td>0</td>\n",
              "    </tr>\n",
              "    <tr>\n",
              "      <th>3</th>\n",
              "      <td>Even though I have great interest in Biblical ...</td>\n",
              "      <td>0</td>\n",
              "    </tr>\n",
              "    <tr>\n",
              "      <th>4</th>\n",
              "      <td>Im a die hard Dads Army fan and nothing will e...</td>\n",
              "      <td>1</td>\n",
              "    </tr>\n",
              "    <tr>\n",
              "      <th>5</th>\n",
              "      <td>A terrible movie as everyone has said. What ma...</td>\n",
              "      <td>0</td>\n",
              "    </tr>\n",
              "    <tr>\n",
              "      <th>6</th>\n",
              "      <td>Finally watched this shocking movie last night...</td>\n",
              "      <td>1</td>\n",
              "    </tr>\n",
              "    <tr>\n",
              "      <th>7</th>\n",
              "      <td>I caught this film on AZN on cable. It sounded...</td>\n",
              "      <td>0</td>\n",
              "    </tr>\n",
              "    <tr>\n",
              "      <th>8</th>\n",
              "      <td>It may be the remake of 1987 Autumn's Tale aft...</td>\n",
              "      <td>1</td>\n",
              "    </tr>\n",
              "    <tr>\n",
              "      <th>9</th>\n",
              "      <td>My Super Ex Girlfriend turned out to be a plea...</td>\n",
              "      <td>1</td>\n",
              "    </tr>\n",
              "  </tbody>\n",
              "</table>\n",
              "</div>"
            ],
            "text/plain": [
              "                                                text  label\n",
              "0  I grew up (b. 1965) watching and loving the Th...      0\n",
              "1  When I put this movie in my DVD player, and sa...      0\n",
              "2  Why do people who do not know what a particula...      0\n",
              "3  Even though I have great interest in Biblical ...      0\n",
              "4  Im a die hard Dads Army fan and nothing will e...      1\n",
              "5  A terrible movie as everyone has said. What ma...      0\n",
              "6  Finally watched this shocking movie last night...      1\n",
              "7  I caught this film on AZN on cable. It sounded...      0\n",
              "8  It may be the remake of 1987 Autumn's Tale aft...      1\n",
              "9  My Super Ex Girlfriend turned out to be a plea...      1"
            ]
          },
          "metadata": {
            "tags": []
          },
          "execution_count": 5
        }
      ]
    },
    {
      "cell_type": "code",
      "metadata": {
        "colab": {
          "base_uri": "https://localhost:8080/",
          "height": 381
        },
        "id": "6CVNQKGqYTGZ",
        "outputId": "1e337f41-bcc0-49df-8faa-d4cb3782d4ed"
      },
      "source": [
        "print(valid_df.shape)\n",
        "valid_df[:10]"
      ],
      "execution_count": 6,
      "outputs": [
        {
          "output_type": "stream",
          "text": [
            "(5000, 2)\n"
          ],
          "name": "stdout"
        },
        {
          "output_type": "execute_result",
          "data": {
            "text/html": [
              "<div>\n",
              "<style scoped>\n",
              "    .dataframe tbody tr th:only-of-type {\n",
              "        vertical-align: middle;\n",
              "    }\n",
              "\n",
              "    .dataframe tbody tr th {\n",
              "        vertical-align: top;\n",
              "    }\n",
              "\n",
              "    .dataframe thead th {\n",
              "        text-align: right;\n",
              "    }\n",
              "</style>\n",
              "<table border=\"1\" class=\"dataframe\">\n",
              "  <thead>\n",
              "    <tr style=\"text-align: right;\">\n",
              "      <th></th>\n",
              "      <th>text</th>\n",
              "      <th>label</th>\n",
              "    </tr>\n",
              "  </thead>\n",
              "  <tbody>\n",
              "    <tr>\n",
              "      <th>0</th>\n",
              "      <td>It's been about 14 years since Sharon Stone aw...</td>\n",
              "      <td>0</td>\n",
              "    </tr>\n",
              "    <tr>\n",
              "      <th>1</th>\n",
              "      <td>someone needed to make a car payment... this i...</td>\n",
              "      <td>0</td>\n",
              "    </tr>\n",
              "    <tr>\n",
              "      <th>2</th>\n",
              "      <td>The Guidelines state that a comment must conta...</td>\n",
              "      <td>0</td>\n",
              "    </tr>\n",
              "    <tr>\n",
              "      <th>3</th>\n",
              "      <td>This movie is a muddled mish-mash of clichés f...</td>\n",
              "      <td>0</td>\n",
              "    </tr>\n",
              "    <tr>\n",
              "      <th>4</th>\n",
              "      <td>Before Stan Laurel became the smaller half of ...</td>\n",
              "      <td>0</td>\n",
              "    </tr>\n",
              "    <tr>\n",
              "      <th>5</th>\n",
              "      <td>This is the best movie I've ever seen! &lt;br /&gt;&lt;...</td>\n",
              "      <td>1</td>\n",
              "    </tr>\n",
              "    <tr>\n",
              "      <th>6</th>\n",
              "      <td>The morbid Catholic writer Gerard Reve (Jeroen...</td>\n",
              "      <td>1</td>\n",
              "    </tr>\n",
              "    <tr>\n",
              "      <th>7</th>\n",
              "      <td>\"Semana Santa\" or \"Angel Of Death\" is a very w...</td>\n",
              "      <td>0</td>\n",
              "    </tr>\n",
              "    <tr>\n",
              "      <th>8</th>\n",
              "      <td>Somebody mastered the difficult task of mergin...</td>\n",
              "      <td>1</td>\n",
              "    </tr>\n",
              "    <tr>\n",
              "      <th>9</th>\n",
              "      <td>Why did I waste 1.5 hours of my life watching ...</td>\n",
              "      <td>0</td>\n",
              "    </tr>\n",
              "  </tbody>\n",
              "</table>\n",
              "</div>"
            ],
            "text/plain": [
              "                                                text  label\n",
              "0  It's been about 14 years since Sharon Stone aw...      0\n",
              "1  someone needed to make a car payment... this i...      0\n",
              "2  The Guidelines state that a comment must conta...      0\n",
              "3  This movie is a muddled mish-mash of clichés f...      0\n",
              "4  Before Stan Laurel became the smaller half of ...      0\n",
              "5  This is the best movie I've ever seen! <br /><...      1\n",
              "6  The morbid Catholic writer Gerard Reve (Jeroen...      1\n",
              "7  \"Semana Santa\" or \"Angel Of Death\" is a very w...      0\n",
              "8  Somebody mastered the difficult task of mergin...      1\n",
              "9  Why did I waste 1.5 hours of my life watching ...      0"
            ]
          },
          "metadata": {
            "tags": []
          },
          "execution_count": 6
        }
      ]
    },
    {
      "cell_type": "code",
      "metadata": {
        "colab": {
          "base_uri": "https://localhost:8080/",
          "height": 381
        },
        "id": "okOQZSiKYo5a",
        "outputId": "1cc7a52a-d3f6-4a3f-d5ad-d9b12d47c0cb"
      },
      "source": [
        "print(test_df.shape)\n",
        "test_df[:10]"
      ],
      "execution_count": 7,
      "outputs": [
        {
          "output_type": "stream",
          "text": [
            "(5000, 2)\n"
          ],
          "name": "stdout"
        },
        {
          "output_type": "execute_result",
          "data": {
            "text/html": [
              "<div>\n",
              "<style scoped>\n",
              "    .dataframe tbody tr th:only-of-type {\n",
              "        vertical-align: middle;\n",
              "    }\n",
              "\n",
              "    .dataframe tbody tr th {\n",
              "        vertical-align: top;\n",
              "    }\n",
              "\n",
              "    .dataframe thead th {\n",
              "        text-align: right;\n",
              "    }\n",
              "</style>\n",
              "<table border=\"1\" class=\"dataframe\">\n",
              "  <thead>\n",
              "    <tr style=\"text-align: right;\">\n",
              "      <th></th>\n",
              "      <th>text</th>\n",
              "      <th>label</th>\n",
              "    </tr>\n",
              "  </thead>\n",
              "  <tbody>\n",
              "    <tr>\n",
              "      <th>0</th>\n",
              "      <td>I always wrote this series off as being a comp...</td>\n",
              "      <td>0</td>\n",
              "    </tr>\n",
              "    <tr>\n",
              "      <th>1</th>\n",
              "      <td>1st watched 12/7/2002 - 3 out of 10(Dir-Steve ...</td>\n",
              "      <td>0</td>\n",
              "    </tr>\n",
              "    <tr>\n",
              "      <th>2</th>\n",
              "      <td>This movie was so poorly written and directed ...</td>\n",
              "      <td>0</td>\n",
              "    </tr>\n",
              "    <tr>\n",
              "      <th>3</th>\n",
              "      <td>The most interesting thing about Miryang (Secr...</td>\n",
              "      <td>1</td>\n",
              "    </tr>\n",
              "    <tr>\n",
              "      <th>4</th>\n",
              "      <td>when i first read about \"berlin am meer\" i did...</td>\n",
              "      <td>0</td>\n",
              "    </tr>\n",
              "    <tr>\n",
              "      <th>5</th>\n",
              "      <td>I saw this film on September 1st, 2005 in Indi...</td>\n",
              "      <td>1</td>\n",
              "    </tr>\n",
              "    <tr>\n",
              "      <th>6</th>\n",
              "      <td>I saw a screening of this movie last night. I ...</td>\n",
              "      <td>0</td>\n",
              "    </tr>\n",
              "    <tr>\n",
              "      <th>7</th>\n",
              "      <td>William Hurt may not be an American matinee id...</td>\n",
              "      <td>1</td>\n",
              "    </tr>\n",
              "    <tr>\n",
              "      <th>8</th>\n",
              "      <td>IT IS A PIECE OF CRAP! not funny at all. durin...</td>\n",
              "      <td>0</td>\n",
              "    </tr>\n",
              "    <tr>\n",
              "      <th>9</th>\n",
              "      <td>I'M BOUT IT(1997)&lt;br /&gt;&lt;br /&gt;Developed &amp; publi...</td>\n",
              "      <td>0</td>\n",
              "    </tr>\n",
              "  </tbody>\n",
              "</table>\n",
              "</div>"
            ],
            "text/plain": [
              "                                                text  label\n",
              "0  I always wrote this series off as being a comp...      0\n",
              "1  1st watched 12/7/2002 - 3 out of 10(Dir-Steve ...      0\n",
              "2  This movie was so poorly written and directed ...      0\n",
              "3  The most interesting thing about Miryang (Secr...      1\n",
              "4  when i first read about \"berlin am meer\" i did...      0\n",
              "5  I saw this film on September 1st, 2005 in Indi...      1\n",
              "6  I saw a screening of this movie last night. I ...      0\n",
              "7  William Hurt may not be an American matinee id...      1\n",
              "8  IT IS A PIECE OF CRAP! not funny at all. durin...      0\n",
              "9  I'M BOUT IT(1997)<br /><br />Developed & publi...      0"
            ]
          },
          "metadata": {
            "tags": []
          },
          "execution_count": 7
        }
      ]
    },
    {
      "cell_type": "code",
      "metadata": {
        "colab": {
          "base_uri": "https://localhost:8080/",
          "height": 300
        },
        "id": "Mf8mg-0yYvdA",
        "outputId": "9c6d5d3e-1b75-4592-a7ce-f552d1066c43"
      },
      "source": [
        "train_df.describe()"
      ],
      "execution_count": 8,
      "outputs": [
        {
          "output_type": "execute_result",
          "data": {
            "text/html": [
              "<div>\n",
              "<style scoped>\n",
              "    .dataframe tbody tr th:only-of-type {\n",
              "        vertical-align: middle;\n",
              "    }\n",
              "\n",
              "    .dataframe tbody tr th {\n",
              "        vertical-align: top;\n",
              "    }\n",
              "\n",
              "    .dataframe thead th {\n",
              "        text-align: right;\n",
              "    }\n",
              "</style>\n",
              "<table border=\"1\" class=\"dataframe\">\n",
              "  <thead>\n",
              "    <tr style=\"text-align: right;\">\n",
              "      <th></th>\n",
              "      <th>label</th>\n",
              "    </tr>\n",
              "  </thead>\n",
              "  <tbody>\n",
              "    <tr>\n",
              "      <th>count</th>\n",
              "      <td>40000.000000</td>\n",
              "    </tr>\n",
              "    <tr>\n",
              "      <th>mean</th>\n",
              "      <td>0.499525</td>\n",
              "    </tr>\n",
              "    <tr>\n",
              "      <th>std</th>\n",
              "      <td>0.500006</td>\n",
              "    </tr>\n",
              "    <tr>\n",
              "      <th>min</th>\n",
              "      <td>0.000000</td>\n",
              "    </tr>\n",
              "    <tr>\n",
              "      <th>25%</th>\n",
              "      <td>0.000000</td>\n",
              "    </tr>\n",
              "    <tr>\n",
              "      <th>50%</th>\n",
              "      <td>0.000000</td>\n",
              "    </tr>\n",
              "    <tr>\n",
              "      <th>75%</th>\n",
              "      <td>1.000000</td>\n",
              "    </tr>\n",
              "    <tr>\n",
              "      <th>max</th>\n",
              "      <td>1.000000</td>\n",
              "    </tr>\n",
              "  </tbody>\n",
              "</table>\n",
              "</div>"
            ],
            "text/plain": [
              "              label\n",
              "count  40000.000000\n",
              "mean       0.499525\n",
              "std        0.500006\n",
              "min        0.000000\n",
              "25%        0.000000\n",
              "50%        0.000000\n",
              "75%        1.000000\n",
              "max        1.000000"
            ]
          },
          "metadata": {
            "tags": []
          },
          "execution_count": 8
        }
      ]
    },
    {
      "cell_type": "code",
      "metadata": {
        "colab": {
          "base_uri": "https://localhost:8080/",
          "height": 300
        },
        "id": "D-IlNdFzbBbl",
        "outputId": "3e7b9279-7a02-4362-a365-7b568d77ad7a"
      },
      "source": [
        "valid_df.describe()"
      ],
      "execution_count": 9,
      "outputs": [
        {
          "output_type": "execute_result",
          "data": {
            "text/html": [
              "<div>\n",
              "<style scoped>\n",
              "    .dataframe tbody tr th:only-of-type {\n",
              "        vertical-align: middle;\n",
              "    }\n",
              "\n",
              "    .dataframe tbody tr th {\n",
              "        vertical-align: top;\n",
              "    }\n",
              "\n",
              "    .dataframe thead th {\n",
              "        text-align: right;\n",
              "    }\n",
              "</style>\n",
              "<table border=\"1\" class=\"dataframe\">\n",
              "  <thead>\n",
              "    <tr style=\"text-align: right;\">\n",
              "      <th></th>\n",
              "      <th>label</th>\n",
              "    </tr>\n",
              "  </thead>\n",
              "  <tbody>\n",
              "    <tr>\n",
              "      <th>count</th>\n",
              "      <td>5000.000000</td>\n",
              "    </tr>\n",
              "    <tr>\n",
              "      <th>mean</th>\n",
              "      <td>0.502800</td>\n",
              "    </tr>\n",
              "    <tr>\n",
              "      <th>std</th>\n",
              "      <td>0.500042</td>\n",
              "    </tr>\n",
              "    <tr>\n",
              "      <th>min</th>\n",
              "      <td>0.000000</td>\n",
              "    </tr>\n",
              "    <tr>\n",
              "      <th>25%</th>\n",
              "      <td>0.000000</td>\n",
              "    </tr>\n",
              "    <tr>\n",
              "      <th>50%</th>\n",
              "      <td>1.000000</td>\n",
              "    </tr>\n",
              "    <tr>\n",
              "      <th>75%</th>\n",
              "      <td>1.000000</td>\n",
              "    </tr>\n",
              "    <tr>\n",
              "      <th>max</th>\n",
              "      <td>1.000000</td>\n",
              "    </tr>\n",
              "  </tbody>\n",
              "</table>\n",
              "</div>"
            ],
            "text/plain": [
              "             label\n",
              "count  5000.000000\n",
              "mean      0.502800\n",
              "std       0.500042\n",
              "min       0.000000\n",
              "25%       0.000000\n",
              "50%       1.000000\n",
              "75%       1.000000\n",
              "max       1.000000"
            ]
          },
          "metadata": {
            "tags": []
          },
          "execution_count": 9
        }
      ]
    },
    {
      "cell_type": "code",
      "metadata": {
        "colab": {
          "base_uri": "https://localhost:8080/",
          "height": 300
        },
        "id": "xqPwAwo1bVfB",
        "outputId": "8774a7fa-b66b-47ff-8d67-52258aff7850"
      },
      "source": [
        "test_df.describe()"
      ],
      "execution_count": 10,
      "outputs": [
        {
          "output_type": "execute_result",
          "data": {
            "text/html": [
              "<div>\n",
              "<style scoped>\n",
              "    .dataframe tbody tr th:only-of-type {\n",
              "        vertical-align: middle;\n",
              "    }\n",
              "\n",
              "    .dataframe tbody tr th {\n",
              "        vertical-align: top;\n",
              "    }\n",
              "\n",
              "    .dataframe thead th {\n",
              "        text-align: right;\n",
              "    }\n",
              "</style>\n",
              "<table border=\"1\" class=\"dataframe\">\n",
              "  <thead>\n",
              "    <tr style=\"text-align: right;\">\n",
              "      <th></th>\n",
              "      <th>label</th>\n",
              "    </tr>\n",
              "  </thead>\n",
              "  <tbody>\n",
              "    <tr>\n",
              "      <th>count</th>\n",
              "      <td>5000.000000</td>\n",
              "    </tr>\n",
              "    <tr>\n",
              "      <th>mean</th>\n",
              "      <td>0.501000</td>\n",
              "    </tr>\n",
              "    <tr>\n",
              "      <th>std</th>\n",
              "      <td>0.500049</td>\n",
              "    </tr>\n",
              "    <tr>\n",
              "      <th>min</th>\n",
              "      <td>0.000000</td>\n",
              "    </tr>\n",
              "    <tr>\n",
              "      <th>25%</th>\n",
              "      <td>0.000000</td>\n",
              "    </tr>\n",
              "    <tr>\n",
              "      <th>50%</th>\n",
              "      <td>1.000000</td>\n",
              "    </tr>\n",
              "    <tr>\n",
              "      <th>75%</th>\n",
              "      <td>1.000000</td>\n",
              "    </tr>\n",
              "    <tr>\n",
              "      <th>max</th>\n",
              "      <td>1.000000</td>\n",
              "    </tr>\n",
              "  </tbody>\n",
              "</table>\n",
              "</div>"
            ],
            "text/plain": [
              "             label\n",
              "count  5000.000000\n",
              "mean      0.501000\n",
              "std       0.500049\n",
              "min       0.000000\n",
              "25%       0.000000\n",
              "50%       1.000000\n",
              "75%       1.000000\n",
              "max       1.000000"
            ]
          },
          "metadata": {
            "tags": []
          },
          "execution_count": 10
        }
      ]
    },
    {
      "cell_type": "markdown",
      "metadata": {
        "id": "31iwBxmbp1oG"
      },
      "source": [
        "## Pre-Processing Dataset"
      ]
    },
    {
      "cell_type": "markdown",
      "metadata": {
        "id": "JmsW4QoXqHkq"
      },
      "source": [
        "\r\n",
        "\r\n",
        "  Since this dataset scraped from the web, some HTML codes got mixed up with it. So, cleaning up these texts by removing HTML tags (by BeautifulSoup) is required. Removing numbers, punctuations, and stop words (by NLTK stop words set) would be beneficial. Also lemmatization is used.\r\n"
      ]
    },
    {
      "cell_type": "code",
      "metadata": {
        "colab": {
          "base_uri": "https://localhost:8080/"
        },
        "id": "9d-aGrOekGUw",
        "outputId": "2e8a0b05-a348-4943-859f-7985d8ead4e6"
      },
      "source": [
        "nltk.download('stopwords')"
      ],
      "execution_count": 11,
      "outputs": [
        {
          "output_type": "stream",
          "text": [
            "[nltk_data] Downloading package stopwords to /root/nltk_data...\n",
            "[nltk_data]   Package stopwords is already up-to-date!\n"
          ],
          "name": "stdout"
        },
        {
          "output_type": "execute_result",
          "data": {
            "text/plain": [
              "True"
            ]
          },
          "metadata": {
            "tags": []
          },
          "execution_count": 11
        }
      ]
    },
    {
      "cell_type": "code",
      "metadata": {
        "id": "-_EwyuZkbZAx"
      },
      "source": [
        "#Tokenization of text\n",
        "tokenizer=ToktokTokenizer()\n",
        "#Setting English stopwords\n",
        "stopword_list=nltk.corpus.stopwords.words('english')"
      ],
      "execution_count": 12,
      "outputs": []
    },
    {
      "cell_type": "code",
      "metadata": {
        "id": "VfBTkxjfjVlc"
      },
      "source": [
        "#Removing the html strips\n",
        "def strip_html(text):\n",
        "    soup = BeautifulSoup(text, \"html.parser\")\n",
        "    return soup.get_text()\n",
        "\n",
        "#Removing the square brackets\n",
        "def remove_between_square_brackets(text):\n",
        "    return re.sub('\\[[^]]*\\]', '', text)\n",
        "\n",
        "#Removing the noisy text\n",
        "def denoise_text(text):\n",
        "    text = strip_html(text)\n",
        "    text = remove_between_square_brackets(text)\n",
        "    return text\n",
        "\n",
        "#Apply function on review column\n",
        "train_df['text'] = train_df['text'].apply(denoise_text)\n",
        "valid_df['text'] = valid_df['text'].apply(denoise_text)\n",
        "test_df['text'] = test_df['text'].apply(denoise_text)"
      ],
      "execution_count": 13,
      "outputs": []
    },
    {
      "cell_type": "code",
      "metadata": {
        "id": "X9KDBy2dkYBv"
      },
      "source": [
        "#Define function for removing special characters\n",
        "def remove_special_characters(text, remove_digits=True):\n",
        "    pattern=r'[^a-zA-z0-9\\s]'\n",
        "    text = re.sub(r\"[0-9]+\", ' ', text)\n",
        "    text = re.sub(r\"-\", ' ', text)\n",
        "    text=re.sub(pattern,'',text)\n",
        "    return text\n",
        "\n",
        "#Apply function on review column\n",
        "train_df['text'] = train_df['text'].apply(remove_special_characters)\n",
        "valid_df['text'] = valid_df['text'].apply(remove_special_characters)\n",
        "test_df['text'] = test_df['text'].apply(remove_special_characters)"
      ],
      "execution_count": 14,
      "outputs": []
    },
    {
      "cell_type": "code",
      "metadata": {
        "colab": {
          "base_uri": "https://localhost:8080/"
        },
        "id": "vvMgJKFrtCNv",
        "outputId": "c6371464-d226-49a8-ced9-14520fcaafd5"
      },
      "source": [
        "nltk.download('wordnet')"
      ],
      "execution_count": 15,
      "outputs": [
        {
          "output_type": "stream",
          "text": [
            "[nltk_data] Downloading package wordnet to /root/nltk_data...\n",
            "[nltk_data]   Package wordnet is already up-to-date!\n"
          ],
          "name": "stdout"
        },
        {
          "output_type": "execute_result",
          "data": {
            "text/plain": [
              "True"
            ]
          },
          "metadata": {
            "tags": []
          },
          "execution_count": 15
        }
      ]
    },
    {
      "cell_type": "code",
      "metadata": {
        "id": "qX4JpXpgk88-"
      },
      "source": [
        "#lemmatizing the text\n",
        "def simple_lemmatizer(text):\n",
        "    wn = nltk.WordNetLemmatizer()\n",
        "    text = ' '.join([wn.lemmatize(word) for word in text.split()])\n",
        "    return text\n",
        "\n",
        "#Apply function on review column\n",
        "train_df['text'] = train_df['text'].apply(simple_lemmatizer)\n",
        "valid_df['text'] = valid_df['text'].apply(simple_lemmatizer)\n",
        "test_df['text'] = test_df['text'].apply(simple_lemmatizer)"
      ],
      "execution_count": 17,
      "outputs": []
    },
    {
      "cell_type": "code",
      "metadata": {
        "colab": {
          "base_uri": "https://localhost:8080/"
        },
        "id": "rkRzKMogly9B",
        "outputId": "3b76e287-52df-4674-e678-5146d1bbafcb"
      },
      "source": [
        "#set stopwords to english\n",
        "stop=set(stopwords.words('english'))\n",
        "print(stop)\n",
        "\n",
        "#removing the stopwords\n",
        "def remove_stopwords(text, is_lower_case=False):\n",
        "    tokens = tokenizer.tokenize(text)\n",
        "    tokens = [token.strip() for token in tokens]\n",
        "    if is_lower_case:\n",
        "        filtered_tokens = [token for token in tokens if token not in stopword_list]\n",
        "    else:\n",
        "        filtered_tokens = [token for token in tokens if token.lower() not in stopword_list]\n",
        "    filtered_text = ' '.join(filtered_tokens)    \n",
        "    return filtered_text\n",
        "\n",
        "#Apply function on review column\n",
        "train_df['text'] = train_df['text'].apply(remove_stopwords)\n",
        "valid_df['text'] = valid_df['text'].apply(remove_stopwords)\n",
        "test_df['text'] = test_df['text'].apply(remove_stopwords)"
      ],
      "execution_count": 18,
      "outputs": [
        {
          "output_type": "stream",
          "text": [
            "{\"weren't\", 'with', 'nor', 'isn', 'again', 'himself', 'how', 'who', 'hers', 'needn', 'their', \"should've\", 'what', 'which', \"don't\", 'them', 'herself', \"shouldn't\", 'down', \"wouldn't\", \"aren't\", \"doesn't\", 'wouldn', 'then', 'should', 'it', 'whom', 'to', 'd', 'up', 'him', 'this', 'myself', 'once', 'those', 'after', 'because', 'on', 'where', 'there', 'was', 're', 'me', 'our', 'wasn', 'y', 'shan', \"you've\", 'haven', 'being', \"isn't\", 'until', 'my', 'yours', 'during', 've', 'm', 'here', \"that'll\", 'by', 'below', 'yourself', 'mightn', 'just', \"mustn't\", 'the', 'from', \"shan't\", \"haven't\", 'won', 'ourselves', 'theirs', 'but', 'each', 'out', 'been', 'when', 'most', 'aren', 'had', \"won't\", 'he', 'between', 'more', 'her', 'now', 'ma', 'and', 'his', 'under', 'a', 'for', 'own', 'having', 'its', 'very', 'o', \"mightn't\", 'other', 'in', 'your', 'off', 'while', 'at', \"you'll\", 'about', 'has', 'shouldn', 'why', 'any', 'yourselves', 'over', 'these', 't', 'they', 'through', 'themselves', \"you'd\", 'as', 'not', 'do', 'doing', 'ours', 'didn', 'doesn', \"didn't\", 'both', \"wasn't\", 'she', \"you're\", 'only', 'are', 'be', 'or', 'that', 'you', 'am', 'if', 's', 'mustn', 'weren', 'than', 'above', 'such', 'same', 'hadn', 'don', 'does', \"it's\", 'i', 'itself', 'did', \"needn't\", 'so', 'an', 'were', 'too', 'all', 'few', \"hadn't\", 'further', \"hasn't\", 'some', 'ain', 'll', 'couldn', 'can', 'into', 'of', 'no', 'is', 'will', 'have', \"couldn't\", 'before', 'we', \"she's\", 'against', 'hasn'}\n"
          ],
          "name": "stdout"
        }
      ]
    },
    {
      "cell_type": "code",
      "metadata": {
        "colab": {
          "base_uri": "https://localhost:8080/",
          "height": 363
        },
        "id": "rGrbUpxAqHtu",
        "outputId": "6862ab70-dca0-45e8-f49d-5de131efb9a2"
      },
      "source": [
        "train_df[:10]"
      ],
      "execution_count": 19,
      "outputs": [
        {
          "output_type": "execute_result",
          "data": {
            "text/html": [
              "<div>\n",
              "<style scoped>\n",
              "    .dataframe tbody tr th:only-of-type {\n",
              "        vertical-align: middle;\n",
              "    }\n",
              "\n",
              "    .dataframe tbody tr th {\n",
              "        vertical-align: top;\n",
              "    }\n",
              "\n",
              "    .dataframe thead th {\n",
              "        text-align: right;\n",
              "    }\n",
              "</style>\n",
              "<table border=\"1\" class=\"dataframe\">\n",
              "  <thead>\n",
              "    <tr style=\"text-align: right;\">\n",
              "      <th></th>\n",
              "      <th>text</th>\n",
              "      <th>label</th>\n",
              "    </tr>\n",
              "  </thead>\n",
              "  <tbody>\n",
              "    <tr>\n",
              "      <th>0</th>\n",
              "      <td>grew b watching loving Thunderbirds mate schoo...</td>\n",
              "      <td>0</td>\n",
              "    </tr>\n",
              "    <tr>\n",
              "      <th>1</th>\n",
              "      <td>put movie DVD player sat coke chip expectation...</td>\n",
              "      <td>0</td>\n",
              "    </tr>\n",
              "    <tr>\n",
              "      <th>2</th>\n",
              "      <td>people know particular time past wa like feel ...</td>\n",
              "      <td>0</td>\n",
              "    </tr>\n",
              "    <tr>\n",
              "      <th>3</th>\n",
              "      <td>Even though great interest Biblical movie wa b...</td>\n",
              "      <td>0</td>\n",
              "    </tr>\n",
              "    <tr>\n",
              "      <th>4</th>\n",
              "      <td>Im die hard Dads Army fan nothing ever change ...</td>\n",
              "      <td>1</td>\n",
              "    </tr>\n",
              "    <tr>\n",
              "      <th>5</th>\n",
              "      <td>terrible movie everyone ha said made laugh wa ...</td>\n",
              "      <td>0</td>\n",
              "    </tr>\n",
              "    <tr>\n",
              "      <th>6</th>\n",
              "      <td>Finally watched shocking movie last night dist...</td>\n",
              "      <td>1</td>\n",
              "    </tr>\n",
              "    <tr>\n",
              "      <th>7</th>\n",
              "      <td>caught film AZN cable sounded like would good ...</td>\n",
              "      <td>0</td>\n",
              "    </tr>\n",
              "    <tr>\n",
              "      <th>8</th>\n",
              "      <td>may remake Autumns Tale eleven year director M...</td>\n",
              "      <td>1</td>\n",
              "    </tr>\n",
              "    <tr>\n",
              "      <th>9</th>\n",
              "      <td>Super Ex Girlfriend turned pleasant surprise w...</td>\n",
              "      <td>1</td>\n",
              "    </tr>\n",
              "  </tbody>\n",
              "</table>\n",
              "</div>"
            ],
            "text/plain": [
              "                                                text  label\n",
              "0  grew b watching loving Thunderbirds mate schoo...      0\n",
              "1  put movie DVD player sat coke chip expectation...      0\n",
              "2  people know particular time past wa like feel ...      0\n",
              "3  Even though great interest Biblical movie wa b...      0\n",
              "4  Im die hard Dads Army fan nothing ever change ...      1\n",
              "5  terrible movie everyone ha said made laugh wa ...      0\n",
              "6  Finally watched shocking movie last night dist...      1\n",
              "7  caught film AZN cable sounded like would good ...      0\n",
              "8  may remake Autumns Tale eleven year director M...      1\n",
              "9  Super Ex Girlfriend turned pleasant surprise w...      1"
            ]
          },
          "metadata": {
            "tags": []
          },
          "execution_count": 19
        }
      ]
    },
    {
      "cell_type": "code",
      "metadata": {
        "colab": {
          "base_uri": "https://localhost:8080/",
          "height": 363
        },
        "id": "S_N2S3BWmPjI",
        "outputId": "746befff-914f-4ab6-8fd8-534425cbc0e4"
      },
      "source": [
        "valid_df[:10]"
      ],
      "execution_count": 20,
      "outputs": [
        {
          "output_type": "execute_result",
          "data": {
            "text/html": [
              "<div>\n",
              "<style scoped>\n",
              "    .dataframe tbody tr th:only-of-type {\n",
              "        vertical-align: middle;\n",
              "    }\n",
              "\n",
              "    .dataframe tbody tr th {\n",
              "        vertical-align: top;\n",
              "    }\n",
              "\n",
              "    .dataframe thead th {\n",
              "        text-align: right;\n",
              "    }\n",
              "</style>\n",
              "<table border=\"1\" class=\"dataframe\">\n",
              "  <thead>\n",
              "    <tr style=\"text-align: right;\">\n",
              "      <th></th>\n",
              "      <th>text</th>\n",
              "      <th>label</th>\n",
              "    </tr>\n",
              "  </thead>\n",
              "  <tbody>\n",
              "    <tr>\n",
              "      <th>0</th>\n",
              "      <td>year since Sharon Stone awarded viewer leg cro...</td>\n",
              "      <td>0</td>\n",
              "    </tr>\n",
              "    <tr>\n",
              "      <th>1</th>\n",
              "      <td>someone needed make car payment truly awful ma...</td>\n",
              "      <td>0</td>\n",
              "    </tr>\n",
              "    <tr>\n",
              "      <th>2</th>\n",
              "      <td>Guidelines state comment must contain minimum ...</td>\n",
              "      <td>0</td>\n",
              "    </tr>\n",
              "    <tr>\n",
              "      <th>3</th>\n",
              "      <td>movie muddled mish mash clichs recent cinema p...</td>\n",
              "      <td>0</td>\n",
              "    </tr>\n",
              "    <tr>\n",
              "      <th>4</th>\n",
              "      <td>Stan Laurel became smaller half time greatest ...</td>\n",
              "      <td>0</td>\n",
              "    </tr>\n",
              "    <tr>\n",
              "      <th>5</th>\n",
              "      <td>best movie Ive ever seen Maybe live mile villa...</td>\n",
              "      <td>1</td>\n",
              "    </tr>\n",
              "    <tr>\n",
              "      <th>6</th>\n",
              "      <td>morbid Catholic writer Gerard Reve Jeroen Krab...</td>\n",
              "      <td>1</td>\n",
              "    </tr>\n",
              "    <tr>\n",
              "      <th>7</th>\n",
              "      <td>Semana Santa Angel Death weak movie Mira Sorvi...</td>\n",
              "      <td>0</td>\n",
              "    </tr>\n",
              "    <tr>\n",
              "      <th>8</th>\n",
              "      <td>Somebody mastered difficult task merging sport...</td>\n",
              "      <td>1</td>\n",
              "    </tr>\n",
              "    <tr>\n",
              "      <th>9</th>\n",
              "      <td>waste hour life watching wa film even made eve...</td>\n",
              "      <td>0</td>\n",
              "    </tr>\n",
              "  </tbody>\n",
              "</table>\n",
              "</div>"
            ],
            "text/plain": [
              "                                                text  label\n",
              "0  year since Sharon Stone awarded viewer leg cro...      0\n",
              "1  someone needed make car payment truly awful ma...      0\n",
              "2  Guidelines state comment must contain minimum ...      0\n",
              "3  movie muddled mish mash clichs recent cinema p...      0\n",
              "4  Stan Laurel became smaller half time greatest ...      0\n",
              "5  best movie Ive ever seen Maybe live mile villa...      1\n",
              "6  morbid Catholic writer Gerard Reve Jeroen Krab...      1\n",
              "7  Semana Santa Angel Death weak movie Mira Sorvi...      0\n",
              "8  Somebody mastered difficult task merging sport...      1\n",
              "9  waste hour life watching wa film even made eve...      0"
            ]
          },
          "metadata": {
            "tags": []
          },
          "execution_count": 20
        }
      ]
    },
    {
      "cell_type": "code",
      "metadata": {
        "colab": {
          "base_uri": "https://localhost:8080/",
          "height": 363
        },
        "id": "XjosmqflqNNY",
        "outputId": "38770ea2-3cc9-4e08-e69f-51ab2d515804"
      },
      "source": [
        "test_df[:10]"
      ],
      "execution_count": 21,
      "outputs": [
        {
          "output_type": "execute_result",
          "data": {
            "text/html": [
              "<div>\n",
              "<style scoped>\n",
              "    .dataframe tbody tr th:only-of-type {\n",
              "        vertical-align: middle;\n",
              "    }\n",
              "\n",
              "    .dataframe tbody tr th {\n",
              "        vertical-align: top;\n",
              "    }\n",
              "\n",
              "    .dataframe thead th {\n",
              "        text-align: right;\n",
              "    }\n",
              "</style>\n",
              "<table border=\"1\" class=\"dataframe\">\n",
              "  <thead>\n",
              "    <tr style=\"text-align: right;\">\n",
              "      <th></th>\n",
              "      <th>text</th>\n",
              "      <th>label</th>\n",
              "    </tr>\n",
              "  </thead>\n",
              "  <tbody>\n",
              "    <tr>\n",
              "      <th>0</th>\n",
              "      <td>always wrote series complete stink fest Jim Be...</td>\n",
              "      <td>0</td>\n",
              "    </tr>\n",
              "    <tr>\n",
              "      <th>1</th>\n",
              "      <td>st watched Dir Steve Purcell Typical Mary Kate...</td>\n",
              "      <td>0</td>\n",
              "    </tr>\n",
              "    <tr>\n",
              "      <th>2</th>\n",
              "      <td>movie wa poorly written directed fell asleep m...</td>\n",
              "      <td>0</td>\n",
              "    </tr>\n",
              "    <tr>\n",
              "      <th>3</th>\n",
              "      <td>interesting thing Miryang Secret Sunshine acto...</td>\n",
              "      <td>1</td>\n",
              "    </tr>\n",
              "    <tr>\n",
              "      <th>4</th>\n",
              "      <td>first read berlin meer didnt expect much thoug...</td>\n",
              "      <td>0</td>\n",
              "    </tr>\n",
              "    <tr>\n",
              "      <th>5</th>\n",
              "      <td>saw film September st Indianapolis one judge H...</td>\n",
              "      <td>1</td>\n",
              "    </tr>\n",
              "    <tr>\n",
              "      <th>6</th>\n",
              "      <td>saw screening movie last night high expectatio...</td>\n",
              "      <td>0</td>\n",
              "    </tr>\n",
              "    <tr>\n",
              "      <th>7</th>\n",
              "      <td>William Hurt may American matinee idol anymore...</td>\n",
              "      <td>1</td>\n",
              "    </tr>\n",
              "    <tr>\n",
              "      <th>8</th>\n",
              "      <td>PIECE CRAP funny whole movie nothing ever happ...</td>\n",
              "      <td>0</td>\n",
              "    </tr>\n",
              "    <tr>\n",
              "      <th>9</th>\n",
              "      <td>IM BOUT Developed published Limit FilmsPros Ab...</td>\n",
              "      <td>0</td>\n",
              "    </tr>\n",
              "  </tbody>\n",
              "</table>\n",
              "</div>"
            ],
            "text/plain": [
              "                                                text  label\n",
              "0  always wrote series complete stink fest Jim Be...      0\n",
              "1  st watched Dir Steve Purcell Typical Mary Kate...      0\n",
              "2  movie wa poorly written directed fell asleep m...      0\n",
              "3  interesting thing Miryang Secret Sunshine acto...      1\n",
              "4  first read berlin meer didnt expect much thoug...      0\n",
              "5  saw film September st Indianapolis one judge H...      1\n",
              "6  saw screening movie last night high expectatio...      0\n",
              "7  William Hurt may American matinee idol anymore...      1\n",
              "8  PIECE CRAP funny whole movie nothing ever happ...      0\n",
              "9  IM BOUT Developed published Limit FilmsPros Ab...      0"
            ]
          },
          "metadata": {
            "tags": []
          },
          "execution_count": 21
        }
      ]
    },
    {
      "cell_type": "markdown",
      "metadata": {
        "id": "4baIWnwpyUii"
      },
      "source": [
        "# BOW and TF-IDF"
      ]
    },
    {
      "cell_type": "markdown",
      "metadata": {
        "id": "DgfMMBAcy0yF"
      },
      "source": [
        "**BOW:**\r\n",
        "\r\n",
        "  In this approach, we make a list of all the unique words in training data called the vocabulary. then, given an input text, we create a fixed numerical vector that counts each word of the vocabulary. To use BOW embedding in Python, we can use the CountVectorizer function from the scikit-learn library.\r\n",
        "\r\n",
        "**TF-IDF:**\r\n",
        "\r\n",
        "  The tf–idf is the product of two statistics, frequency of x in y and logarithm for the product of total number of documents and inverse number of documents containing x.\r\n",
        "\r\n",
        "  Despite the simplicity and low time complexity, BOW and TF-IDF have two major drawbacks. First, as the size of the data and the number of unique words in the training text increases, their length of vectors becomes much larger. Moreover, in these two approaches, only words and their repetitions are important and the order of the words in the text will not be considered in the model. Hence, we have considered both Word2Vec and BERT embedding approaches to our experiments.\r\n"
      ]
    },
    {
      "cell_type": "markdown",
      "metadata": {
        "id": "hiY7OqzFiUAk"
      },
      "source": [
        "## Naive Bayes"
      ]
    },
    {
      "cell_type": "code",
      "metadata": {
        "id": "9-J3-jtoqQZd",
        "colab": {
          "base_uri": "https://localhost:8080/"
        },
        "outputId": "4741c41b-7e81-4059-d8ac-aa3fe0f1b162"
      },
      "source": [
        "#Count vectorizer for bag of words\n",
        "NB_cv = CountVectorizer(binary=False, max_features=6000)\n",
        "\n",
        "#transformed train reviews\n",
        "NB_cv_train_reviews = NB_cv.fit_transform(train_df['text'])\n",
        "#transformed valid reviews\n",
        "#NB_cv_valid_reviews = NB_cv.fit_transform(valid_df['text'])\n",
        "#transformed test reviews\n",
        "NB_cv_test_reviews = NB_cv.transform(test_df['text'])\n",
        "\n",
        "print('NB_BOW_cv_train:', NB_cv_train_reviews.shape)\n",
        "#print('NB_BOW_cv_valid:', NB_cv_valid_reviews.shape)\n",
        "print('NB_BOW_cv_test:', NB_cv_test_reviews.shape)\n",
        "#vocab=cv.get_feature_names()-toget feature names"
      ],
      "execution_count": 22,
      "outputs": [
        {
          "output_type": "stream",
          "text": [
            "NB_BOW_cv_train: (40000, 6000)\n",
            "NB_BOW_cv_test: (5000, 6000)\n"
          ],
          "name": "stdout"
        }
      ]
    },
    {
      "cell_type": "code",
      "metadata": {
        "id": "bUy6B2avPYCe",
        "colab": {
          "base_uri": "https://localhost:8080/"
        },
        "outputId": "53326ce1-43b9-4724-aae5-bfa651cc9621"
      },
      "source": [
        "#Tfidf vectorizer\n",
        "NB_tv = TfidfVectorizer(max_features=6000)\n",
        "\n",
        "#transformed train reviews\n",
        "NB_tv_train_reviews=NB_tv.fit_transform(train_df['text'])\n",
        "#transformed valid reviews\n",
        "#NB_tv_valid_reviews = NB_tv.fit_transform(valid_df['text'])\n",
        "#transformed test reviews\n",
        "NB_tv_test_reviews=NB_tv.transform(test_df['text'])\n",
        "\n",
        "print('Tfidf_train:',NB_tv_train_reviews.shape)\n",
        "#print('Tfidf_valid:',NB_tv_valid_reviews.shape)\n",
        "print('Tfidf_test:',NB_tv_test_reviews.shape)"
      ],
      "execution_count": 23,
      "outputs": [
        {
          "output_type": "stream",
          "text": [
            "Tfidf_train: (40000, 6000)\n",
            "Tfidf_test: (5000, 6000)\n"
          ],
          "name": "stdout"
        }
      ]
    },
    {
      "cell_type": "code",
      "metadata": {
        "id": "FFZ9YT8KhINA",
        "colab": {
          "base_uri": "https://localhost:8080/"
        },
        "outputId": "c04611f5-1a08-4815-8ffb-e10518b2e448"
      },
      "source": [
        "#training the model\n",
        "bnb = BernoulliNB()\n",
        "\n",
        "#fitting the model for bag of words\n",
        "bnb_bow = bnb.fit(NB_cv_train_reviews.toarray(), train_df['label'])\n",
        "print(bnb_bow)\n",
        "\n",
        "#fitting the model for tfidf features\n",
        "bnb_tfidf = bnb.fit(NB_tv_train_reviews.toarray(), train_df['label'])\n",
        "print(bnb_tfidf)"
      ],
      "execution_count": 24,
      "outputs": [
        {
          "output_type": "stream",
          "text": [
            "BernoulliNB(alpha=1.0, binarize=0.0, class_prior=None, fit_prior=True)\n",
            "BernoulliNB(alpha=1.0, binarize=0.0, class_prior=None, fit_prior=True)\n"
          ],
          "name": "stdout"
        }
      ]
    },
    {
      "cell_type": "code",
      "metadata": {
        "id": "EA8jbd1c9sEe",
        "colab": {
          "base_uri": "https://localhost:8080/"
        },
        "outputId": "a9f7e70a-5ad4-49a0-be4c-50f807643660"
      },
      "source": [
        "#Predicting the model for bag of words\n",
        "bnb_bow_predict = bnb.predict(NB_cv_test_reviews.toarray())\n",
        "print(bnb_bow_predict)\n",
        "\n",
        "#Predicting the model for tfidf features\n",
        "bnb_tfidf_predict = bnb.predict(NB_tv_test_reviews.toarray())\n",
        "print(bnb_tfidf_predict)"
      ],
      "execution_count": 25,
      "outputs": [
        {
          "output_type": "stream",
          "text": [
            "[0 0 0 ... 0 0 1]\n",
            "[0 0 0 ... 0 0 1]\n"
          ],
          "name": "stdout"
        }
      ]
    },
    {
      "cell_type": "code",
      "metadata": {
        "id": "QXx_K_4l9xwU",
        "colab": {
          "base_uri": "https://localhost:8080/",
          "height": 90
        },
        "outputId": "c2cac75e-1c47-4d2b-fd97-523b53a1a73d"
      },
      "source": [
        "#Accuracy score for bag of words\n",
        "bnb_bow_score = accuracy_score(test_df['label'], bnb_bow_predict)\n",
        "print(\"bnb_bow_score :\",bnb_bow_score)\n",
        "\n",
        "#Accuracy score for tfidf features\n",
        "bnb_tfidf_score = accuracy_score(test_df['label'], bnb_tfidf_predict)\n",
        "print(\"bnb_tfidf_score :\",bnb_tfidf_score)\n",
        "'''\n",
        "7000:\n",
        "bnb_bow_score : 0.8582\n",
        "bnb_tfidf_score : 0.8582\n",
        "6000:\n",
        "bnb_bow_score : 0.8622\n",
        "bnb_tfidf_score : 0.8622\n",
        "5000:\n",
        "bnb_bow_score : 0.86\n",
        "bnb_tfidf_score : 0.86\n",
        "'''"
      ],
      "execution_count": 26,
      "outputs": [
        {
          "output_type": "stream",
          "text": [
            "bnb_bow_score : 0.857\n",
            "bnb_tfidf_score : 0.857\n"
          ],
          "name": "stdout"
        },
        {
          "output_type": "execute_result",
          "data": {
            "application/vnd.google.colaboratory.intrinsic+json": {
              "type": "string"
            },
            "text/plain": [
              "'\\n7000:\\nbnb_bow_score : 0.8582\\nbnb_tfidf_score : 0.8582\\n6000:\\nbnb_bow_score : 0.8622\\nbnb_tfidf_score : 0.8622\\n5000:\\nbnb_bow_score : 0.86\\nbnb_tfidf_score : 0.86\\n'"
            ]
          },
          "metadata": {
            "tags": []
          },
          "execution_count": 26
        }
      ]
    },
    {
      "cell_type": "code",
      "metadata": {
        "id": "fN2QclOe934g",
        "colab": {
          "base_uri": "https://localhost:8080/"
        },
        "outputId": "00c5dd0d-0793-4ddb-e8ea-115c6b000385"
      },
      "source": [
        "#Classification report for bag of words \n",
        "bnb_bow_report = classification_report(test_df['label'], bnb_bow_predict, target_names=['Positive', 'Negative'])\n",
        "print(bnb_bow_report)\n",
        "\n",
        "#Classification report for tfidf features\n",
        "bnb_tfidf_report = classification_report(test_df['label'], bnb_tfidf_predict, target_names=['Positive', 'Negative'])\n",
        "print(bnb_tfidf_report)"
      ],
      "execution_count": 27,
      "outputs": [
        {
          "output_type": "stream",
          "text": [
            "              precision    recall  f1-score   support\n",
            "\n",
            "    Positive       0.86      0.86      0.86      2495\n",
            "    Negative       0.86      0.86      0.86      2505\n",
            "\n",
            "    accuracy                           0.86      5000\n",
            "   macro avg       0.86      0.86      0.86      5000\n",
            "weighted avg       0.86      0.86      0.86      5000\n",
            "\n",
            "              precision    recall  f1-score   support\n",
            "\n",
            "    Positive       0.86      0.86      0.86      2495\n",
            "    Negative       0.86      0.86      0.86      2505\n",
            "\n",
            "    accuracy                           0.86      5000\n",
            "   macro avg       0.86      0.86      0.86      5000\n",
            "weighted avg       0.86      0.86      0.86      5000\n",
            "\n"
          ],
          "name": "stdout"
        }
      ]
    },
    {
      "cell_type": "code",
      "metadata": {
        "id": "sFBE_CiZ94bb",
        "colab": {
          "base_uri": "https://localhost:8080/"
        },
        "outputId": "a39b42d0-deb0-4fc1-8f11-8f63aa985dcd"
      },
      "source": [
        "#confusion matrix for bag of words\n",
        "bnb_cm_bow = confusion_matrix(test_df['label'], bnb_bow_predict, labels=[1,0])\n",
        "print(bnb_cm_bow)\n",
        "\n",
        "#confusion matrix for tfidf features\n",
        "bnb_cm_tfidf = confusion_matrix(test_df['label'], bnb_tfidf_predict, labels=[1,0])\n",
        "print(bnb_cm_tfidf)"
      ],
      "execution_count": 28,
      "outputs": [
        {
          "output_type": "stream",
          "text": [
            "[[2145  360]\n",
            " [ 355 2140]]\n",
            "[[2145  360]\n",
            " [ 355 2140]]\n"
          ],
          "name": "stdout"
        }
      ]
    },
    {
      "cell_type": "code",
      "metadata": {
        "colab": {
          "base_uri": "https://localhost:8080/",
          "height": 297
        },
        "id": "Zj5uT_8gssPL",
        "outputId": "42a1c9b4-e626-4ed3-d38d-20df54c25135"
      },
      "source": [
        "# BOW\r\n",
        "plot_roc_curve(bnb_bow, NB_cv_test_reviews.toarray(), test_df['label'])"
      ],
      "execution_count": 29,
      "outputs": [
        {
          "output_type": "execute_result",
          "data": {
            "text/plain": [
              "<sklearn.metrics._plot.roc_curve.RocCurveDisplay at 0x7f67a5d28e10>"
            ]
          },
          "metadata": {
            "tags": []
          },
          "execution_count": 29
        },
        {
          "output_type": "display_data",
          "data": {
            "image/png": "[encoded data removed]",
            "text/plain": [
              "<Figure size 432x288 with 1 Axes>"
            ]
          },
          "metadata": {
            "tags": [],
            "needs_background": "light"
          }
        }
      ]
    },
    {
      "cell_type": "code",
      "metadata": {
        "colab": {
          "base_uri": "https://localhost:8080/",
          "height": 297
        },
        "id": "fNXwSsiXAXXk",
        "outputId": "53f83c75-98e9-4850-e58e-1f7febcd84b9"
      },
      "source": [
        "# TFIDF\r\n",
        "plot_roc_curve(bnb_tfidf, NB_tv_test_reviews.toarray(), test_df['label'])"
      ],
      "execution_count": 30,
      "outputs": [
        {
          "output_type": "execute_result",
          "data": {
            "text/plain": [
              "<sklearn.metrics._plot.roc_curve.RocCurveDisplay at 0x7f67a101e0b8>"
            ]
          },
          "metadata": {
            "tags": []
          },
          "execution_count": 30
        },
        {
          "output_type": "display_data",
          "data": {
            "image/png": "[encoded data removed]",
            "text/plain": [
              "<Figure size 432x288 with 1 Axes>"
            ]
          },
          "metadata": {
            "tags": [],
            "needs_background": "light"
          }
        }
      ]
    },
    {
      "cell_type": "markdown",
      "metadata": {
        "id": "Cwt5g6m5JAUm"
      },
      "source": [
        "## Linear SVM"
      ]
    },
    {
      "cell_type": "code",
      "metadata": {
        "colab": {
          "base_uri": "https://localhost:8080/"
        },
        "id": "PyBEYEgQUpc8",
        "outputId": "6616ee5a-aa0b-4178-f1d0-5224daeab600"
      },
      "source": [
        "#Count vectorizer for bag of words\n",
        "Linear_SVM_cv = CountVectorizer(binary=False, max_features=6000)\n",
        "\n",
        "#transformed train reviews\n",
        "Linear_SVM_cv_train_reviews = Linear_SVM_cv.fit_transform(train_df['text'])\n",
        "#transformed valid reviews\n",
        "#Linear_SVM_cv_valid_reviews = Linear_SVM_cv.fit_transform(valid_df['text'])\n",
        "#transformed test reviews\n",
        "Linear_SVM_cv_test_reviews = Linear_SVM_cv.transform(test_df['text'])\n",
        "\n",
        "print('Linear_SVM_BOW_cv_train:', Linear_SVM_cv_train_reviews.shape)\n",
        "#print('Linear_SVM_BOW_cv_valid:', Linear_SVM_cv_valid_reviews.shape)\n",
        "print('Linear_SVM_BOW_cv_test:', Linear_SVM_cv_test_reviews.shape)\n",
        "#vocab=cv.get_feature_names()-toget feature names"
      ],
      "execution_count": 31,
      "outputs": [
        {
          "output_type": "stream",
          "text": [
            "Linear_SVM_BOW_cv_train: (40000, 6000)\n",
            "Linear_SVM_BOW_cv_test: (5000, 6000)\n"
          ],
          "name": "stdout"
        }
      ]
    },
    {
      "cell_type": "code",
      "metadata": {
        "colab": {
          "base_uri": "https://localhost:8080/"
        },
        "id": "D0X19KvmUpdS",
        "outputId": "dcb69a01-096d-4c3d-b257-5901e994f639"
      },
      "source": [
        "#Tfidf vectorizer\n",
        "Linear_SVM_tv = TfidfVectorizer(max_features=6000)\n",
        "\n",
        "#transformed train reviews\n",
        "Linear_SVM_tv_train_reviews=Linear_SVM_tv.fit_transform(train_df['text'])\n",
        "#transformed valid reviews\n",
        "#Linear_SVM_tv_valid_reviews = Linear_SVM_tv.fit_transform(valid_df['text'])\n",
        "#transformed test reviews\n",
        "Linear_SVM_tv_test_reviews=Linear_SVM_tv.transform(test_df['text'])\n",
        "\n",
        "print('Tfidf_train:',Linear_SVM_tv_train_reviews.shape)\n",
        "#print('Tfidf_valid:',Linear_SVM_tv_valid_reviews.shape)\n",
        "print('Tfidf_test:',Linear_SVM_tv_test_reviews.shape)"
      ],
      "execution_count": 32,
      "outputs": [
        {
          "output_type": "stream",
          "text": [
            "Tfidf_train: (40000, 6000)\n",
            "Tfidf_test: (5000, 6000)\n"
          ],
          "name": "stdout"
        }
      ]
    },
    {
      "cell_type": "code",
      "metadata": {
        "colab": {
          "base_uri": "https://localhost:8080/"
        },
        "id": "qNyR4nI7JpXF",
        "outputId": "1be5cf61-2ce5-4f56-c221-4326e574849a"
      },
      "source": [
        "#training the model\n",
        "svm_linear = LinearSVC(verbose=1, max_iter=5000, loss='hinge')\n",
        "\n",
        "#fitting the model for bag of words\n",
        "svm_linear_bow = svm_linear.fit(Linear_SVM_cv_train_reviews,train_df['label'])\n",
        "print(svm_linear_bow)\n",
        "\n",
        "#fitting the model for tfidf features\n",
        "svm_linear_tfidf = svm_linear.fit(Linear_SVM_tv_train_reviews,train_df['label'])\n",
        "print(svm_linear_tfidf)"
      ],
      "execution_count": 33,
      "outputs": [
        {
          "output_type": "stream",
          "text": [
            "[LibLinear]LinearSVC(C=1.0, class_weight=None, dual=True, fit_intercept=True,\n",
            "          intercept_scaling=1, loss='hinge', max_iter=5000, multi_class='ovr',\n",
            "          penalty='l2', random_state=None, tol=0.0001, verbose=1)\n",
            "[LibLinear]LinearSVC(C=1.0, class_weight=None, dual=True, fit_intercept=True,\n",
            "          intercept_scaling=1, loss='hinge', max_iter=5000, multi_class='ovr',\n",
            "          penalty='l2', random_state=None, tol=0.0001, verbose=1)\n"
          ],
          "name": "stdout"
        }
      ]
    },
    {
      "cell_type": "code",
      "metadata": {
        "colab": {
          "base_uri": "https://localhost:8080/"
        },
        "id": "ezmVM12OJpXH",
        "outputId": "64ef4931-4098-406d-ecba-714cf63e86c6"
      },
      "source": [
        "#Predicting the model for bag of words\n",
        "svm_linear_bow_predict = svm_linear.predict(Linear_SVM_cv_test_reviews)\n",
        "print(svm_linear_bow_predict)\n",
        "\n",
        "#Predicting the model for tfidf features\n",
        "svm_linear_tfidf_predict = svm_linear.predict(Linear_SVM_tv_test_reviews)\n",
        "print(svm_linear_tfidf_predict)"
      ],
      "execution_count": 34,
      "outputs": [
        {
          "output_type": "stream",
          "text": [
            "[1 0 0 ... 0 0 0]\n",
            "[1 0 0 ... 0 0 0]\n"
          ],
          "name": "stdout"
        }
      ]
    },
    {
      "cell_type": "code",
      "metadata": {
        "colab": {
          "base_uri": "https://localhost:8080/",
          "height": 108
        },
        "id": "w9yr8t9aJpXI",
        "outputId": "c1a4043f-4503-4321-9897-297f157749bd"
      },
      "source": [
        "#Accuracy score for bag of words\n",
        "svm_linear_bow_score = accuracy_score(test_df['label'], svm_linear_bow_predict)\n",
        "print(\"svm_linear_bow_score :\",svm_linear_bow_score)\n",
        "\n",
        "#Accuracy score for tfidf features\n",
        "svm_linear_tfidf_score = accuracy_score(test_df['label'], svm_linear_tfidf_predict)\n",
        "print(\"svm_linear_tfidf_score :\",svm_linear_tfidf_score)\n",
        "'''\n",
        "1500:\n",
        "svm_linear_bow_score : 0.8378\n",
        "svm_linear_tfidf_score : 0.8424\n",
        "2500:\n",
        "svm_linear_bow_score : 0.8434\n",
        "svm_linear_tfidf_score : 0.8506\n",
        "3500:\n",
        "svm_linear_bow_score : 0.8416\n",
        "svm_linear_tfidf_score : 0.8558\n",
        "4500:\n",
        "svm_linear_bow_score : 0.8454\n",
        "svm_linear_tfidf_score : 0.8556\n",
        "'''"
      ],
      "execution_count": 35,
      "outputs": [
        {
          "output_type": "stream",
          "text": [
            "svm_linear_bow_score : 0.876\n",
            "svm_linear_tfidf_score : 0.8856\n"
          ],
          "name": "stdout"
        },
        {
          "output_type": "execute_result",
          "data": {
            "application/vnd.google.colaboratory.intrinsic+json": {
              "type": "string"
            },
            "text/plain": [
              "'\\n1500:\\nsvm_linear_bow_score : 0.8378\\nsvm_linear_tfidf_score : 0.8424\\n2500:\\nsvm_linear_bow_score : 0.8434\\nsvm_linear_tfidf_score : 0.8506\\n3500:\\nsvm_linear_bow_score : 0.8416\\nsvm_linear_tfidf_score : 0.8558\\n4500:\\nsvm_linear_bow_score : 0.8454\\nsvm_linear_tfidf_score : 0.8556\\n'"
            ]
          },
          "metadata": {
            "tags": []
          },
          "execution_count": 35
        }
      ]
    },
    {
      "cell_type": "code",
      "metadata": {
        "colab": {
          "base_uri": "https://localhost:8080/"
        },
        "id": "MbvzkX1kJpXJ",
        "outputId": "d1067255-9d5c-4558-ca80-24d2b1742783"
      },
      "source": [
        "#Classification report for bag of words \n",
        "svm_linear_bow_report = classification_report(test_df['label'], svm_linear_bow_predict, target_names=['Positive', 'Negative'])\n",
        "print(svm_linear_bow_report)\n",
        "\n",
        "#Classification report for tfidf features\n",
        "svm_linear_tfidf_report = classification_report(test_df['label'], svm_linear_tfidf_predict, target_names=['Positive', 'Negative'])\n",
        "print(svm_linear_tfidf_report)"
      ],
      "execution_count": 36,
      "outputs": [
        {
          "output_type": "stream",
          "text": [
            "              precision    recall  f1-score   support\n",
            "\n",
            "    Positive       0.90      0.84      0.87      2495\n",
            "    Negative       0.85      0.91      0.88      2505\n",
            "\n",
            "    accuracy                           0.88      5000\n",
            "   macro avg       0.88      0.88      0.88      5000\n",
            "weighted avg       0.88      0.88      0.88      5000\n",
            "\n",
            "              precision    recall  f1-score   support\n",
            "\n",
            "    Positive       0.89      0.88      0.88      2495\n",
            "    Negative       0.88      0.89      0.89      2505\n",
            "\n",
            "    accuracy                           0.89      5000\n",
            "   macro avg       0.89      0.89      0.89      5000\n",
            "weighted avg       0.89      0.89      0.89      5000\n",
            "\n"
          ],
          "name": "stdout"
        }
      ]
    },
    {
      "cell_type": "code",
      "metadata": {
        "colab": {
          "base_uri": "https://localhost:8080/"
        },
        "id": "sa0ddaypJpXJ",
        "outputId": "bf1c8c60-187e-4194-a861-09c7d5d7fbfe"
      },
      "source": [
        "#confusion matrix for bag of words\n",
        "svm_linear_cm_bow = confusion_matrix(test_df['label'], svm_linear_bow_predict, labels=[1,0])\n",
        "print(svm_linear_cm_bow)\n",
        "\n",
        "#confusion matrix for tfidf features\n",
        "svm_linear_cm_tfidf = confusion_matrix(test_df['label'], svm_linear_tfidf_predict, labels=[1,0])\n",
        "print(svm_linear_cm_tfidf)"
      ],
      "execution_count": 37,
      "outputs": [
        {
          "output_type": "stream",
          "text": [
            "[[2272  233]\n",
            " [ 387 2108]]\n",
            "[[2236  269]\n",
            " [ 303 2192]]\n"
          ],
          "name": "stdout"
        }
      ]
    },
    {
      "cell_type": "code",
      "metadata": {
        "colab": {
          "base_uri": "https://localhost:8080/",
          "height": 297
        },
        "id": "l_O7e9tYB7Tg",
        "outputId": "8fd1432e-6d1f-499c-971f-d2d6ebef3da0"
      },
      "source": [
        "# BOW\r\n",
        "plot_roc_curve(svm_linear_bow, Linear_SVM_cv_test_reviews.toarray(), test_df['label'])"
      ],
      "execution_count": 38,
      "outputs": [
        {
          "output_type": "execute_result",
          "data": {
            "text/plain": [
              "<sklearn.metrics._plot.roc_curve.RocCurveDisplay at 0x7f67a114fc88>"
            ]
          },
          "metadata": {
            "tags": []
          },
          "execution_count": 38
        },
        {
          "output_type": "display_data",
          "data": {
            "image/png": "[encoded data removed]",
            "text/plain": [
              "<Figure size 432x288 with 1 Axes>"
            ]
          },
          "metadata": {
            "tags": [],
            "needs_background": "light"
          }
        }
      ]
    },
    {
      "cell_type": "code",
      "metadata": {
        "colab": {
          "base_uri": "https://localhost:8080/",
          "height": 297
        },
        "id": "Um9PBSBqBmks",
        "outputId": "d22eb1b8-d5e0-4f7d-e3e0-1a9ece04595f"
      },
      "source": [
        "# TFIDF\r\n",
        "plot_roc_curve(svm_linear_tfidf, Linear_SVM_tv_test_reviews.toarray(), test_df['label'])"
      ],
      "execution_count": 39,
      "outputs": [
        {
          "output_type": "execute_result",
          "data": {
            "text/plain": [
              "<sklearn.metrics._plot.roc_curve.RocCurveDisplay at 0x7f679bc19a90>"
            ]
          },
          "metadata": {
            "tags": []
          },
          "execution_count": 39
        },
        {
          "output_type": "display_data",
          "data": {
            "image/png": "[encoded data removed]",
            "text/plain": [
              "<Figure size 432x288 with 1 Axes>"
            ]
          },
          "metadata": {
            "tags": [],
            "needs_background": "light"
          }
        }
      ]
    },
    {
      "cell_type": "markdown",
      "metadata": {
        "id": "297k06EXLjh_"
      },
      "source": [
        "## SVM with RBF kernel"
      ]
    },
    {
      "cell_type": "code",
      "metadata": {
        "colab": {
          "base_uri": "https://localhost:8080/"
        },
        "id": "JlpMeKPZf3hM",
        "outputId": "346062f8-2826-437d-eaa5-75b74e55ca41"
      },
      "source": [
        "#Count vectorizer for bag of words\n",
        "RBF_SVM_cv = CountVectorizer(binary=False, max_features=6000)\n",
        "\n",
        "#transformed train reviews\n",
        "RBF_SVM_cv_train_reviews = RBF_SVM_cv.fit_transform(train_df['text'])\n",
        "#transformed valid reviews\n",
        "RBF_SVM_cv_valid_reviews = RBF_SVM_cv.fit_transform(valid_df['text'])\n",
        "#transformed test reviews\n",
        "RBF_SVM_cv_test_reviews = RBF_SVM_cv.transform(test_df['text'])\n",
        "\n",
        "print('RBF_SVM_BOW_cv_train:', RBF_SVM_cv_train_reviews.shape)\n",
        "print('RBF_SVM_BOW_cv_valid:', RBF_SVM_cv_valid_reviews.shape)\n",
        "print('RBF_SVM_BOW_cv_test:', RBF_SVM_cv_test_reviews.shape)\n",
        "#vocab=cv.get_feature_names()-toget feature names"
      ],
      "execution_count": 40,
      "outputs": [
        {
          "output_type": "stream",
          "text": [
            "RBF_SVM_BOW_cv_train: (40000, 6000)\n",
            "RBF_SVM_BOW_cv_valid: (5000, 6000)\n",
            "RBF_SVM_BOW_cv_test: (5000, 6000)\n"
          ],
          "name": "stdout"
        }
      ]
    },
    {
      "cell_type": "code",
      "metadata": {
        "colab": {
          "base_uri": "https://localhost:8080/"
        },
        "id": "74pR9vvPf3mE",
        "outputId": "2cc4901b-b803-468d-fdab-2e6e1b5055c5"
      },
      "source": [
        "#Tfidf vectorizer\n",
        "RBF_SVM_tv = TfidfVectorizer(max_features=6000)\n",
        "\n",
        "#transformed train reviews\n",
        "RBF_SVM_tv_train_reviews=RBF_SVM_tv.fit_transform(train_df['text'])\n",
        "#transformed valid reviews\n",
        "RBF_SVM_tv_valid_reviews = RBF_SVM_tv.fit_transform(valid_df['text'])\n",
        "#transformed test reviews\n",
        "RBF_SVM_tv_test_reviews=RBF_SVM_tv.transform(test_df['text'])\n",
        "\n",
        "print('Tfidf_train:',RBF_SVM_tv_train_reviews.shape)\n",
        "print('Tfidf_valid:',RBF_SVM_tv_valid_reviews.shape)\n",
        "print('Tfidf_test:',RBF_SVM_tv_test_reviews.shape)"
      ],
      "execution_count": 41,
      "outputs": [
        {
          "output_type": "stream",
          "text": [
            "Tfidf_train: (40000, 6000)\n",
            "Tfidf_valid: (5000, 6000)\n",
            "Tfidf_test: (5000, 6000)\n"
          ],
          "name": "stdout"
        }
      ]
    },
    {
      "cell_type": "code",
      "metadata": {
        "id": "kfaH3nSeQ5b8"
      },
      "source": [
        "def print_results(results):\r\n",
        "    print('BEST PARAMS: {}\\n'.format(results.best_params_))\r\n",
        "\r\n",
        "    means = results.cv_results_['mean_test_score']\r\n",
        "    stds = results.cv_results_['std_test_score']\r\n",
        "    for mean, std, params in zip(means, stds, results.cv_results_['params']):\r\n",
        "        print('{} (+/-{}) for {}'.format(round(mean, 3), round(std * 2, 3), params))"
      ],
      "execution_count": null,
      "outputs": []
    },
    {
      "cell_type": "code",
      "metadata": {
        "colab": {
          "base_uri": "https://localhost:8080/"
        },
        "id": "Fr0NzrHmJZNY",
        "outputId": "6037692a-3359-4e81-aa0f-d44601173fe6"
      },
      "source": [
        "svm_rbf = SVC(kernel='rbf', verbose=True, probability=True)\r\n",
        "\r\n",
        "rbf_parameters = {\r\n",
        "    'C': [1, 10, 100, 1000],\r\n",
        "    'gamma': [0.1, 0.01, 0.001, 0.0001]\r\n",
        "    }\r\n",
        "\r\n",
        "rbf_grid = GridSearchCV(svm_rbf, rbf_parameters, refit = True, verbose = 3) \r\n",
        "\r\n",
        "# fitting the model for grid search \r\n",
        "rbf_grid.fit(RBF_SVM_cv_valid_reviews, valid_df['label']) \r\n",
        "\r\n",
        "print_results(rbf_grid)"
      ],
      "execution_count": null,
      "outputs": [
        {
          "output_type": "stream",
          "text": [
            "Fitting 5 folds for each of 16 candidates, totalling 80 fits\n",
            "[CV] C=1, gamma=0.1 ..................................................\n",
            "[LibSVM]"
          ],
          "name": "stdout"
        },
        {
          "output_type": "stream",
          "text": [
            "[Parallel(n_jobs=1)]: Using backend SequentialBackend with 1 concurrent workers.\n"
          ],
          "name": "stderr"
        },
        {
          "output_type": "stream",
          "text": [
            "[CV] ...................... C=1, gamma=0.1, score=0.596, total=  48.3s\n",
            "[CV] C=1, gamma=0.1 ..................................................\n",
            "[LibSVM]"
          ],
          "name": "stdout"
        },
        {
          "output_type": "stream",
          "text": [
            "[Parallel(n_jobs=1)]: Done   1 out of   1 | elapsed:   48.3s remaining:    0.0s\n"
          ],
          "name": "stderr"
        },
        {
          "output_type": "stream",
          "text": [
            "[CV] ...................... C=1, gamma=0.1, score=0.639, total=  48.1s\n",
            "[CV] C=1, gamma=0.1 ..................................................\n",
            "[LibSVM]"
          ],
          "name": "stdout"
        },
        {
          "output_type": "stream",
          "text": [
            "[Parallel(n_jobs=1)]: Done   2 out of   2 | elapsed:  1.6min remaining:    0.0s\n"
          ],
          "name": "stderr"
        },
        {
          "output_type": "stream",
          "text": [
            "[CV] ...................... C=1, gamma=0.1, score=0.588, total=  47.7s\n",
            "[CV] C=1, gamma=0.1 ..................................................\n",
            "[LibSVM][CV] ...................... C=1, gamma=0.1, score=0.572, total=  47.6s\n",
            "[CV] C=1, gamma=0.1 ..................................................\n",
            "[LibSVM][CV] ...................... C=1, gamma=0.1, score=0.546, total=  47.8s\n",
            "[CV] C=1, gamma=0.01 .................................................\n",
            "[LibSVM][CV] ..................... C=1, gamma=0.01, score=0.798, total=  38.9s\n",
            "[CV] C=1, gamma=0.01 .................................................\n",
            "[LibSVM][CV] ..................... C=1, gamma=0.01, score=0.820, total=  38.7s\n",
            "[CV] C=1, gamma=0.01 .................................................\n",
            "[LibSVM][CV] ..................... C=1, gamma=0.01, score=0.807, total=  38.5s\n",
            "[CV] C=1, gamma=0.01 .................................................\n",
            "[LibSVM][CV] ..................... C=1, gamma=0.01, score=0.821, total=  38.3s\n",
            "[CV] C=1, gamma=0.01 .................................................\n",
            "[LibSVM][CV] ..................... C=1, gamma=0.01, score=0.803, total=  38.5s\n",
            "[CV] C=1, gamma=0.001 ................................................\n",
            "[LibSVM][CV] .................... C=1, gamma=0.001, score=0.790, total=  36.0s\n",
            "[CV] C=1, gamma=0.001 ................................................\n",
            "[LibSVM][CV] .................... C=1, gamma=0.001, score=0.818, total=  36.1s\n",
            "[CV] C=1, gamma=0.001 ................................................\n",
            "[LibSVM][CV] .................... C=1, gamma=0.001, score=0.803, total=  36.0s\n",
            "[CV] C=1, gamma=0.001 ................................................\n",
            "[LibSVM][CV] .................... C=1, gamma=0.001, score=0.812, total=  35.9s\n",
            "[CV] C=1, gamma=0.001 ................................................\n",
            "[LibSVM][CV] .................... C=1, gamma=0.001, score=0.800, total=  36.0s\n",
            "[CV] C=1, gamma=0.0001 ...............................................\n",
            "[LibSVM][CV] ................... C=1, gamma=0.0001, score=0.667, total=  45.0s\n",
            "[CV] C=1, gamma=0.0001 ...............................................\n",
            "[LibSVM][CV] ................... C=1, gamma=0.0001, score=0.685, total=  45.2s\n",
            "[CV] C=1, gamma=0.0001 ...............................................\n",
            "[LibSVM][CV] ................... C=1, gamma=0.0001, score=0.677, total=  44.9s\n",
            "[CV] C=1, gamma=0.0001 ...............................................\n",
            "[LibSVM][CV] ................... C=1, gamma=0.0001, score=0.667, total=  44.7s\n",
            "[CV] C=1, gamma=0.0001 ...............................................\n",
            "[LibSVM][CV] ................... C=1, gamma=0.0001, score=0.656, total=  45.0s\n",
            "[CV] C=10, gamma=0.1 .................................................\n",
            "[LibSVM][CV] ..................... C=10, gamma=0.1, score=0.627, total=  46.5s\n",
            "[CV] C=10, gamma=0.1 .................................................\n",
            "[LibSVM][CV] ..................... C=10, gamma=0.1, score=0.648, total=  46.2s\n",
            "[CV] C=10, gamma=0.1 .................................................\n",
            "[LibSVM][CV] ..................... C=10, gamma=0.1, score=0.612, total=  45.9s\n",
            "[CV] C=10, gamma=0.1 .................................................\n",
            "[LibSVM][CV] ..................... C=10, gamma=0.1, score=0.602, total=  45.6s\n",
            "[CV] C=10, gamma=0.1 .................................................\n",
            "[LibSVM][CV] ..................... C=10, gamma=0.1, score=0.564, total=  46.0s\n",
            "[CV] C=10, gamma=0.01 ................................................\n",
            "[LibSVM][CV] .................... C=10, gamma=0.01, score=0.806, total=  42.5s\n",
            "[CV] C=10, gamma=0.01 ................................................\n",
            "[LibSVM][CV] .................... C=10, gamma=0.01, score=0.810, total=  42.4s\n",
            "[CV] C=10, gamma=0.01 ................................................\n",
            "[LibSVM][CV] .................... C=10, gamma=0.01, score=0.810, total=  42.0s\n",
            "[CV] C=10, gamma=0.01 ................................................\n",
            "[LibSVM][CV] .................... C=10, gamma=0.01, score=0.801, total=  42.0s\n",
            "[CV] C=10, gamma=0.01 ................................................\n",
            "[LibSVM][CV] .................... C=10, gamma=0.01, score=0.811, total=  42.7s\n",
            "[CV] C=10, gamma=0.001 ...............................................\n",
            "[LibSVM][CV] ................... C=10, gamma=0.001, score=0.824, total=  26.0s\n",
            "[CV] C=10, gamma=0.001 ...............................................\n",
            "[LibSVM][CV] ................... C=10, gamma=0.001, score=0.831, total=  25.7s\n",
            "[CV] C=10, gamma=0.001 ...............................................\n",
            "[LibSVM][CV] ................... C=10, gamma=0.001, score=0.822, total=  25.4s\n",
            "[CV] C=10, gamma=0.001 ...............................................\n",
            "[LibSVM][CV] ................... C=10, gamma=0.001, score=0.833, total=  25.8s\n",
            "[CV] C=10, gamma=0.001 ...............................................\n",
            "[LibSVM][CV] ................... C=10, gamma=0.001, score=0.814, total=  25.4s\n",
            "[CV] C=10, gamma=0.0001 ..............................................\n",
            "[LibSVM][CV] .................. C=10, gamma=0.0001, score=0.789, total=  33.8s\n",
            "[CV] C=10, gamma=0.0001 ..............................................\n",
            "[LibSVM][CV] .................. C=10, gamma=0.0001, score=0.827, total=  33.7s\n",
            "[CV] C=10, gamma=0.0001 ..............................................\n",
            "[LibSVM][CV] .................. C=10, gamma=0.0001, score=0.810, total=  33.6s\n",
            "[CV] C=10, gamma=0.0001 ..............................................\n",
            "[LibSVM][CV] .................. C=10, gamma=0.0001, score=0.817, total=  33.7s\n",
            "[CV] C=10, gamma=0.0001 ..............................................\n",
            "[LibSVM][CV] .................. C=10, gamma=0.0001, score=0.801, total=  33.5s\n",
            "[CV] C=100, gamma=0.1 ................................................\n",
            "[LibSVM][CV] .................... C=100, gamma=0.1, score=0.627, total=  46.3s\n",
            "[CV] C=100, gamma=0.1 ................................................\n",
            "[LibSVM][CV] .................... C=100, gamma=0.1, score=0.648, total=  46.5s\n",
            "[CV] C=100, gamma=0.1 ................................................\n",
            "[LibSVM][CV] .................... C=100, gamma=0.1, score=0.612, total=  46.1s\n",
            "[CV] C=100, gamma=0.1 ................................................\n",
            "[LibSVM][CV] .................... C=100, gamma=0.1, score=0.602, total=  45.8s\n",
            "[CV] C=100, gamma=0.1 ................................................\n",
            "[LibSVM][CV] .................... C=100, gamma=0.1, score=0.564, total=  45.6s\n",
            "[CV] C=100, gamma=0.01 ...............................................\n",
            "[LibSVM][CV] ................... C=100, gamma=0.01, score=0.803, total=  42.4s\n",
            "[CV] C=100, gamma=0.01 ...............................................\n",
            "[LibSVM][CV] ................... C=100, gamma=0.01, score=0.804, total=  43.1s\n",
            "[CV] C=100, gamma=0.01 ...............................................\n",
            "[LibSVM][CV] ................... C=100, gamma=0.01, score=0.802, total=  42.7s\n",
            "[CV] C=100, gamma=0.01 ...............................................\n",
            "[LibSVM][CV] ................... C=100, gamma=0.01, score=0.797, total=  42.6s\n",
            "[CV] C=100, gamma=0.01 ...............................................\n",
            "[LibSVM][CV] ................... C=100, gamma=0.01, score=0.801, total=  42.1s\n",
            "[CV] C=100, gamma=0.001 ..............................................\n",
            "[LibSVM][CV] .................. C=100, gamma=0.001, score=0.829, total=  22.6s\n",
            "[CV] C=100, gamma=0.001 ..............................................\n",
            "[LibSVM][CV] .................. C=100, gamma=0.001, score=0.825, total=  22.4s\n",
            "[CV] C=100, gamma=0.001 ..............................................\n",
            "[LibSVM][CV] .................. C=100, gamma=0.001, score=0.799, total=  22.8s\n",
            "[CV] C=100, gamma=0.001 ..............................................\n",
            "[LibSVM][CV] .................. C=100, gamma=0.001, score=0.813, total=  23.3s\n",
            "[CV] C=100, gamma=0.001 ..............................................\n",
            "[LibSVM][CV] .................. C=100, gamma=0.001, score=0.800, total=  22.4s\n",
            "[CV] C=100, gamma=0.0001 .............................................\n",
            "[LibSVM][CV] ................. C=100, gamma=0.0001, score=0.824, total=  24.2s\n",
            "[CV] C=100, gamma=0.0001 .............................................\n",
            "[LibSVM][CV] ................. C=100, gamma=0.0001, score=0.827, total=  25.0s\n",
            "[CV] C=100, gamma=0.0001 .............................................\n",
            "[LibSVM][CV] ................. C=100, gamma=0.0001, score=0.827, total=  25.0s\n",
            "[CV] C=100, gamma=0.0001 .............................................\n",
            "[LibSVM][CV] ................. C=100, gamma=0.0001, score=0.834, total=  25.6s\n",
            "[CV] C=100, gamma=0.0001 .............................................\n",
            "[LibSVM][CV] ................. C=100, gamma=0.0001, score=0.803, total=  24.5s\n",
            "[CV] C=1000, gamma=0.1 ...............................................\n",
            "[LibSVM][CV] ................... C=1000, gamma=0.1, score=0.627, total=  45.8s\n",
            "[CV] C=1000, gamma=0.1 ...............................................\n",
            "[LibSVM][CV] ................... C=1000, gamma=0.1, score=0.648, total=  45.5s\n",
            "[CV] C=1000, gamma=0.1 ...............................................\n",
            "[LibSVM][CV] ................... C=1000, gamma=0.1, score=0.612, total=  45.2s\n",
            "[CV] C=1000, gamma=0.1 ...............................................\n",
            "[LibSVM][CV] ................... C=1000, gamma=0.1, score=0.602, total=  46.2s\n",
            "[CV] C=1000, gamma=0.1 ...............................................\n",
            "[LibSVM][CV] ................... C=1000, gamma=0.1, score=0.564, total=  46.6s\n",
            "[CV] C=1000, gamma=0.01 ..............................................\n",
            "[LibSVM][CV] .................. C=1000, gamma=0.01, score=0.803, total=  43.2s\n",
            "[CV] C=1000, gamma=0.01 ..............................................\n",
            "[LibSVM][CV] .................. C=1000, gamma=0.01, score=0.804, total=  43.0s\n",
            "[CV] C=1000, gamma=0.01 ..............................................\n",
            "[LibSVM][CV] .................. C=1000, gamma=0.01, score=0.802, total=  42.8s\n",
            "[CV] C=1000, gamma=0.01 ..............................................\n",
            "[LibSVM][CV] .................. C=1000, gamma=0.01, score=0.797, total=  42.2s\n",
            "[CV] C=1000, gamma=0.01 ..............................................\n",
            "[LibSVM][CV] .................. C=1000, gamma=0.01, score=0.801, total=  41.3s\n",
            "[CV] C=1000, gamma=0.001 .............................................\n",
            "[LibSVM][CV] ................. C=1000, gamma=0.001, score=0.793, total=  22.5s\n",
            "[CV] C=1000, gamma=0.001 .............................................\n",
            "[LibSVM][CV] ................. C=1000, gamma=0.001, score=0.772, total=  22.0s\n",
            "[CV] C=1000, gamma=0.001 .............................................\n",
            "[LibSVM][CV] ................. C=1000, gamma=0.001, score=0.772, total=  22.4s\n",
            "[CV] C=1000, gamma=0.001 .............................................\n",
            "[LibSVM][CV] ................. C=1000, gamma=0.001, score=0.794, total=  22.9s\n",
            "[CV] C=1000, gamma=0.001 .............................................\n",
            "[LibSVM][CV] ................. C=1000, gamma=0.001, score=0.782, total=  21.8s\n",
            "[CV] C=1000, gamma=0.0001 ............................................\n",
            "[LibSVM][CV] ................ C=1000, gamma=0.0001, score=0.820, total=  22.8s\n",
            "[CV] C=1000, gamma=0.0001 ............................................\n",
            "[LibSVM][CV] ................ C=1000, gamma=0.0001, score=0.813, total=  22.9s\n",
            "[CV] C=1000, gamma=0.0001 ............................................\n",
            "[LibSVM][CV] ................ C=1000, gamma=0.0001, score=0.800, total=  23.2s\n",
            "[CV] C=1000, gamma=0.0001 ............................................\n",
            "[LibSVM][CV] ................ C=1000, gamma=0.0001, score=0.811, total=  24.0s\n",
            "[CV] C=1000, gamma=0.0001 ............................................\n",
            "[LibSVM][CV] ................ C=1000, gamma=0.0001, score=0.793, total=  22.9s\n",
            "[LibSVM]"
          ],
          "name": "stdout"
        },
        {
          "output_type": "stream",
          "text": [
            "[Parallel(n_jobs=1)]: Done  80 out of  80 | elapsed: 48.8min finished\n"
          ],
          "name": "stderr"
        },
        {
          "output_type": "stream",
          "text": [
            "BEST PARAMS: {'C': 10, 'gamma': 0.001}\n",
            "\n",
            "0.588 (+/-0.061) for {'C': 1, 'gamma': 0.1}\n",
            "0.81 (+/-0.018) for {'C': 1, 'gamma': 0.01}\n",
            "0.805 (+/-0.019) for {'C': 1, 'gamma': 0.001}\n",
            "0.67 (+/-0.02) for {'C': 1, 'gamma': 0.0001}\n",
            "0.611 (+/-0.056) for {'C': 10, 'gamma': 0.1}\n",
            "0.808 (+/-0.007) for {'C': 10, 'gamma': 0.01}\n",
            "0.825 (+/-0.014) for {'C': 10, 'gamma': 0.001}\n",
            "0.809 (+/-0.026) for {'C': 10, 'gamma': 0.0001}\n",
            "0.611 (+/-0.056) for {'C': 100, 'gamma': 0.1}\n",
            "0.801 (+/-0.005) for {'C': 100, 'gamma': 0.01}\n",
            "0.813 (+/-0.025) for {'C': 100, 'gamma': 0.001}\n",
            "0.823 (+/-0.021) for {'C': 100, 'gamma': 0.0001}\n",
            "0.611 (+/-0.056) for {'C': 1000, 'gamma': 0.1}\n",
            "0.801 (+/-0.005) for {'C': 1000, 'gamma': 0.01}\n",
            "0.783 (+/-0.019) for {'C': 1000, 'gamma': 0.001}\n",
            "0.807 (+/-0.019) for {'C': 1000, 'gamma': 0.0001}\n"
          ],
          "name": "stdout"
        }
      ]
    },
    {
      "cell_type": "code",
      "metadata": {
        "colab": {
          "base_uri": "https://localhost:8080/"
        },
        "id": "oVM2o6ruyJRe",
        "outputId": "f9a53a26-5f98-41b2-d766-28ad0ea00db3"
      },
      "source": [
        "# print best parameter after tuning \r\n",
        "print(rbf_grid.best_params_) \r\n",
        "  \r\n",
        "# print how our model looks after hyper-parameter tuning \r\n",
        "print(rbf_grid.best_estimator_) "
      ],
      "execution_count": null,
      "outputs": [
        {
          "output_type": "stream",
          "text": [
            "{'C': 10, 'gamma': 0.001}\n",
            "SVC(C=10, break_ties=False, cache_size=200, class_weight=None, coef0=0.0,\n",
            "    decision_function_shape='ovr', degree=3, gamma=0.001, kernel='rbf',\n",
            "    max_iter=-1, probability=True, random_state=None, shrinking=True, tol=0.001,\n",
            "    verbose=True)\n"
          ],
          "name": "stdout"
        }
      ]
    },
    {
      "cell_type": "code",
      "metadata": {
        "id": "k439IEBXQ-Ts"
      },
      "source": [
        "'''\r\n",
        "rbf_grid = GridSearchCV(svm_rbf, rbf_parameters, refit = True, verbose = 3) \r\n",
        "\r\n",
        "# fitting the model for grid search \r\n",
        "rbf_grid.fit(RBF_SVM_tv_valid_reviews, valid_df['label']) \r\n",
        "\r\n",
        "print_results(rbf_grid)\r\n",
        "'''"
      ],
      "execution_count": null,
      "outputs": []
    },
    {
      "cell_type": "code",
      "metadata": {
        "colab": {
          "base_uri": "https://localhost:8080/"
        },
        "id": "D3YO5VBK0az9",
        "outputId": "a8c40a9d-df1b-4607-ae98-1bbbde762cc7"
      },
      "source": [
        "grid_predictions = rbf_grid.predict(RBF_SVM_cv_test_reviews) \r\n",
        "  \r\n",
        "# print classification report \r\n",
        "print(classification_report(test_df['label'], grid_predictions)) "
      ],
      "execution_count": null,
      "outputs": [
        {
          "output_type": "stream",
          "text": [
            "              precision    recall  f1-score   support\n",
            "\n",
            "           0       0.84      0.82      0.83      2495\n",
            "           1       0.82      0.85      0.84      2505\n",
            "\n",
            "    accuracy                           0.83      5000\n",
            "   macro avg       0.83      0.83      0.83      5000\n",
            "weighted avg       0.83      0.83      0.83      5000\n",
            "\n"
          ],
          "name": "stdout"
        }
      ]
    },
    {
      "cell_type": "code",
      "metadata": {
        "colab": {
          "base_uri": "https://localhost:8080/"
        },
        "id": "pLZYzdIWLuM6",
        "outputId": "8cdd071b-4c56-44d2-9a7a-0d23c0486d82"
      },
      "source": [
        "#training the model\n",
        "svm_rbf = SVC(kernel='rbf', verbose=True, C=10, gamma=0.001)\n",
        "\n",
        "#fitting the model for bag of words\n",
        "svm_rbf_bow = svm_rbf.fit(RBF_SVM_cv_train_reviews,train_df['label'])\n",
        "print(svm_rbf_bow)\n",
        "\n",
        "#fitting the model for tfidf features\n",
        "svm_rbf_tfidf = svm_rbf.fit(RBF_SVM_tv_train_reviews,train_df['label'])\n",
        "print(svm_rbf_tfidf)"
      ],
      "execution_count": 42,
      "outputs": [
        {
          "output_type": "stream",
          "text": [
            "[LibSVM]SVC(C=10, break_ties=False, cache_size=200, class_weight=None, coef0=0.0,\n",
            "    decision_function_shape='ovr', degree=3, gamma=0.001, kernel='rbf',\n",
            "    max_iter=-1, probability=False, random_state=None, shrinking=True,\n",
            "    tol=0.001, verbose=True)\n",
            "[LibSVM]SVC(C=10, break_ties=False, cache_size=200, class_weight=None, coef0=0.0,\n",
            "    decision_function_shape='ovr', degree=3, gamma=0.001, kernel='rbf',\n",
            "    max_iter=-1, probability=False, random_state=None, shrinking=True,\n",
            "    tol=0.001, verbose=True)\n"
          ],
          "name": "stdout"
        }
      ]
    },
    {
      "cell_type": "code",
      "metadata": {
        "id": "ZVGedwFELuM6",
        "colab": {
          "base_uri": "https://localhost:8080/"
        },
        "outputId": "60f57a9a-7dcb-423a-fb16-8fe9cdda8975"
      },
      "source": [
        "#Predicting the model for bag of words\n",
        "svm_rbf_bow_predict = svm_rbf.predict(RBF_SVM_cv_test_reviews)\n",
        "print(svm_rbf_bow_predict)\n",
        "\n",
        "#Predicting the model for tfidf features\n",
        "svm_rbf_tfidf_predict = svm_rbf.predict(RBF_SVM_tv_test_reviews)\n",
        "print(svm_rbf_tfidf_predict)"
      ],
      "execution_count": 43,
      "outputs": [
        {
          "output_type": "stream",
          "text": [
            "[0 1 1 ... 1 0 1]\n",
            "[1 1 1 ... 1 1 1]\n"
          ],
          "name": "stdout"
        }
      ]
    },
    {
      "cell_type": "code",
      "metadata": {
        "id": "QhoyZME3LuM7",
        "colab": {
          "base_uri": "https://localhost:8080/",
          "height": 90
        },
        "outputId": "34191d51-dbac-4178-b1d4-4fdedba80249"
      },
      "source": [
        "#Accuracy score for bag of words\n",
        "svm_rbf_bow_score = accuracy_score(test_df['label'], svm_rbf_bow_predict)\n",
        "print(\"svm_rbf_bow_score :\",svm_rbf_bow_score)\n",
        "\n",
        "#Accuracy score for tfidf features\n",
        "svm_rbf_tfidf_score = accuracy_score(test_df['label'], svm_rbf_tfidf_predict)\n",
        "print(\"svm_rbf_tfidf_score :\",svm_rbf_tfidf_score)\n",
        "'''\n",
        "1000:\n",
        "svm_rbf_bow_score : 0.6096\n",
        "svm_rbf_tfidf_score : 0.5984\n",
        "500:\n",
        "svm_rbf_bow_score : 0.5992\n",
        "svm_rbf_tfidf_score : 0.6192\n",
        "'''"
      ],
      "execution_count": 44,
      "outputs": [
        {
          "output_type": "stream",
          "text": [
            "svm_rbf_bow_score : 0.582\n",
            "svm_rbf_tfidf_score : 0.523\n"
          ],
          "name": "stdout"
        },
        {
          "output_type": "execute_result",
          "data": {
            "application/vnd.google.colaboratory.intrinsic+json": {
              "type": "string"
            },
            "text/plain": [
              "'\\n1000:\\nsvm_rbf_bow_score : 0.6096\\nsvm_rbf_tfidf_score : 0.5984\\n500:\\nsvm_rbf_bow_score : 0.5992\\nsvm_rbf_tfidf_score : 0.6192\\n'"
            ]
          },
          "metadata": {
            "tags": []
          },
          "execution_count": 44
        }
      ]
    },
    {
      "cell_type": "code",
      "metadata": {
        "id": "b68QCmS3LuM7",
        "colab": {
          "base_uri": "https://localhost:8080/"
        },
        "outputId": "c1b1d4e7-457b-4f27-c842-389e2d0c481b"
      },
      "source": [
        "#Classification report for bag of words \n",
        "svm_rbf_bow_report = classification_report(test_df['label'], svm_rbf_bow_predict, target_names=['Positive', 'Negative'])\n",
        "print(svm_rbf_bow_report)\n",
        "\n",
        "#Classification report for tfidf features\n",
        "svm_rbf_tfidf_report = classification_report(test_df['label'], svm_rbf_tfidf_predict, target_names=['Positive', 'Negative'])\n",
        "print(svm_rbf_tfidf_report)"
      ],
      "execution_count": 45,
      "outputs": [
        {
          "output_type": "stream",
          "text": [
            "              precision    recall  f1-score   support\n",
            "\n",
            "    Positive       0.64      0.37      0.47      2495\n",
            "    Negative       0.56      0.79      0.65      2505\n",
            "\n",
            "    accuracy                           0.58      5000\n",
            "   macro avg       0.60      0.58      0.56      5000\n",
            "weighted avg       0.60      0.58      0.56      5000\n",
            "\n",
            "              precision    recall  f1-score   support\n",
            "\n",
            "    Positive       0.68      0.08      0.15      2495\n",
            "    Negative       0.51      0.96      0.67      2505\n",
            "\n",
            "    accuracy                           0.52      5000\n",
            "   macro avg       0.60      0.52      0.41      5000\n",
            "weighted avg       0.60      0.52      0.41      5000\n",
            "\n"
          ],
          "name": "stdout"
        }
      ]
    },
    {
      "cell_type": "code",
      "metadata": {
        "id": "if5VPsQoLuM7",
        "colab": {
          "base_uri": "https://localhost:8080/"
        },
        "outputId": "529915b8-eb15-47d4-e8fe-18f6092d18aa"
      },
      "source": [
        "#confusion matrix for bag of words\n",
        "svm_rbf_cm_bow = confusion_matrix(test_df['label'], svm_rbf_bow_predict, labels=[1,0])\n",
        "print(svm_rbf_cm_bow)\n",
        "\n",
        "#confusion matrix for tfidf features\n",
        "svm_rbf_cm_tfidf = confusion_matrix(test_df['label'], svm_rbf_tfidf_predict, labels=[1,0])\n",
        "print(svm_rbf_cm_tfidf)"
      ],
      "execution_count": 46,
      "outputs": [
        {
          "output_type": "stream",
          "text": [
            "[[1981  524]\n",
            " [1566  929]]\n",
            "[[2411   94]\n",
            " [2291  204]]\n"
          ],
          "name": "stdout"
        }
      ]
    },
    {
      "cell_type": "code",
      "metadata": {
        "id": "fwkDHrYUJ1yS",
        "colab": {
          "base_uri": "https://localhost:8080/",
          "height": 297
        },
        "outputId": "cda893f9-073e-4107-a335-e834de74066b"
      },
      "source": [
        "# BOW\r\n",
        "plot_roc_curve(svm_rbf_bow, RBF_SVM_cv_test_reviews.toarray(), test_df['label'])"
      ],
      "execution_count": 47,
      "outputs": [
        {
          "output_type": "execute_result",
          "data": {
            "text/plain": [
              "<sklearn.metrics._plot.roc_curve.RocCurveDisplay at 0x7f67a114ff60>"
            ]
          },
          "metadata": {
            "tags": []
          },
          "execution_count": 47
        },
        {
          "output_type": "display_data",
          "data": {
            "image/png": "[encoded data removed]",
            "text/plain": [
              "<Figure size 432x288 with 1 Axes>"
            ]
          },
          "metadata": {
            "tags": [],
            "needs_background": "light"
          }
        }
      ]
    },
    {
      "cell_type": "code",
      "metadata": {
        "id": "uXccnAwUKM2P",
        "colab": {
          "base_uri": "https://localhost:8080/",
          "height": 297
        },
        "outputId": "9585194e-a0ff-48fb-a8d9-e7384fc21b7e"
      },
      "source": [
        "# TFIDF\r\n",
        "plot_roc_curve(svm_rbf_tfidf, RBF_SVM_tv_test_reviews.toarray(), test_df['label'])"
      ],
      "execution_count": 48,
      "outputs": [
        {
          "output_type": "execute_result",
          "data": {
            "text/plain": [
              "<sklearn.metrics._plot.roc_curve.RocCurveDisplay at 0x7f679f22c4e0>"
            ]
          },
          "metadata": {
            "tags": []
          },
          "execution_count": 48
        },
        {
          "output_type": "display_data",
          "data": {
            "image/png": "[encoded data removed]",
            "text/plain": [
              "<Figure size 432x288 with 1 Axes>"
            ]
          },
          "metadata": {
            "tags": [],
            "needs_background": "light"
          }
        }
      ]
    },
    {
      "cell_type": "markdown",
      "metadata": {
        "id": "V4q4LKHy_7w7"
      },
      "source": [
        "# BERT\r\n"
      ]
    },
    {
      "cell_type": "markdown",
      "metadata": {
        "id": "3hM8yLtN_doO"
      },
      "source": [
        "  BERT, published by Google, is pre-trained language model word representation which transforms each word into a vector with a fixed size of 768.</br>\r\n",
        "\r\n",
        "  In this project, we tokenized each training data into sentences and computed the mean of BERT embedding of the sentences to present each training data.\r\n",
        "\r\n",
        "  To utilize BERT embedding for two mentioned purposes, we have used Sentence Transformers library.\r\n"
      ]
    },
    {
      "cell_type": "code",
      "metadata": {
        "colab": {
          "base_uri": "https://localhost:8080/"
        },
        "id": "s5hE5Bazjqzw",
        "outputId": "9bd8627d-e4c5-43c0-efb0-48fcc6b87732"
      },
      "source": [
        "pip install -U sentence-transformers"
      ],
      "execution_count": 21,
      "outputs": [
        {
          "output_type": "stream",
          "text": [
            "Collecting sentence-transformers\n",
            "\u001b[?25l  Downloading https://files.pythonhosted.org/packages/f5/5a/6e41e8383913dd2ba923cdcd02be2e03911595f4d2f9de559ecbed80d2d3/sentence-transformers-0.3.9.tar.gz (64kB)\n",
            "\u001b[K     |████████████████████████████████| 71kB 4.1MB/s \n",
            "\u001b[?25hCollecting transformers<3.6.0,>=3.1.0\n",
            "\u001b[?25l  Downloading https://files.pythonhosted.org/packages/3a/83/e74092e7f24a08d751aa59b37a9fc572b2e4af3918cb66f7766c3affb1b4/transformers-3.5.1-py3-none-any.whl (1.3MB)\n",
            "\u001b[K     |████████████████████████████████| 1.3MB 9.3MB/s \n",
            "\u001b[?25hRequirement already satisfied, skipping upgrade: tqdm in /usr/local/lib/python3.6/dist-packages (from sentence-transformers) (4.41.1)\n",
            "Requirement already satisfied, skipping upgrade: torch>=1.6.0 in /usr/local/lib/python3.6/dist-packages (from sentence-transformers) (1.7.0+cu101)\n",
            "Requirement already satisfied, skipping upgrade: numpy in /usr/local/lib/python3.6/dist-packages (from sentence-transformers) (1.18.5)\n",
            "Requirement already satisfied, skipping upgrade: scikit-learn in /usr/local/lib/python3.6/dist-packages (from sentence-transformers) (0.22.2.post1)\n",
            "Requirement already satisfied, skipping upgrade: scipy in /usr/local/lib/python3.6/dist-packages (from sentence-transformers) (1.4.1)\n",
            "Requirement already satisfied, skipping upgrade: nltk in /usr/local/lib/python3.6/dist-packages (from sentence-transformers) (3.2.5)\n",
            "Requirement already satisfied, skipping upgrade: filelock in /usr/local/lib/python3.6/dist-packages (from transformers<3.6.0,>=3.1.0->sentence-transformers) (3.0.12)\n",
            "Collecting tokenizers==0.9.3\n",
            "\u001b[?25l  Downloading https://files.pythonhosted.org/packages/4c/34/b39eb9994bc3c999270b69c9eea40ecc6f0e97991dba28282b9fd32d44ee/tokenizers-0.9.3-cp36-cp36m-manylinux1_x86_64.whl (2.9MB)\n",
            "\u001b[K     |████████████████████████████████| 2.9MB 52.0MB/s \n",
            "\u001b[?25hRequirement already satisfied, skipping upgrade: regex!=2019.12.17 in /usr/local/lib/python3.6/dist-packages (from transformers<3.6.0,>=3.1.0->sentence-transformers) (2019.12.20)\n",
            "Collecting sentencepiece==0.1.91\n",
            "\u001b[?25l  Downloading https://files.pythonhosted.org/packages/d4/a4/d0a884c4300004a78cca907a6ff9a5e9fe4f090f5d95ab341c53d28cbc58/sentencepiece-0.1.91-cp36-cp36m-manylinux1_x86_64.whl (1.1MB)\n",
            "\u001b[K     |████████████████████████████████| 1.1MB 44.5MB/s \n",
            "\u001b[?25hRequirement already satisfied, skipping upgrade: packaging in /usr/local/lib/python3.6/dist-packages (from transformers<3.6.0,>=3.1.0->sentence-transformers) (20.7)\n",
            "Requirement already satisfied, skipping upgrade: requests in /usr/local/lib/python3.6/dist-packages (from transformers<3.6.0,>=3.1.0->sentence-transformers) (2.23.0)\n",
            "Requirement already satisfied, skipping upgrade: protobuf in /usr/local/lib/python3.6/dist-packages (from transformers<3.6.0,>=3.1.0->sentence-transformers) (3.12.4)\n",
            "Collecting sacremoses\n",
            "\u001b[?25l  Downloading https://files.pythonhosted.org/packages/7d/34/09d19aff26edcc8eb2a01bed8e98f13a1537005d31e95233fd48216eed10/sacremoses-0.0.43.tar.gz (883kB)\n",
            "\u001b[K     |████████████████████████████████| 890kB 53.2MB/s \n",
            "\u001b[?25hRequirement already satisfied, skipping upgrade: dataclasses; python_version < \"3.7\" in /usr/local/lib/python3.6/dist-packages (from transformers<3.6.0,>=3.1.0->sentence-transformers) (0.8)\n",
            "Requirement already satisfied, skipping upgrade: typing-extensions in /usr/local/lib/python3.6/dist-packages (from torch>=1.6.0->sentence-transformers) (3.7.4.3)\n",
            "Requirement already satisfied, skipping upgrade: future in /usr/local/lib/python3.6/dist-packages (from torch>=1.6.0->sentence-transformers) (0.16.0)\n",
            "Requirement already satisfied, skipping upgrade: joblib>=0.11 in /usr/local/lib/python3.6/dist-packages (from scikit-learn->sentence-transformers) (0.17.0)\n",
            "Requirement already satisfied, skipping upgrade: six in /usr/local/lib/python3.6/dist-packages (from nltk->sentence-transformers) (1.15.0)\n",
            "Requirement already satisfied, skipping upgrade: pyparsing>=2.0.2 in /usr/local/lib/python3.6/dist-packages (from packaging->transformers<3.6.0,>=3.1.0->sentence-transformers) (2.4.7)\n",
            "Requirement already satisfied, skipping upgrade: chardet<4,>=3.0.2 in /usr/local/lib/python3.6/dist-packages (from requests->transformers<3.6.0,>=3.1.0->sentence-transformers) (3.0.4)\n",
            "Requirement already satisfied, skipping upgrade: idna<3,>=2.5 in /usr/local/lib/python3.6/dist-packages (from requests->transformers<3.6.0,>=3.1.0->sentence-transformers) (2.10)\n",
            "Requirement already satisfied, skipping upgrade: certifi>=2017.4.17 in /usr/local/lib/python3.6/dist-packages (from requests->transformers<3.6.0,>=3.1.0->sentence-transformers) (2020.12.5)\n",
            "Requirement already satisfied, skipping upgrade: urllib3!=1.25.0,!=1.25.1,<1.26,>=1.21.1 in /usr/local/lib/python3.6/dist-packages (from requests->transformers<3.6.0,>=3.1.0->sentence-transformers) (1.24.3)\n",
            "Requirement already satisfied, skipping upgrade: setuptools in /usr/local/lib/python3.6/dist-packages (from protobuf->transformers<3.6.0,>=3.1.0->sentence-transformers) (50.3.2)\n",
            "Requirement already satisfied, skipping upgrade: click in /usr/local/lib/python3.6/dist-packages (from sacremoses->transformers<3.6.0,>=3.1.0->sentence-transformers) (7.1.2)\n",
            "Building wheels for collected packages: sentence-transformers, sacremoses\n",
            "  Building wheel for sentence-transformers (setup.py) ... \u001b[?25l\u001b[?25hdone\n",
            "  Created wheel for sentence-transformers: filename=sentence_transformers-0.3.9-cp36-none-any.whl size=101034 sha256=75a118c2c28c31491c68658db470847cd9aa00afbd5b08b3f8014372fc39b2a2\n",
            "  Stored in directory: /root/.cache/pip/wheels/fc/89/43/f2f5bc00b03ef9724b0f6254a97eaf159a4c4ddc024b33e07a\n",
            "  Building wheel for sacremoses (setup.py) ... \u001b[?25l\u001b[?25hdone\n",
            "  Created wheel for sacremoses: filename=sacremoses-0.0.43-cp36-none-any.whl size=893261 sha256=0714b4409e42f7b7262a0969b23bd62351485cd40171246a9aa3a22762f0556e\n",
            "  Stored in directory: /root/.cache/pip/wheels/29/3c/fd/7ce5c3f0666dab31a50123635e6fb5e19ceb42ce38d4e58f45\n",
            "Successfully built sentence-transformers sacremoses\n",
            "Installing collected packages: tokenizers, sentencepiece, sacremoses, transformers, sentence-transformers\n",
            "Successfully installed sacremoses-0.0.43 sentence-transformers-0.3.9 sentencepiece-0.1.91 tokenizers-0.9.3 transformers-3.5.1\n"
          ],
          "name": "stdout"
        }
      ]
    },
    {
      "cell_type": "code",
      "metadata": {
        "id": "X7JoL5ks-GSx"
      },
      "source": [
        "from sentence_transformers import SentenceTransformer\r\n",
        "import pickle"
      ],
      "execution_count": 22,
      "outputs": []
    },
    {
      "cell_type": "code",
      "metadata": {
        "colab": {
          "base_uri": "https://localhost:8080/"
        },
        "id": "PjsRd_UFsQMO",
        "outputId": "167edfbd-9b70-4484-ec93-222940249ce2"
      },
      "source": [
        "bert_embedder = SentenceTransformer('distilbert-base-nli-stsb-mean-tokens')\r\n",
        "bert_embedder.max_seq_length"
      ],
      "execution_count": 23,
      "outputs": [
        {
          "output_type": "stream",
          "text": [
            "100%|██████████| 245M/245M [00:16<00:00, 14.6MB/s]\n"
          ],
          "name": "stderr"
        },
        {
          "output_type": "execute_result",
          "data": {
            "text/plain": [
              "128"
            ]
          },
          "metadata": {
            "tags": []
          },
          "execution_count": 23
        }
      ]
    },
    {
      "cell_type": "code",
      "metadata": {
        "colab": {
          "base_uri": "https://localhost:8080/",
          "height": 168,
          "referenced_widgets": [
            "2ed28fb6e8524c3690877489483f3478",
            "be4ee9ec5cbd4cdbb8fdc7d673c05377",
            "1e6f221b28504039964c477fef1b427c",
            "2ae0e9ee14f243eaa79cee7a2491ab15",
            "c3a715aaabcf4875a6fa9f5038b54544",
            "16c0bf010f3a413ba70a55a4e6e97701",
            "fee631ddd9064588ac41749d8908b888",
            "13e8c0f4038544c5821ff4ca652b0036",
            "91c16e50686f4d589f7e0ac0ec3464bd",
            "bea819afc232492ab319cfa658095005",
            "347c78d037654a7e84985c8c9542df53",
            "4b2b70b20fc84fc6899c0504d790bb66",
            "35375edce95e44839e77e9dc22e2f47c",
            "9d22b9714d7545a6a62b5c60556b039e",
            "dc794adbfb434fb69ed3626b42a62ec9",
            "f3d9cc1055264b36939902861eb4eef4",
            "a3edcb5bcee449949c30663324130af6",
            "887a3b056c04474ca06275784fb636b2",
            "2921ee932aaf4624987f226012300323",
            "27b2512d2fa24ec49bfdeba917172c25",
            "449744d7a6304510babf7facdd9cdc12",
            "cec1d623fc3e4b6b96742dcde061fa72",
            "610e6b23c1f9443c87c33b2b647ebf6e",
            "54b4f19d0c53444ea58aa1cfb356106f"
          ]
        },
        "id": "4yMuhvPljPg9",
        "outputId": "8eca9eba-31eb-49b2-ff68-8e069eaa8784"
      },
      "source": [
        "bert_train_reviews = bert_embedder.encode(train_df['text'].tolist(), show_progress_bar=True)\r\n",
        "\r\n",
        "bert_valid_reviews = bert_embedder.encode(valid_df['text'].tolist(), show_progress_bar=True)\r\n",
        "\r\n",
        "bert_test_reviews = bert_embedder.encode(test_df['text'].tolist(), show_progress_bar=True)\r\n",
        "\r\n",
        "#Store sentences & embeddings on disc\r\n",
        "with open('train_bert.pkl', \"wb\") as fOut:\r\n",
        "    pickle.dump({'text': train_df['text'].tolist(), 'bert': bert_train_reviews}, fOut, protocol=pickle.HIGHEST_PROTOCOL)\r\n",
        "\r\n",
        "with open('valid_bert.pkl', \"wb\") as fOut:\r\n",
        "    pickle.dump({'text': valid_df['text'].tolist(), 'bert': bert_valid_reviews}, fOut, protocol=pickle.HIGHEST_PROTOCOL)\r\n",
        "\r\n",
        "with open('test_bert.pkl', \"wb\") as fOut:\r\n",
        "    pickle.dump({'text': test_df['text'].tolist(), 'bert': bert_test_reviews}, fOut, protocol=pickle.HIGHEST_PROTOCOL)\r\n"
      ],
      "execution_count": 24,
      "outputs": [
        {
          "output_type": "display_data",
          "data": {
            "application/vnd.jupyter.widget-view+json": {
              "model_id": "2ed28fb6e8524c3690877489483f3478",
              "version_minor": 0,
              "version_major": 2
            },
            "text/plain": [
              "HBox(children=(FloatProgress(value=0.0, description='Batches', max=1250.0, style=ProgressStyle(description_wid…"
            ]
          },
          "metadata": {
            "tags": []
          }
        },
        {
          "output_type": "stream",
          "text": [
            "\n"
          ],
          "name": "stdout"
        },
        {
          "output_type": "display_data",
          "data": {
            "application/vnd.jupyter.widget-view+json": {
              "model_id": "91c16e50686f4d589f7e0ac0ec3464bd",
              "version_minor": 0,
              "version_major": 2
            },
            "text/plain": [
              "HBox(children=(FloatProgress(value=0.0, description='Batches', max=157.0, style=ProgressStyle(description_widt…"
            ]
          },
          "metadata": {
            "tags": []
          }
        },
        {
          "output_type": "stream",
          "text": [
            "\n"
          ],
          "name": "stdout"
        },
        {
          "output_type": "display_data",
          "data": {
            "application/vnd.jupyter.widget-view+json": {
              "model_id": "a3edcb5bcee449949c30663324130af6",
              "version_minor": 0,
              "version_major": 2
            },
            "text/plain": [
              "HBox(children=(FloatProgress(value=0.0, description='Batches', max=157.0, style=ProgressStyle(description_widt…"
            ]
          },
          "metadata": {
            "tags": []
          }
        },
        {
          "output_type": "stream",
          "text": [
            "\n"
          ],
          "name": "stdout"
        }
      ]
    },
    {
      "cell_type": "code",
      "metadata": {
        "colab": {
          "base_uri": "https://localhost:8080/"
        },
        "id": "VjwslJ7Rvcun",
        "outputId": "299a50b7-4558-42d7-f748-45dc551169b7"
      },
      "source": [
        "print(bert_train_reviews.shape)\r\n",
        "print(bert_valid_reviews.shape)\r\n",
        "print(bert_test_reviews.shape)"
      ],
      "execution_count": 25,
      "outputs": [
        {
          "output_type": "stream",
          "text": [
            "(40000, 768)\n",
            "(5000, 768)\n",
            "(5000, 768)\n"
          ],
          "name": "stdout"
        }
      ]
    },
    {
      "cell_type": "code",
      "metadata": {
        "id": "IlHKhlKrptf3"
      },
      "source": [
        "#Load text & bert from disc\r\n",
        "with open('train_bert.pkl', \"rb\") as fIn:\r\n",
        "    stored_data = pickle.load(fIn)\r\n",
        "    stored_text = stored_data['text']\r\n",
        "    bert_train_reviews = stored_data['bert']\r\n",
        "\r\n",
        "with open('valid_bert.pkl', \"rb\") as fIn:\r\n",
        "    stored_data = pickle.load(fIn)\r\n",
        "    stored_text = stored_data['text']\r\n",
        "    bert_valid_reviews = stored_data['bert']\r\n",
        "\r\n",
        "with open('test_bert.pkl', \"rb\") as fIn:\r\n",
        "    stored_data = pickle.load(fIn)\r\n",
        "    stored_text = stored_data['text']\r\n",
        "    bert_test_reviews = stored_data['bert']"
      ],
      "execution_count": 26,
      "outputs": []
    },
    {
      "cell_type": "code",
      "metadata": {
        "colab": {
          "base_uri": "https://localhost:8080/"
        },
        "id": "Et69es4mvtjw",
        "outputId": "657943a9-5973-40ae-f38c-835ec8bce570"
      },
      "source": [
        "print(bert_train_reviews.shape)\r\n",
        "print(bert_valid_reviews.shape)\r\n",
        "print(bert_test_reviews.shape)"
      ],
      "execution_count": 27,
      "outputs": [
        {
          "output_type": "stream",
          "text": [
            "(40000, 768)\n",
            "(5000, 768)\n",
            "(5000, 768)\n"
          ],
          "name": "stdout"
        }
      ]
    },
    {
      "cell_type": "markdown",
      "metadata": {
        "id": "Z47dYV9wxEoX"
      },
      "source": [
        "### BERT Naive Bayes"
      ]
    },
    {
      "cell_type": "code",
      "metadata": {
        "colab": {
          "base_uri": "https://localhost:8080/"
        },
        "id": "YcMnw06XxBoG",
        "outputId": "56221fe2-ccc9-4ed5-af87-a7b1f369228f"
      },
      "source": [
        "#training the model\n",
        "bnb = BernoulliNB()\n",
        "\n",
        "#fitting the model for bert features\n",
        "bnb_bert = bnb.fit(bert_train_reviews, train_df['label'])\n",
        "print(bnb_bert)"
      ],
      "execution_count": null,
      "outputs": [
        {
          "output_type": "stream",
          "text": [
            "BernoulliNB(alpha=1.0, binarize=0.0, class_prior=None, fit_prior=True)\n"
          ],
          "name": "stdout"
        }
      ]
    },
    {
      "cell_type": "code",
      "metadata": {
        "colab": {
          "base_uri": "https://localhost:8080/"
        },
        "id": "mZAbNcEcxBod",
        "outputId": "7857a03d-6fa9-45dc-ddbe-b7ec9850775b"
      },
      "source": [
        "#Predicting the model for bert\n",
        "bnb_bert_predict = bnb.predict(bert_test_reviews)\n",
        "print(bnb_bert_predict)"
      ],
      "execution_count": null,
      "outputs": [
        {
          "output_type": "stream",
          "text": [
            "[0 0 0 ... 0 0 1]\n"
          ],
          "name": "stdout"
        }
      ]
    },
    {
      "cell_type": "code",
      "metadata": {
        "colab": {
          "base_uri": "https://localhost:8080/"
        },
        "id": "7P9ido5UxBof",
        "outputId": "0c00c381-60a0-4598-808c-635d7dddb346"
      },
      "source": [
        "#Accuracy score for bag of words\n",
        "bnb_bert_score = accuracy_score(test_df['label'], bnb_bert_predict)\n",
        "print(\"bnb_bert_score :\",bnb_bert_score)"
      ],
      "execution_count": null,
      "outputs": [
        {
          "output_type": "stream",
          "text": [
            "bnb_bert_score : 0.7536\n"
          ],
          "name": "stdout"
        }
      ]
    },
    {
      "cell_type": "code",
      "metadata": {
        "colab": {
          "base_uri": "https://localhost:8080/"
        },
        "id": "EDXIQ7ctxBog",
        "outputId": "2cb8876c-2fa7-41d1-ac7d-a34696035566"
      },
      "source": [
        "#Classification report for bag of words \n",
        "bnb_bert_report = classification_report(test_df['label'], bnb_bert_predict, target_names=['Positive', 'Negative'])\n",
        "print(bnb_bert_report)"
      ],
      "execution_count": null,
      "outputs": [
        {
          "output_type": "stream",
          "text": [
            "              precision    recall  f1-score   support\n",
            "\n",
            "    Positive       0.75      0.76      0.75      2495\n",
            "    Negative       0.76      0.75      0.75      2505\n",
            "\n",
            "    accuracy                           0.75      5000\n",
            "   macro avg       0.75      0.75      0.75      5000\n",
            "weighted avg       0.75      0.75      0.75      5000\n",
            "\n"
          ],
          "name": "stdout"
        }
      ]
    },
    {
      "cell_type": "code",
      "metadata": {
        "colab": {
          "base_uri": "https://localhost:8080/"
        },
        "id": "T3svpma5xBoi",
        "outputId": "82f42a09-6946-4aa7-c641-551f5c043352"
      },
      "source": [
        "#confusion matrix for bag of words\n",
        "bnb_cm_bert = confusion_matrix(test_df['label'], bnb_bert_predict, labels=[1,0])\n",
        "print(bnb_cm_bert)"
      ],
      "execution_count": null,
      "outputs": [
        {
          "output_type": "stream",
          "text": [
            "[[1875  630]\n",
            " [ 602 1893]]\n"
          ],
          "name": "stdout"
        }
      ]
    },
    {
      "cell_type": "code",
      "metadata": {
        "colab": {
          "base_uri": "https://localhost:8080/",
          "height": 297
        },
        "id": "IulFH01uxBoj",
        "outputId": "3ec13a7e-07c8-4d95-caa3-99d9e1fd3b9f"
      },
      "source": [
        "# bert\r\n",
        "plot_roc_curve(bnb_bert, bert_test_reviews, test_df['label'])"
      ],
      "execution_count": null,
      "outputs": [
        {
          "output_type": "execute_result",
          "data": {
            "text/plain": [
              "<sklearn.metrics._plot.roc_curve.RocCurveDisplay at 0x7f82c12f4b38>"
            ]
          },
          "metadata": {
            "tags": []
          },
          "execution_count": 41
        },
        {
          "output_type": "display_data",
          "data": {
            "image/png": "[encoded data removed]",
            "text/plain": [
              "<Figure size 432x288 with 1 Axes>"
            ]
          },
          "metadata": {
            "tags": [],
            "needs_background": "light"
          }
        }
      ]
    },
    {
      "cell_type": "markdown",
      "metadata": {
        "id": "IYWcHbSwzrNB"
      },
      "source": [
        "### BERT Linear SVM"
      ]
    },
    {
      "cell_type": "code",
      "metadata": {
        "colab": {
          "base_uri": "https://localhost:8080/"
        },
        "id": "hqkEwkhIzWQX",
        "outputId": "457ec282-6232-47ab-e344-0e4a2d279765"
      },
      "source": [
        "#training the model\n",
        "svm_linear = LinearSVC(verbose=1, max_iter=5000, loss='hinge')\n",
        "\n",
        "#fitting the model for bert features\n",
        "svm_linear_bert = svm_linear.fit(bert_train_reviews, train_df['label'])\n",
        "print(svm_linear_bert)"
      ],
      "execution_count": 58,
      "outputs": [
        {
          "output_type": "stream",
          "text": [
            "[LibLinear]LinearSVC(C=1.0, class_weight=None, dual=True, fit_intercept=True,\n",
            "          intercept_scaling=1, loss='hinge', max_iter=5000, multi_class='ovr',\n",
            "          penalty='l2', random_state=None, tol=0.0001, verbose=1)\n"
          ],
          "name": "stdout"
        }
      ]
    },
    {
      "cell_type": "code",
      "metadata": {
        "id": "X27_tBQfzWRF",
        "colab": {
          "base_uri": "https://localhost:8080/"
        },
        "outputId": "33499ee4-77b8-4ac3-b6ec-d3688ead51c8"
      },
      "source": [
        "#Predicting the model for bert\n",
        "svm_linear_bert_predict = svm_linear.predict(bert_test_reviews)\n",
        "print(svm_linear_bert_predict)"
      ],
      "execution_count": 59,
      "outputs": [
        {
          "output_type": "stream",
          "text": [
            "[0 1 0 ... 0 0 1]\n"
          ],
          "name": "stdout"
        }
      ]
    },
    {
      "cell_type": "code",
      "metadata": {
        "colab": {
          "base_uri": "https://localhost:8080/"
        },
        "id": "rV-1Ev9IzWRK",
        "outputId": "16109095-4812-4878-9b9b-d9483c459af2"
      },
      "source": [
        "#Accuracy score for bag of words\n",
        "svm_linear_bert_score = accuracy_score(test_df['label'], svm_linear_bert_predict)\n",
        "print(\"svm_linear_bert_score :\",svm_linear_bert_score)"
      ],
      "execution_count": 60,
      "outputs": [
        {
          "output_type": "stream",
          "text": [
            "svm_linear_bert_score : 0.8308\n"
          ],
          "name": "stdout"
        }
      ]
    },
    {
      "cell_type": "code",
      "metadata": {
        "colab": {
          "base_uri": "https://localhost:8080/"
        },
        "id": "6CezUTV-zWRO",
        "outputId": "a208fa42-85d9-4a0b-f715-9c1c99ef5239"
      },
      "source": [
        "#Classification report for bag of words \n",
        "svm_linear_bert_report = classification_report(test_df['label'], svm_linear_bert_predict, target_names=['Positive', 'Negative'])\n",
        "print(svm_linear_bert_report)"
      ],
      "execution_count": 61,
      "outputs": [
        {
          "output_type": "stream",
          "text": [
            "              precision    recall  f1-score   support\n",
            "\n",
            "    Positive       0.83      0.82      0.83      2495\n",
            "    Negative       0.83      0.84      0.83      2505\n",
            "\n",
            "    accuracy                           0.83      5000\n",
            "   macro avg       0.83      0.83      0.83      5000\n",
            "weighted avg       0.83      0.83      0.83      5000\n",
            "\n"
          ],
          "name": "stdout"
        }
      ]
    },
    {
      "cell_type": "code",
      "metadata": {
        "colab": {
          "base_uri": "https://localhost:8080/"
        },
        "id": "xODJZwPVzWRQ",
        "outputId": "c1ba13aa-a2bf-4912-c3ed-61e3869ebcf9"
      },
      "source": [
        "#confusion matrix for bag of words\n",
        "svm_linear_cm_bert = confusion_matrix(test_df['label'], svm_linear_bert_predict, labels=[1,0])\n",
        "print(svm_linear_cm_bert)"
      ],
      "execution_count": 62,
      "outputs": [
        {
          "output_type": "stream",
          "text": [
            "[[2098  407]\n",
            " [ 439 2056]]\n"
          ],
          "name": "stdout"
        }
      ]
    },
    {
      "cell_type": "code",
      "metadata": {
        "colab": {
          "base_uri": "https://localhost:8080/",
          "height": 297
        },
        "id": "BSQKj0VnzWRS",
        "outputId": "fb369e7b-ed2e-4989-fc17-5a46aa775e53"
      },
      "source": [
        "# bert\r\n",
        "plot_roc_curve(svm_linear_bert, bert_test_reviews, test_df['label'])"
      ],
      "execution_count": 63,
      "outputs": [
        {
          "output_type": "execute_result",
          "data": {
            "text/plain": [
              "<sklearn.metrics._plot.roc_curve.RocCurveDisplay at 0x7f00b037e908>"
            ]
          },
          "metadata": {
            "tags": []
          },
          "execution_count": 63
        },
        {
          "output_type": "display_data",
          "data": {
            "image/png": "[encoded data removed]",
            "text/plain": [
              "<Figure size 432x288 with 1 Axes>"
            ]
          },
          "metadata": {
            "tags": [],
            "needs_background": "light"
          }
        }
      ]
    },
    {
      "cell_type": "markdown",
      "metadata": {
        "id": "Z-aijsNKzYCY"
      },
      "source": [
        "### BERT SVM with RBF kernel"
      ]
    },
    {
      "cell_type": "code",
      "metadata": {
        "id": "_JpmhlU02LMY"
      },
      "source": [
        "def print_results(results):\r\n",
        "    print('BEST PARAMS: {}\\n'.format(results.best_params_))\r\n",
        "\r\n",
        "    means = results.cv_results_['mean_test_score']\r\n",
        "    stds = results.cv_results_['std_test_score']\r\n",
        "    for mean, std, params in zip(means, stds, results.cv_results_['params']):\r\n",
        "        print('{} (+/-{}) for {}'.format(round(mean, 3), round(std * 2, 3), params))"
      ],
      "execution_count": null,
      "outputs": []
    },
    {
      "cell_type": "code",
      "metadata": {
        "colab": {
          "base_uri": "https://localhost:8080/"
        },
        "id": "Tx04EoA52LMa",
        "outputId": "f42751cb-199a-465c-85ac-8ba124721b79"
      },
      "source": [
        "svm_rbf = SVC(kernel='rbf', verbose=True, probability=True)\r\n",
        "\r\n",
        "rbf_parameters = {\r\n",
        "    'C': [1, 10, 100, 1000],\r\n",
        "    'gamma': [0.1, 0.01, 0.001, 0.0001]\r\n",
        "    }\r\n",
        "\r\n",
        "rbf_grid = GridSearchCV(svm_rbf, rbf_parameters, refit = True, verbose = 3) \r\n",
        "\r\n",
        "# fitting the model for grid search \r\n",
        "rbf_grid.fit(bert_valid_reviews, valid_df['label']) \r\n",
        "\r\n",
        "print_results(rbf_grid)"
      ],
      "execution_count": null,
      "outputs": [
        {
          "output_type": "stream",
          "text": [
            "Fitting 5 folds for each of 16 candidates, totalling 80 fits\n",
            "[CV] C=1, gamma=0.1 ..................................................\n",
            "[LibSVM]"
          ],
          "name": "stdout"
        },
        {
          "output_type": "stream",
          "text": [
            "[Parallel(n_jobs=1)]: Using backend SequentialBackend with 1 concurrent workers.\n"
          ],
          "name": "stderr"
        },
        {
          "output_type": "stream",
          "text": [
            "[CV] ...................... C=1, gamma=0.1, score=0.619, total= 1.5min\n",
            "[CV] C=1, gamma=0.1 ..................................................\n",
            "[LibSVM]"
          ],
          "name": "stdout"
        },
        {
          "output_type": "stream",
          "text": [
            "[Parallel(n_jobs=1)]: Done   1 out of   1 | elapsed:  1.5min remaining:    0.0s\n"
          ],
          "name": "stderr"
        },
        {
          "output_type": "stream",
          "text": [
            "[CV] ...................... C=1, gamma=0.1, score=0.615, total= 1.5min\n",
            "[CV] C=1, gamma=0.1 ..................................................\n",
            "[LibSVM]"
          ],
          "name": "stdout"
        },
        {
          "output_type": "stream",
          "text": [
            "[Parallel(n_jobs=1)]: Done   2 out of   2 | elapsed:  3.0min remaining:    0.0s\n"
          ],
          "name": "stderr"
        },
        {
          "output_type": "stream",
          "text": [
            "[CV] ...................... C=1, gamma=0.1, score=0.605, total= 1.5min\n",
            "[CV] C=1, gamma=0.1 ..................................................\n",
            "[LibSVM][CV] ...................... C=1, gamma=0.1, score=0.619, total= 1.5min\n",
            "[CV] C=1, gamma=0.1 ..................................................\n",
            "[LibSVM][CV] ...................... C=1, gamma=0.1, score=0.621, total= 1.5min\n",
            "[CV] C=1, gamma=0.01 .................................................\n",
            "[LibSVM][CV] ..................... C=1, gamma=0.01, score=0.802, total=  54.9s\n",
            "[CV] C=1, gamma=0.01 .................................................\n",
            "[LibSVM][CV] ..................... C=1, gamma=0.01, score=0.793, total=  54.7s\n",
            "[CV] C=1, gamma=0.01 .................................................\n",
            "[LibSVM][CV] ..................... C=1, gamma=0.01, score=0.798, total=  54.0s\n",
            "[CV] C=1, gamma=0.01 .................................................\n",
            "[LibSVM][CV] ..................... C=1, gamma=0.01, score=0.801, total=  54.8s\n",
            "[CV] C=1, gamma=0.01 .................................................\n",
            "[LibSVM][CV] ..................... C=1, gamma=0.01, score=0.807, total=  54.8s\n",
            "[CV] C=1, gamma=0.001 ................................................\n",
            "[LibSVM][CV] .................... C=1, gamma=0.001, score=0.790, total=  54.0s\n",
            "[CV] C=1, gamma=0.001 ................................................\n",
            "[LibSVM][CV] .................... C=1, gamma=0.001, score=0.793, total=  53.9s\n",
            "[CV] C=1, gamma=0.001 ................................................\n",
            "[LibSVM][CV] .................... C=1, gamma=0.001, score=0.784, total=  53.7s\n",
            "[CV] C=1, gamma=0.001 ................................................\n",
            "[LibSVM][CV] .................... C=1, gamma=0.001, score=0.799, total=  54.2s\n",
            "[CV] C=1, gamma=0.001 ................................................\n",
            "[LibSVM][CV] .................... C=1, gamma=0.001, score=0.782, total=  54.1s\n",
            "[CV] C=1, gamma=0.0001 ...............................................\n",
            "[LibSVM][CV] ................... C=1, gamma=0.0001, score=0.777, total= 1.2min\n",
            "[CV] C=1, gamma=0.0001 ...............................................\n",
            "[LibSVM][CV] ................... C=1, gamma=0.0001, score=0.780, total= 1.2min\n",
            "[CV] C=1, gamma=0.0001 ...............................................\n",
            "[LibSVM][CV] ................... C=1, gamma=0.0001, score=0.754, total= 1.2min\n",
            "[CV] C=1, gamma=0.0001 ...............................................\n",
            "[LibSVM][CV] ................... C=1, gamma=0.0001, score=0.782, total= 1.2min\n",
            "[CV] C=1, gamma=0.0001 ...............................................\n",
            "[LibSVM][CV] ................... C=1, gamma=0.0001, score=0.773, total= 1.2min\n",
            "[CV] C=10, gamma=0.1 .................................................\n",
            "[LibSVM][CV] ..................... C=10, gamma=0.1, score=0.639, total= 1.4min\n",
            "[CV] C=10, gamma=0.1 .................................................\n",
            "[LibSVM][CV] ..................... C=10, gamma=0.1, score=0.645, total= 1.4min\n",
            "[CV] C=10, gamma=0.1 .................................................\n",
            "[LibSVM][CV] ..................... C=10, gamma=0.1, score=0.621, total= 1.4min\n",
            "[CV] C=10, gamma=0.1 .................................................\n",
            "[LibSVM][CV] ..................... C=10, gamma=0.1, score=0.647, total= 1.4min\n",
            "[CV] C=10, gamma=0.1 .................................................\n",
            "[LibSVM][CV] ..................... C=10, gamma=0.1, score=0.630, total= 1.4min\n",
            "[CV] C=10, gamma=0.01 ................................................\n",
            "[LibSVM][CV] .................... C=10, gamma=0.01, score=0.818, total= 1.3min\n",
            "[CV] C=10, gamma=0.01 ................................................\n",
            "[LibSVM][CV] .................... C=10, gamma=0.01, score=0.779, total= 1.3min\n",
            "[CV] C=10, gamma=0.01 ................................................\n",
            "[LibSVM][CV] .................... C=10, gamma=0.01, score=0.805, total= 1.3min\n",
            "[CV] C=10, gamma=0.01 ................................................\n",
            "[LibSVM][CV] .................... C=10, gamma=0.01, score=0.793, total= 1.3min\n",
            "[CV] C=10, gamma=0.01 ................................................\n",
            "[LibSVM][CV] .................... C=10, gamma=0.01, score=0.786, total= 1.3min\n",
            "[CV] C=10, gamma=0.001 ...............................................\n",
            "[LibSVM][CV] ................... C=10, gamma=0.001, score=0.817, total=  47.6s\n",
            "[CV] C=10, gamma=0.001 ...............................................\n",
            "[LibSVM][CV] ................... C=10, gamma=0.001, score=0.787, total=  46.7s\n",
            "[CV] C=10, gamma=0.001 ...............................................\n",
            "[LibSVM][CV] ................... C=10, gamma=0.001, score=0.802, total=  46.6s\n",
            "[CV] C=10, gamma=0.001 ...............................................\n",
            "[LibSVM][CV] ................... C=10, gamma=0.001, score=0.805, total=  47.0s\n",
            "[CV] C=10, gamma=0.001 ...............................................\n",
            "[LibSVM][CV] ................... C=10, gamma=0.001, score=0.795, total=  47.2s\n",
            "[CV] C=10, gamma=0.0001 ..............................................\n",
            "[LibSVM][CV] .................. C=10, gamma=0.0001, score=0.790, total=  53.3s\n",
            "[CV] C=10, gamma=0.0001 ..............................................\n",
            "[LibSVM][CV] .................. C=10, gamma=0.0001, score=0.791, total=  53.3s\n",
            "[CV] C=10, gamma=0.0001 ..............................................\n",
            "[LibSVM][CV] .................. C=10, gamma=0.0001, score=0.787, total=  52.9s\n",
            "[CV] C=10, gamma=0.0001 ..............................................\n",
            "[LibSVM][CV] .................. C=10, gamma=0.0001, score=0.800, total=  53.5s\n",
            "[CV] C=10, gamma=0.0001 ..............................................\n",
            "[LibSVM][CV] .................. C=10, gamma=0.0001, score=0.786, total=  53.3s\n",
            "[CV] C=100, gamma=0.1 ................................................\n",
            "[LibSVM][CV] .................... C=100, gamma=0.1, score=0.639, total= 1.4min\n",
            "[CV] C=100, gamma=0.1 ................................................\n",
            "[LibSVM][CV] .................... C=100, gamma=0.1, score=0.645, total= 1.4min\n",
            "[CV] C=100, gamma=0.1 ................................................\n",
            "[LibSVM][CV] .................... C=100, gamma=0.1, score=0.621, total= 1.4min\n",
            "[CV] C=100, gamma=0.1 ................................................\n",
            "[LibSVM][CV] .................... C=100, gamma=0.1, score=0.647, total= 1.4min\n",
            "[CV] C=100, gamma=0.1 ................................................\n",
            "[LibSVM][CV] .................... C=100, gamma=0.1, score=0.630, total= 1.4min\n",
            "[CV] C=100, gamma=0.01 ...............................................\n",
            "[LibSVM][CV] ................... C=100, gamma=0.01, score=0.818, total= 1.3min\n",
            "[CV] C=100, gamma=0.01 ...............................................\n",
            "[LibSVM][CV] ................... C=100, gamma=0.01, score=0.780, total= 1.3min\n",
            "[CV] C=100, gamma=0.01 ...............................................\n",
            "[LibSVM][CV] ................... C=100, gamma=0.01, score=0.805, total= 1.3min\n",
            "[CV] C=100, gamma=0.01 ...............................................\n",
            "[LibSVM][CV] ................... C=100, gamma=0.01, score=0.795, total= 1.3min\n",
            "[CV] C=100, gamma=0.01 ...............................................\n",
            "[LibSVM][CV] ................... C=100, gamma=0.01, score=0.786, total= 1.3min\n",
            "[CV] C=100, gamma=0.001 ..............................................\n",
            "[LibSVM][CV] .................. C=100, gamma=0.001, score=0.819, total=  52.5s\n",
            "[CV] C=100, gamma=0.001 ..............................................\n",
            "[LibSVM][CV] .................. C=100, gamma=0.001, score=0.788, total=  50.9s\n",
            "[CV] C=100, gamma=0.001 ..............................................\n",
            "[LibSVM][CV] .................. C=100, gamma=0.001, score=0.802, total=  51.5s\n",
            "[CV] C=100, gamma=0.001 ..............................................\n",
            "[LibSVM][CV] .................. C=100, gamma=0.001, score=0.809, total=  51.4s\n",
            "[CV] C=100, gamma=0.001 ..............................................\n",
            "[LibSVM][CV] .................. C=100, gamma=0.001, score=0.787, total=  51.5s\n",
            "[CV] C=100, gamma=0.0001 .............................................\n",
            "[LibSVM][CV] ................. C=100, gamma=0.0001, score=0.814, total=  46.6s\n",
            "[CV] C=100, gamma=0.0001 .............................................\n",
            "[LibSVM][CV] ................. C=100, gamma=0.0001, score=0.790, total=  45.7s\n",
            "[CV] C=100, gamma=0.0001 .............................................\n",
            "[LibSVM][CV] ................. C=100, gamma=0.0001, score=0.800, total=  45.8s\n",
            "[CV] C=100, gamma=0.0001 .............................................\n",
            "[LibSVM][CV] ................. C=100, gamma=0.0001, score=0.802, total=  46.5s\n",
            "[CV] C=100, gamma=0.0001 .............................................\n",
            "[LibSVM][CV] ................. C=100, gamma=0.0001, score=0.799, total=  46.1s\n",
            "[CV] C=1000, gamma=0.1 ...............................................\n",
            "[LibSVM][CV] ................... C=1000, gamma=0.1, score=0.639, total= 1.4min\n",
            "[CV] C=1000, gamma=0.1 ...............................................\n",
            "[LibSVM][CV] ................... C=1000, gamma=0.1, score=0.645, total= 1.4min\n",
            "[CV] C=1000, gamma=0.1 ...............................................\n",
            "[LibSVM][CV] ................... C=1000, gamma=0.1, score=0.621, total= 1.4min\n",
            "[CV] C=1000, gamma=0.1 ...............................................\n",
            "[LibSVM][CV] ................... C=1000, gamma=0.1, score=0.647, total= 1.4min\n",
            "[CV] C=1000, gamma=0.1 ...............................................\n",
            "[LibSVM][CV] ................... C=1000, gamma=0.1, score=0.630, total= 1.4min\n",
            "[CV] C=1000, gamma=0.01 ..............................................\n",
            "[LibSVM][CV] .................. C=1000, gamma=0.01, score=0.818, total= 1.3min\n",
            "[CV] C=1000, gamma=0.01 ..............................................\n",
            "[LibSVM][CV] .................. C=1000, gamma=0.01, score=0.780, total= 1.3min\n",
            "[CV] C=1000, gamma=0.01 ..............................................\n",
            "[LibSVM][CV] .................. C=1000, gamma=0.01, score=0.805, total= 1.3min\n",
            "[CV] C=1000, gamma=0.01 ..............................................\n",
            "[LibSVM][CV] .................. C=1000, gamma=0.01, score=0.795, total= 1.3min\n",
            "[CV] C=1000, gamma=0.01 ..............................................\n",
            "[LibSVM][CV] .................. C=1000, gamma=0.01, score=0.786, total= 1.3min\n",
            "[CV] C=1000, gamma=0.001 .............................................\n",
            "[LibSVM][CV] ................. C=1000, gamma=0.001, score=0.806, total= 1.3min\n",
            "[CV] C=1000, gamma=0.001 .............................................\n",
            "[LibSVM][CV] ................. C=1000, gamma=0.001, score=0.764, total= 1.1min\n",
            "[CV] C=1000, gamma=0.001 .............................................\n",
            "[LibSVM][CV] ................. C=1000, gamma=0.001, score=0.781, total= 1.2min\n",
            "[CV] C=1000, gamma=0.001 .............................................\n",
            "[LibSVM][CV] ................. C=1000, gamma=0.001, score=0.797, total= 1.2min\n",
            "[CV] C=1000, gamma=0.001 .............................................\n",
            "[LibSVM][CV] ................. C=1000, gamma=0.001, score=0.765, total= 1.2min\n",
            "[CV] C=1000, gamma=0.0001 ............................................\n",
            "[LibSVM][CV] ................ C=1000, gamma=0.0001, score=0.818, total=  51.0s\n",
            "[CV] C=1000, gamma=0.0001 ............................................\n",
            "[LibSVM][CV] ................ C=1000, gamma=0.0001, score=0.779, total=  49.5s\n",
            "[CV] C=1000, gamma=0.0001 ............................................\n",
            "[LibSVM][CV] ................ C=1000, gamma=0.0001, score=0.799, total=  50.1s\n",
            "[CV] C=1000, gamma=0.0001 ............................................\n",
            "[LibSVM][CV] ................ C=1000, gamma=0.0001, score=0.796, total=  50.0s\n",
            "[CV] C=1000, gamma=0.0001 ............................................\n",
            "[LibSVM][CV] ................ C=1000, gamma=0.0001, score=0.783, total=  49.9s\n",
            "[LibSVM]"
          ],
          "name": "stdout"
        },
        {
          "output_type": "stream",
          "text": [
            "[Parallel(n_jobs=1)]: Done  80 out of  80 | elapsed: 89.5min finished\n"
          ],
          "name": "stderr"
        },
        {
          "output_type": "stream",
          "text": [
            "BEST PARAMS: {'C': 10, 'gamma': 0.001}\n",
            "\n",
            "0.616 (+/-0.011) for {'C': 1, 'gamma': 0.1}\n",
            "0.8 (+/-0.009) for {'C': 1, 'gamma': 0.01}\n",
            "0.79 (+/-0.012) for {'C': 1, 'gamma': 0.001}\n",
            "0.773 (+/-0.02) for {'C': 1, 'gamma': 0.0001}\n",
            "0.636 (+/-0.019) for {'C': 10, 'gamma': 0.1}\n",
            "0.796 (+/-0.028) for {'C': 10, 'gamma': 0.01}\n",
            "0.801 (+/-0.02) for {'C': 10, 'gamma': 0.001}\n",
            "0.791 (+/-0.01) for {'C': 10, 'gamma': 0.0001}\n",
            "0.636 (+/-0.019) for {'C': 100, 'gamma': 0.1}\n",
            "0.797 (+/-0.027) for {'C': 100, 'gamma': 0.01}\n",
            "0.801 (+/-0.025) for {'C': 100, 'gamma': 0.001}\n",
            "0.801 (+/-0.015) for {'C': 100, 'gamma': 0.0001}\n",
            "0.636 (+/-0.019) for {'C': 1000, 'gamma': 0.1}\n",
            "0.797 (+/-0.027) for {'C': 1000, 'gamma': 0.01}\n",
            "0.783 (+/-0.034) for {'C': 1000, 'gamma': 0.001}\n",
            "0.795 (+/-0.028) for {'C': 1000, 'gamma': 0.0001}\n"
          ],
          "name": "stdout"
        }
      ]
    },
    {
      "cell_type": "code",
      "metadata": {
        "colab": {
          "base_uri": "https://localhost:8080/"
        },
        "id": "5MSzeZzD2LMd",
        "outputId": "75c21414-032b-4736-aad0-67ee974950eb"
      },
      "source": [
        "# print best parameter after tuning \r\n",
        "print(rbf_grid.best_params_) \r\n",
        "  \r\n",
        "# print how our model looks after hyper-parameter tuning \r\n",
        "print(rbf_grid.best_estimator_) "
      ],
      "execution_count": null,
      "outputs": [
        {
          "output_type": "stream",
          "text": [
            "{'C': 10, 'gamma': 0.001}\n",
            "SVC(C=10, break_ties=False, cache_size=200, class_weight=None, coef0=0.0,\n",
            "    decision_function_shape='ovr', degree=3, gamma=0.001, kernel='rbf',\n",
            "    max_iter=-1, probability=True, random_state=None, shrinking=True, tol=0.001,\n",
            "    verbose=True)\n"
          ],
          "name": "stdout"
        }
      ]
    },
    {
      "cell_type": "code",
      "metadata": {
        "colab": {
          "base_uri": "https://localhost:8080/"
        },
        "id": "UlCXF_SL2LMg",
        "outputId": "df52e206-2905-4dbe-8a53-a1dd1fc4c39c"
      },
      "source": [
        "grid_predictions = rbf_grid.predict(bert_test_reviews) \r\n",
        "  \r\n",
        "# print classification report \r\n",
        "print(classification_report(test_df['label'], grid_predictions)) "
      ],
      "execution_count": null,
      "outputs": [
        {
          "output_type": "stream",
          "text": [
            "              precision    recall  f1-score   support\n",
            "\n",
            "           0       0.81      0.81      0.81      2495\n",
            "           1       0.81      0.81      0.81      2505\n",
            "\n",
            "    accuracy                           0.81      5000\n",
            "   macro avg       0.81      0.81      0.81      5000\n",
            "weighted avg       0.81      0.81      0.81      5000\n",
            "\n"
          ],
          "name": "stdout"
        }
      ]
    },
    {
      "cell_type": "code",
      "metadata": {
        "colab": {
          "base_uri": "https://localhost:8080/"
        },
        "id": "whglDrBgzoOF",
        "outputId": "9a0ab84f-81a0-4438-a6d2-871cdab0e3cc"
      },
      "source": [
        "#training the model\n",
        "svm_rbf = SVC(kernel='rbf', verbose=True, C=10, gamma=0.001, max_iter=20000)\n",
        "\n",
        "#fitting the model for bert features\n",
        "svm_rbf_bert = svm_rbf.fit(bert_train_reviews, train_df['label'])\n",
        "print(svm_rbf_bert)"
      ],
      "execution_count": 34,
      "outputs": [
        {
          "output_type": "stream",
          "text": [
            "[LibSVM]SVC(C=10, break_ties=False, cache_size=200, class_weight=None, coef0=0.0,\n",
            "    decision_function_shape='ovr', degree=3, gamma=0.001, kernel='rbf',\n",
            "    max_iter=20000, probability=False, random_state=None, shrinking=True,\n",
            "    tol=0.001, verbose=True)\n"
          ],
          "name": "stdout"
        }
      ]
    },
    {
      "cell_type": "code",
      "metadata": {
        "colab": {
          "base_uri": "https://localhost:8080/"
        },
        "id": "ORR70TC4zoOL",
        "outputId": "a727a12a-c6c1-49fa-b0dd-b289c2c73aa2"
      },
      "source": [
        "#Predicting the model for bert\n",
        "svm_rbf_bert_predict = svm_rbf.predict(bert_test_reviews)\n",
        "print(svm_rbf_bert_predict)"
      ],
      "execution_count": 35,
      "outputs": [
        {
          "output_type": "stream",
          "text": [
            "[0 0 0 ... 0 0 1]\n"
          ],
          "name": "stdout"
        }
      ]
    },
    {
      "cell_type": "code",
      "metadata": {
        "colab": {
          "base_uri": "https://localhost:8080/"
        },
        "id": "dFvmqaYSzoOO",
        "outputId": "6355b4cd-03de-41f5-fa1f-21f8bafef484"
      },
      "source": [
        "#Accuracy score for bag of words\n",
        "svm_rbf_bert_score = accuracy_score(test_df['label'], svm_rbf_bert_predict)\n",
        "print(\"svm_rbf_bert_score :\",svm_rbf_bert_score)"
      ],
      "execution_count": 36,
      "outputs": [
        {
          "output_type": "stream",
          "text": [
            "svm_rbf_bert_score : 0.8312\n"
          ],
          "name": "stdout"
        }
      ]
    },
    {
      "cell_type": "code",
      "metadata": {
        "colab": {
          "base_uri": "https://localhost:8080/"
        },
        "id": "tSBdNzZfzoOX",
        "outputId": "0822ea2e-87ef-4ff6-fa13-100df57e51c3"
      },
      "source": [
        "#Classification report for bag of words \n",
        "svm_rbf_bert_report = classification_report(test_df['label'], svm_rbf_bert_predict, target_names=['Positive', 'Negative'])\n",
        "print(svm_rbf_bert_report)"
      ],
      "execution_count": 37,
      "outputs": [
        {
          "output_type": "stream",
          "text": [
            "              precision    recall  f1-score   support\n",
            "\n",
            "    Positive       0.84      0.82      0.83      2495\n",
            "    Negative       0.82      0.84      0.83      2505\n",
            "\n",
            "    accuracy                           0.83      5000\n",
            "   macro avg       0.83      0.83      0.83      5000\n",
            "weighted avg       0.83      0.83      0.83      5000\n",
            "\n"
          ],
          "name": "stdout"
        }
      ]
    },
    {
      "cell_type": "code",
      "metadata": {
        "colab": {
          "base_uri": "https://localhost:8080/"
        },
        "id": "T2gdpS9rzoOc",
        "outputId": "7eed844b-d614-4ee2-8ede-4ff4baf0699c"
      },
      "source": [
        "#confusion matrix for bag of words\n",
        "svm_rbf_cm_bert = confusion_matrix(test_df['label'], svm_rbf_bert_predict, labels=[1,0])\n",
        "print(svm_rbf_cm_bert)"
      ],
      "execution_count": 38,
      "outputs": [
        {
          "output_type": "stream",
          "text": [
            "[[2112  393]\n",
            " [ 451 2044]]\n"
          ],
          "name": "stdout"
        }
      ]
    },
    {
      "cell_type": "code",
      "metadata": {
        "colab": {
          "base_uri": "https://localhost:8080/",
          "height": 297
        },
        "id": "RaZXfSL2zoOh",
        "outputId": "31a319a7-10d2-48c8-fe7e-6ccbb7e9b699"
      },
      "source": [
        "# bert\r\n",
        "plot_roc_curve(svm_rbf_bert, bert_test_reviews, test_df['label'])"
      ],
      "execution_count": 39,
      "outputs": [
        {
          "output_type": "execute_result",
          "data": {
            "text/plain": [
              "<sklearn.metrics._plot.roc_curve.RocCurveDisplay at 0x7f0139180f98>"
            ]
          },
          "metadata": {
            "tags": []
          },
          "execution_count": 39
        },
        {
          "output_type": "display_data",
          "data": {
            "image/png": "[encoded data removed]",
            "text/plain": [
              "<Figure size 432x288 with 1 Axes>"
            ]
          },
          "metadata": {
            "tags": [],
            "needs_background": "light"
          }
        }
      ]
    },
    {
      "cell_type": "markdown",
      "metadata": {
        "id": "dVzYjJC_ZJ-M"
      },
      "source": [
        "# Word2Vec"
      ]
    },
    {
      "cell_type": "markdown",
      "metadata": {
        "id": "qT2sKNhJ-77p"
      },
      "source": [
        "  Word2Vec consists of two models which are shallow two layer neural networks having one input layer, one hidden layer and one output layer. Word2Vec utilizes two architectures: Continuous Bag of Words and Skip Gram. The basic idea of Word2Vec is words that occur in similar context tend to be closer to each other in vector space. gensim library is used to generate word vectors in Python."
      ]
    },
    {
      "cell_type": "code",
      "metadata": {
        "id": "rCIEZtTOZRFS"
      },
      "source": [
        "from gensim.models import Word2Vec"
      ],
      "execution_count": 64,
      "outputs": []
    },
    {
      "cell_type": "code",
      "metadata": {
        "colab": {
          "base_uri": "https://localhost:8080/"
        },
        "id": "WWZ4UAuRwF3f",
        "outputId": "3b78b192-4969-4516-cc47-c42a13abb892"
      },
      "source": [
        "nltk.download('punkt')"
      ],
      "execution_count": 70,
      "outputs": [
        {
          "output_type": "stream",
          "text": [
            "[nltk_data] Downloading package punkt to /root/nltk_data...\n",
            "[nltk_data]   Unzipping tokenizers/punkt.zip.\n"
          ],
          "name": "stdout"
        },
        {
          "output_type": "execute_result",
          "data": {
            "text/plain": [
              "True"
            ]
          },
          "metadata": {
            "tags": []
          },
          "execution_count": 70
        }
      ]
    },
    {
      "cell_type": "code",
      "metadata": {
        "id": "squ5q00Ix7e8"
      },
      "source": [
        "import itertools\r\n",
        "def mean(z): # used for BERT (word version) and Word2Vec\r\n",
        "    return sum(itertools.chain(z))/len(z)"
      ],
      "execution_count": 83,
      "outputs": []
    },
    {
      "cell_type": "code",
      "metadata": {
        "id": "QWlFPeZdtwWO"
      },
      "source": [
        "def embeddToWord2Vec(text):\r\n",
        "    words = word_tokenize(text)\r\n",
        "    result = [w2v.wv[w] for w in words if w in w2v.wv.vocab]\r\n",
        "    feature = [mean(x) for x in zip(*result)]\r\n",
        "    return feature"
      ],
      "execution_count": 84,
      "outputs": []
    },
    {
      "cell_type": "code",
      "metadata": {
        "id": "_hkjcKh1u8PO"
      },
      "source": [
        "def wordTokenize(text):\r\n",
        "  return word_tokenize(text)"
      ],
      "execution_count": 72,
      "outputs": []
    },
    {
      "cell_type": "code",
      "metadata": {
        "id": "VQOxE6syvhSJ"
      },
      "source": [
        "train_words = train_df['text'].apply(wordTokenize)"
      ],
      "execution_count": 73,
      "outputs": []
    },
    {
      "cell_type": "code",
      "metadata": {
        "id": "o3MMdVWRu-Eu"
      },
      "source": [
        "w2v = Word2Vec(train_words, min_count = 2, size = 100, window = 5)"
      ],
      "execution_count": 76,
      "outputs": []
    },
    {
      "cell_type": "code",
      "metadata": {
        "id": "bK50RhaawLTu"
      },
      "source": [
        "w2v_train = train_df['text'].apply(embeddToWord2Vec)\r\n",
        "w2v_valid = valid_df['text'].apply(embeddToWord2Vec)\r\n",
        "w2v_test = test_df['text'].apply(embeddToWord2Vec)\r\n",
        "\r\n",
        "w2v_train_reviews = np.asarray([x for x in w2v_train.transpose()])\r\n",
        "w2v_valid_reviews = np.asarray([x for x in w2v_valid.transpose()])\r\n",
        "w2v_test_reviews = np.asarray([x for x in w2v_test.transpose()])"
      ],
      "execution_count": 89,
      "outputs": []
    },
    {
      "cell_type": "code",
      "metadata": {
        "colab": {
          "base_uri": "https://localhost:8080/"
        },
        "id": "N5NgMQQ3sS9T",
        "outputId": "c0d8ee59-bd80-49b8-e98d-ec15b640385b"
      },
      "source": [
        "print(w2v_train_reviews.shape)\r\n",
        "print(w2v_valid_reviews.shape)\r\n",
        "print(w2v_test_reviews.shape)"
      ],
      "execution_count": 90,
      "outputs": [
        {
          "output_type": "stream",
          "text": [
            "(40000, 100)\n",
            "(5000, 100)\n",
            "(5000, 100)\n"
          ],
          "name": "stdout"
        }
      ]
    },
    {
      "cell_type": "markdown",
      "metadata": {
        "id": "TwKfgPZ3ZeZu"
      },
      "source": [
        "### W2V Naive Bayes"
      ]
    },
    {
      "cell_type": "code",
      "metadata": {
        "colab": {
          "base_uri": "https://localhost:8080/"
        },
        "id": "Bmt7KRLbZeZv",
        "outputId": "bf74928f-26e5-4894-e5b5-33a006dd6672"
      },
      "source": [
        "#training the model\n",
        "bnb = BernoulliNB()\n",
        "\n",
        "#fitting the model for w2v features\n",
        "bnb_w2v = bnb.fit(w2v_train_reviews, train_df['label'])\n",
        "print(bnb_w2v)"
      ],
      "execution_count": 91,
      "outputs": [
        {
          "output_type": "stream",
          "text": [
            "BernoulliNB(alpha=1.0, binarize=0.0, class_prior=None, fit_prior=True)\n"
          ],
          "name": "stdout"
        }
      ]
    },
    {
      "cell_type": "code",
      "metadata": {
        "colab": {
          "base_uri": "https://localhost:8080/"
        },
        "id": "G_D1CpPUZeZw",
        "outputId": "b667a6b3-6896-412a-a6ce-06229fc1c9ff"
      },
      "source": [
        "#Predicting the model for w2v\n",
        "bnb_w2v_predict = bnb.predict(w2v_test_reviews)\n",
        "print(bnb_w2v_predict)"
      ],
      "execution_count": 92,
      "outputs": [
        {
          "output_type": "stream",
          "text": [
            "[0 0 0 ... 1 0 0]\n"
          ],
          "name": "stdout"
        }
      ]
    },
    {
      "cell_type": "code",
      "metadata": {
        "colab": {
          "base_uri": "https://localhost:8080/"
        },
        "id": "tM1O3sVlZeZ0",
        "outputId": "7c6ebe2a-c7cd-444d-fcf0-f4bc5eba387f"
      },
      "source": [
        "#Accuracy score for bag of words\n",
        "bnb_w2v_score = accuracy_score(test_df['label'], bnb_w2v_predict)\n",
        "print(\"bnb_w2v_score :\",bnb_w2v_score)"
      ],
      "execution_count": 93,
      "outputs": [
        {
          "output_type": "stream",
          "text": [
            "bnb_w2v_score : 0.724\n"
          ],
          "name": "stdout"
        }
      ]
    },
    {
      "cell_type": "code",
      "metadata": {
        "colab": {
          "base_uri": "https://localhost:8080/"
        },
        "id": "-oHKXl8AZeZ1",
        "outputId": "5252a876-283a-4373-9273-a0076e785368"
      },
      "source": [
        "#Classification report for bag of words \n",
        "bnb_w2v_report = classification_report(test_df['label'], bnb_w2v_predict, target_names=['Positive', 'Negative'])\n",
        "print(bnb_w2v_report)"
      ],
      "execution_count": 94,
      "outputs": [
        {
          "output_type": "stream",
          "text": [
            "              precision    recall  f1-score   support\n",
            "\n",
            "    Positive       0.70      0.77      0.74      2495\n",
            "    Negative       0.75      0.68      0.71      2505\n",
            "\n",
            "    accuracy                           0.72      5000\n",
            "   macro avg       0.73      0.72      0.72      5000\n",
            "weighted avg       0.73      0.72      0.72      5000\n",
            "\n"
          ],
          "name": "stdout"
        }
      ]
    },
    {
      "cell_type": "code",
      "metadata": {
        "colab": {
          "base_uri": "https://localhost:8080/"
        },
        "id": "VPwYElQUZeZ3",
        "outputId": "406d61b5-0a57-41a5-accb-13b50bb1bbc1"
      },
      "source": [
        "#confusion matrix for bag of words\n",
        "bnb_cm_w2v = confusion_matrix(test_df['label'], bnb_w2v_predict, labels=[1,0])\n",
        "print(bnb_cm_w2v)"
      ],
      "execution_count": 95,
      "outputs": [
        {
          "output_type": "stream",
          "text": [
            "[[1692  813]\n",
            " [ 567 1928]]\n"
          ],
          "name": "stdout"
        }
      ]
    },
    {
      "cell_type": "code",
      "metadata": {
        "colab": {
          "base_uri": "https://localhost:8080/",
          "height": 297
        },
        "id": "SB2ZxAroZeaE",
        "outputId": "75707c66-dffc-4710-c60d-f06140f32c21"
      },
      "source": [
        "# w2v\r\n",
        "plot_roc_curve(bnb_w2v, w2v_test_reviews, test_df['label'])"
      ],
      "execution_count": 96,
      "outputs": [
        {
          "output_type": "execute_result",
          "data": {
            "text/plain": [
              "<sklearn.metrics._plot.roc_curve.RocCurveDisplay at 0x7f0017b1d518>"
            ]
          },
          "metadata": {
            "tags": []
          },
          "execution_count": 96
        },
        {
          "output_type": "display_data",
          "data": {
            "image/png": "[encoded data removed]",
            "text/plain": [
              "<Figure size 432x288 with 1 Axes>"
            ]
          },
          "metadata": {
            "tags": [],
            "needs_background": "light"
          }
        }
      ]
    },
    {
      "cell_type": "markdown",
      "metadata": {
        "id": "jxQV0j2BZeaF"
      },
      "source": [
        "### W2V Linear SVM"
      ]
    },
    {
      "cell_type": "code",
      "metadata": {
        "colab": {
          "base_uri": "https://localhost:8080/"
        },
        "id": "hT6QlG6FZeaJ",
        "outputId": "6c1892ef-0222-4309-8f20-a03ac3fd6b99"
      },
      "source": [
        "#training the model\n",
        "svm_linear = LinearSVC(verbose=1, max_iter=5000, loss='hinge')\n",
        "\n",
        "#fitting the model for w2v features\n",
        "svm_linear_w2v = svm_linear.fit(w2v_train_reviews, train_df['label'])\n",
        "print(svm_linear_w2v)"
      ],
      "execution_count": 103,
      "outputs": [
        {
          "output_type": "stream",
          "text": [
            "[LibLinear]LinearSVC(C=1.0, class_weight=None, dual=True, fit_intercept=True,\n",
            "          intercept_scaling=1, loss='hinge', max_iter=5000, multi_class='ovr',\n",
            "          penalty='l2', random_state=None, tol=0.0001, verbose=1)\n"
          ],
          "name": "stdout"
        }
      ]
    },
    {
      "cell_type": "code",
      "metadata": {
        "id": "f3ccXdo8ZeaL",
        "colab": {
          "base_uri": "https://localhost:8080/"
        },
        "outputId": "e4527251-a04e-4577-cf4a-a9beb888c08b"
      },
      "source": [
        "#Predicting the model for w2v\n",
        "svm_linear_w2v_predict = svm_linear.predict(w2v_test_reviews)\n",
        "print(svm_linear_w2v_predict)"
      ],
      "execution_count": 104,
      "outputs": [
        {
          "output_type": "stream",
          "text": [
            "[0 0 0 ... 0 0 1]\n"
          ],
          "name": "stdout"
        }
      ]
    },
    {
      "cell_type": "code",
      "metadata": {
        "colab": {
          "base_uri": "https://localhost:8080/"
        },
        "id": "l2r83atZZeaL",
        "outputId": "e2eff674-89f7-4a28-cc8c-608b35383f9f"
      },
      "source": [
        "#Accuracy score for bag of words\n",
        "svm_linear_w2v_score = accuracy_score(test_df['label'], svm_linear_w2v_predict)\n",
        "print(\"svm_linear_w2v_score :\",svm_linear_w2v_score)"
      ],
      "execution_count": 105,
      "outputs": [
        {
          "output_type": "stream",
          "text": [
            "svm_linear_w2v_score : 0.849\n"
          ],
          "name": "stdout"
        }
      ]
    },
    {
      "cell_type": "code",
      "metadata": {
        "colab": {
          "base_uri": "https://localhost:8080/"
        },
        "id": "JELdur2jZeaL",
        "outputId": "4b6e49c1-fa39-45d6-9bbf-1ca4d54a998f"
      },
      "source": [
        "#Classification report for bag of words \n",
        "svm_linear_w2v_report = classification_report(test_df['label'], svm_linear_w2v_predict, target_names=['Positive', 'Negative'])\n",
        "print(svm_linear_w2v_report)"
      ],
      "execution_count": 106,
      "outputs": [
        {
          "output_type": "stream",
          "text": [
            "              precision    recall  f1-score   support\n",
            "\n",
            "    Positive       0.86      0.83      0.85      2495\n",
            "    Negative       0.84      0.86      0.85      2505\n",
            "\n",
            "    accuracy                           0.85      5000\n",
            "   macro avg       0.85      0.85      0.85      5000\n",
            "weighted avg       0.85      0.85      0.85      5000\n",
            "\n"
          ],
          "name": "stdout"
        }
      ]
    },
    {
      "cell_type": "code",
      "metadata": {
        "colab": {
          "base_uri": "https://localhost:8080/"
        },
        "id": "2GcrgaruZeaN",
        "outputId": "05bb599c-21da-4d79-cece-f2f0d8b2893d"
      },
      "source": [
        "#confusion matrix for bag of words\n",
        "svm_linear_cm_w2v = confusion_matrix(test_df['label'], svm_linear_w2v_predict, labels=[1,0])\n",
        "print(svm_linear_cm_w2v)"
      ],
      "execution_count": 107,
      "outputs": [
        {
          "output_type": "stream",
          "text": [
            "[[2162  343]\n",
            " [ 412 2083]]\n"
          ],
          "name": "stdout"
        }
      ]
    },
    {
      "cell_type": "code",
      "metadata": {
        "colab": {
          "base_uri": "https://localhost:8080/",
          "height": 297
        },
        "id": "feu6TcmTZeaQ",
        "outputId": "a250bed4-39df-4142-cbac-a477a585bd68"
      },
      "source": [
        "# w2v\r\n",
        "plot_roc_curve(svm_linear_w2v, w2v_test_reviews, test_df['label'])"
      ],
      "execution_count": 108,
      "outputs": [
        {
          "output_type": "execute_result",
          "data": {
            "text/plain": [
              "<sklearn.metrics._plot.roc_curve.RocCurveDisplay at 0x7f0008aba320>"
            ]
          },
          "metadata": {
            "tags": []
          },
          "execution_count": 108
        },
        {
          "output_type": "display_data",
          "data": {
            "image/png": "[encoded data removed]",
            "text/plain": [
              "<Figure size 432x288 with 1 Axes>"
            ]
          },
          "metadata": {
            "tags": [],
            "needs_background": "light"
          }
        }
      ]
    },
    {
      "cell_type": "markdown",
      "metadata": {
        "id": "kyY3uCaXZeaS"
      },
      "source": [
        "### W2V SVM with RBF kernel"
      ]
    },
    {
      "cell_type": "code",
      "metadata": {
        "id": "yPtmxhvnZeaT"
      },
      "source": [
        "def print_results(results):\r\n",
        "    print('BEST PARAMS: {}\\n'.format(results.best_params_))\r\n",
        "\r\n",
        "    means = results.cv_results_['mean_test_score']\r\n",
        "    stds = results.cv_results_['std_test_score']\r\n",
        "    for mean, std, params in zip(means, stds, results.cv_results_['params']):\r\n",
        "        print('{} (+/-{}) for {}'.format(round(mean, 3), round(std * 2, 3), params))"
      ],
      "execution_count": 109,
      "outputs": []
    },
    {
      "cell_type": "code",
      "metadata": {
        "colab": {
          "base_uri": "https://localhost:8080/"
        },
        "id": "ONu3pPZNZeaU",
        "outputId": "22167f3d-6970-4269-c8c6-2d3d8cc8a330"
      },
      "source": [
        "svm_rbf = SVC(kernel='rbf', verbose=True, probability=True)\r\n",
        "\r\n",
        "rbf_parameters = {\r\n",
        "    'C': [1, 10, 100, 1000],\r\n",
        "    'gamma': [0.1, 0.01, 0.001, 0.0001]\r\n",
        "    }\r\n",
        "\r\n",
        "rbf_grid = GridSearchCV(svm_rbf, rbf_parameters, refit = True, verbose = 3) \r\n",
        "\r\n",
        "# fitting the model for grid search \r\n",
        "rbf_grid.fit(w2v_valid_reviews, valid_df['label']) \r\n",
        "\r\n",
        "print_results(rbf_grid)"
      ],
      "execution_count": 110,
      "outputs": [
        {
          "output_type": "stream",
          "text": [
            "Fitting 5 folds for each of 16 candidates, totalling 80 fits\n",
            "[CV] C=1, gamma=0.1 ..................................................\n",
            "[LibSVM]"
          ],
          "name": "stdout"
        },
        {
          "output_type": "stream",
          "text": [
            "[Parallel(n_jobs=1)]: Using backend SequentialBackend with 1 concurrent workers.\n"
          ],
          "name": "stderr"
        },
        {
          "output_type": "stream",
          "text": [
            "[CV] ...................... C=1, gamma=0.1, score=0.826, total=   7.7s\n",
            "[CV] C=1, gamma=0.1 ..................................................\n",
            "[LibSVM]"
          ],
          "name": "stdout"
        },
        {
          "output_type": "stream",
          "text": [
            "[Parallel(n_jobs=1)]: Done   1 out of   1 | elapsed:    7.7s remaining:    0.0s\n"
          ],
          "name": "stderr"
        },
        {
          "output_type": "stream",
          "text": [
            "[CV] ...................... C=1, gamma=0.1, score=0.842, total=   7.5s\n",
            "[CV] C=1, gamma=0.1 ..................................................\n",
            "[LibSVM]"
          ],
          "name": "stdout"
        },
        {
          "output_type": "stream",
          "text": [
            "[Parallel(n_jobs=1)]: Done   2 out of   2 | elapsed:   15.2s remaining:    0.0s\n"
          ],
          "name": "stderr"
        },
        {
          "output_type": "stream",
          "text": [
            "[CV] ...................... C=1, gamma=0.1, score=0.839, total=   7.5s\n",
            "[CV] C=1, gamma=0.1 ..................................................\n",
            "[LibSVM][CV] ...................... C=1, gamma=0.1, score=0.829, total=   7.5s\n",
            "[CV] C=1, gamma=0.1 ..................................................\n",
            "[LibSVM][CV] ...................... C=1, gamma=0.1, score=0.832, total=   7.4s\n",
            "[CV] C=1, gamma=0.01 .................................................\n",
            "[LibSVM][CV] ..................... C=1, gamma=0.01, score=0.821, total=   9.4s\n",
            "[CV] C=1, gamma=0.01 .................................................\n",
            "[LibSVM][CV] ..................... C=1, gamma=0.01, score=0.828, total=   9.4s\n",
            "[CV] C=1, gamma=0.01 .................................................\n",
            "[LibSVM][CV] ..................... C=1, gamma=0.01, score=0.819, total=   9.3s\n",
            "[CV] C=1, gamma=0.01 .................................................\n",
            "[LibSVM][CV] ..................... C=1, gamma=0.01, score=0.828, total=   9.4s\n",
            "[CV] C=1, gamma=0.01 .................................................\n",
            "[LibSVM][CV] ..................... C=1, gamma=0.01, score=0.827, total=   9.4s\n",
            "[CV] C=1, gamma=0.001 ................................................\n",
            "[LibSVM][CV] .................... C=1, gamma=0.001, score=0.780, total=  13.4s\n",
            "[CV] C=1, gamma=0.001 ................................................\n",
            "[LibSVM][CV] .................... C=1, gamma=0.001, score=0.780, total=  13.4s\n",
            "[CV] C=1, gamma=0.001 ................................................\n",
            "[LibSVM][CV] .................... C=1, gamma=0.001, score=0.784, total=  13.4s\n",
            "[CV] C=1, gamma=0.001 ................................................\n",
            "[LibSVM][CV] .................... C=1, gamma=0.001, score=0.785, total=  13.3s\n",
            "[CV] C=1, gamma=0.001 ................................................\n",
            "[LibSVM][CV] .................... C=1, gamma=0.001, score=0.787, total=  13.3s\n",
            "[CV] C=1, gamma=0.0001 ...............................................\n",
            "[LibSVM][CV] ................... C=1, gamma=0.0001, score=0.505, total=  15.0s\n",
            "[CV] C=1, gamma=0.0001 ...............................................\n",
            "[LibSVM][CV] ................... C=1, gamma=0.0001, score=0.508, total=  15.0s\n",
            "[CV] C=1, gamma=0.0001 ...............................................\n",
            "[LibSVM][CV] ................... C=1, gamma=0.0001, score=0.507, total=  15.1s\n",
            "[CV] C=1, gamma=0.0001 ...............................................\n",
            "[LibSVM][CV] ................... C=1, gamma=0.0001, score=0.505, total=  15.1s\n",
            "[CV] C=1, gamma=0.0001 ...............................................\n",
            "[LibSVM][CV] ................... C=1, gamma=0.0001, score=0.503, total=  15.2s\n",
            "[CV] C=10, gamma=0.1 .................................................\n",
            "[LibSVM][CV] ..................... C=10, gamma=0.1, score=0.828, total=   7.6s\n",
            "[CV] C=10, gamma=0.1 .................................................\n",
            "[LibSVM][CV] ..................... C=10, gamma=0.1, score=0.837, total=   7.5s\n",
            "[CV] C=10, gamma=0.1 .................................................\n",
            "[LibSVM][CV] ..................... C=10, gamma=0.1, score=0.836, total=   7.6s\n",
            "[CV] C=10, gamma=0.1 .................................................\n",
            "[LibSVM][CV] ..................... C=10, gamma=0.1, score=0.825, total=   7.6s\n",
            "[CV] C=10, gamma=0.1 .................................................\n",
            "[LibSVM][CV] ..................... C=10, gamma=0.1, score=0.832, total=   7.5s\n",
            "[CV] C=10, gamma=0.01 ................................................\n",
            "[LibSVM][CV] .................... C=10, gamma=0.01, score=0.841, total=   7.2s\n",
            "[CV] C=10, gamma=0.01 ................................................\n",
            "[LibSVM][CV] .................... C=10, gamma=0.01, score=0.842, total=   7.2s\n",
            "[CV] C=10, gamma=0.01 ................................................\n",
            "[LibSVM][CV] .................... C=10, gamma=0.01, score=0.850, total=   7.2s\n",
            "[CV] C=10, gamma=0.01 ................................................\n",
            "[LibSVM][CV] .................... C=10, gamma=0.01, score=0.831, total=   7.2s\n",
            "[CV] C=10, gamma=0.01 ................................................\n",
            "[LibSVM][CV] .................... C=10, gamma=0.01, score=0.838, total=   7.2s\n",
            "[CV] C=10, gamma=0.001 ...............................................\n",
            "[LibSVM][CV] ................... C=10, gamma=0.001, score=0.816, total=   9.3s\n",
            "[CV] C=10, gamma=0.001 ...............................................\n",
            "[LibSVM][CV] ................... C=10, gamma=0.001, score=0.829, total=   9.4s\n",
            "[CV] C=10, gamma=0.001 ...............................................\n",
            "[LibSVM][CV] ................... C=10, gamma=0.001, score=0.815, total=   9.3s\n",
            "[CV] C=10, gamma=0.001 ...............................................\n",
            "[LibSVM][CV] ................... C=10, gamma=0.001, score=0.826, total=   9.2s\n",
            "[CV] C=10, gamma=0.001 ...............................................\n",
            "[LibSVM][CV] ................... C=10, gamma=0.001, score=0.828, total=   9.2s\n",
            "[CV] C=10, gamma=0.0001 ..............................................\n",
            "[LibSVM][CV] .................. C=10, gamma=0.0001, score=0.781, total=  13.3s\n",
            "[CV] C=10, gamma=0.0001 ..............................................\n",
            "[LibSVM][CV] .................. C=10, gamma=0.0001, score=0.780, total=  13.2s\n",
            "[CV] C=10, gamma=0.0001 ..............................................\n",
            "[LibSVM][CV] .................. C=10, gamma=0.0001, score=0.784, total=  13.4s\n",
            "[CV] C=10, gamma=0.0001 ..............................................\n",
            "[LibSVM][CV] .................. C=10, gamma=0.0001, score=0.786, total=  13.2s\n",
            "[CV] C=10, gamma=0.0001 ..............................................\n",
            "[LibSVM][CV] .................. C=10, gamma=0.0001, score=0.787, total=  13.1s\n",
            "[CV] C=100, gamma=0.1 ................................................\n",
            "[LibSVM][CV] .................... C=100, gamma=0.1, score=0.808, total=  10.6s\n",
            "[CV] C=100, gamma=0.1 ................................................\n",
            "[LibSVM][CV] .................... C=100, gamma=0.1, score=0.819, total=  10.6s\n",
            "[CV] C=100, gamma=0.1 ................................................\n",
            "[LibSVM][CV] .................... C=100, gamma=0.1, score=0.801, total=  10.6s\n",
            "[CV] C=100, gamma=0.1 ................................................\n",
            "[LibSVM][CV] .................... C=100, gamma=0.1, score=0.808, total=  10.5s\n",
            "[CV] C=100, gamma=0.1 ................................................\n",
            "[LibSVM][CV] .................... C=100, gamma=0.1, score=0.809, total=  10.4s\n",
            "[CV] C=100, gamma=0.01 ...............................................\n",
            "[LibSVM][CV] ................... C=100, gamma=0.01, score=0.839, total=   7.6s\n",
            "[CV] C=100, gamma=0.01 ...............................................\n",
            "[LibSVM][CV] ................... C=100, gamma=0.01, score=0.845, total=   7.5s\n",
            "[CV] C=100, gamma=0.01 ...............................................\n",
            "[LibSVM][CV] ................... C=100, gamma=0.01, score=0.845, total=   7.4s\n",
            "[CV] C=100, gamma=0.01 ...............................................\n",
            "[LibSVM][CV] ................... C=100, gamma=0.01, score=0.826, total=   7.5s\n",
            "[CV] C=100, gamma=0.01 ...............................................\n",
            "[LibSVM][CV] ................... C=100, gamma=0.01, score=0.832, total=   7.4s\n",
            "[CV] C=100, gamma=0.001 ..............................................\n",
            "[LibSVM][CV] .................. C=100, gamma=0.001, score=0.837, total=   7.3s\n",
            "[CV] C=100, gamma=0.001 ..............................................\n",
            "[LibSVM][CV] .................. C=100, gamma=0.001, score=0.842, total=   7.2s\n",
            "[CV] C=100, gamma=0.001 ..............................................\n",
            "[LibSVM][CV] .................. C=100, gamma=0.001, score=0.848, total=   7.3s\n",
            "[CV] C=100, gamma=0.001 ..............................................\n",
            "[LibSVM][CV] .................. C=100, gamma=0.001, score=0.833, total=   7.3s\n",
            "[CV] C=100, gamma=0.001 ..............................................\n",
            "[LibSVM][CV] .................. C=100, gamma=0.001, score=0.839, total=   7.2s\n",
            "[CV] C=100, gamma=0.0001 .............................................\n",
            "[LibSVM][CV] ................. C=100, gamma=0.0001, score=0.813, total=   9.3s\n",
            "[CV] C=100, gamma=0.0001 .............................................\n",
            "[LibSVM][CV] ................. C=100, gamma=0.0001, score=0.830, total=   9.3s\n",
            "[CV] C=100, gamma=0.0001 .............................................\n",
            "[LibSVM][CV] ................. C=100, gamma=0.0001, score=0.814, total=   9.3s\n",
            "[CV] C=100, gamma=0.0001 .............................................\n",
            "[LibSVM][CV] ................. C=100, gamma=0.0001, score=0.826, total=   9.2s\n",
            "[CV] C=100, gamma=0.0001 .............................................\n",
            "[LibSVM][CV] ................. C=100, gamma=0.0001, score=0.827, total=   9.2s\n",
            "[CV] C=1000, gamma=0.1 ...............................................\n",
            "[LibSVM][CV] ................... C=1000, gamma=0.1, score=0.804, total=  12.7s\n",
            "[CV] C=1000, gamma=0.1 ...............................................\n",
            "[LibSVM][CV] ................... C=1000, gamma=0.1, score=0.810, total=  12.7s\n",
            "[CV] C=1000, gamma=0.1 ...............................................\n",
            "[LibSVM][CV] ................... C=1000, gamma=0.1, score=0.782, total=  12.4s\n",
            "[CV] C=1000, gamma=0.1 ...............................................\n",
            "[LibSVM][CV] ................... C=1000, gamma=0.1, score=0.795, total=  12.8s\n",
            "[CV] C=1000, gamma=0.1 ...............................................\n",
            "[LibSVM][CV] ................... C=1000, gamma=0.1, score=0.783, total=  12.3s\n",
            "[CV] C=1000, gamma=0.01 ..............................................\n",
            "[LibSVM][CV] .................. C=1000, gamma=0.01, score=0.828, total=  13.6s\n",
            "[CV] C=1000, gamma=0.01 ..............................................\n",
            "[LibSVM][CV] .................. C=1000, gamma=0.01, score=0.832, total=  13.4s\n",
            "[CV] C=1000, gamma=0.01 ..............................................\n",
            "[LibSVM][CV] .................. C=1000, gamma=0.01, score=0.834, total=  13.1s\n",
            "[CV] C=1000, gamma=0.01 ..............................................\n",
            "[LibSVM][CV] .................. C=1000, gamma=0.01, score=0.824, total=  13.6s\n",
            "[CV] C=1000, gamma=0.01 ..............................................\n",
            "[LibSVM][CV] .................. C=1000, gamma=0.01, score=0.827, total=  13.1s\n",
            "[CV] C=1000, gamma=0.001 .............................................\n",
            "[LibSVM][CV] ................. C=1000, gamma=0.001, score=0.843, total=   7.6s\n",
            "[CV] C=1000, gamma=0.001 .............................................\n",
            "[LibSVM][CV] ................. C=1000, gamma=0.001, score=0.847, total=   7.7s\n",
            "[CV] C=1000, gamma=0.001 .............................................\n",
            "[LibSVM][CV] ................. C=1000, gamma=0.001, score=0.838, total=   7.7s\n",
            "[CV] C=1000, gamma=0.001 .............................................\n",
            "[LibSVM][CV] ................. C=1000, gamma=0.001, score=0.829, total=   7.7s\n",
            "[CV] C=1000, gamma=0.001 .............................................\n",
            "[LibSVM][CV] ................. C=1000, gamma=0.001, score=0.829, total=   7.6s\n",
            "[CV] C=1000, gamma=0.0001 ............................................\n",
            "[LibSVM][CV] ................ C=1000, gamma=0.0001, score=0.834, total=   7.4s\n",
            "[CV] C=1000, gamma=0.0001 ............................................\n",
            "[LibSVM][CV] ................ C=1000, gamma=0.0001, score=0.843, total=   7.3s\n",
            "[CV] C=1000, gamma=0.0001 ............................................\n",
            "[LibSVM][CV] ................ C=1000, gamma=0.0001, score=0.846, total=   7.4s\n",
            "[CV] C=1000, gamma=0.0001 ............................................\n",
            "[LibSVM][CV] ................ C=1000, gamma=0.0001, score=0.832, total=   7.4s\n",
            "[CV] C=1000, gamma=0.0001 ............................................\n",
            "[LibSVM][CV] ................ C=1000, gamma=0.0001, score=0.836, total=   7.3s\n",
            "[LibSVM]"
          ],
          "name": "stdout"
        },
        {
          "output_type": "stream",
          "text": [
            "[Parallel(n_jobs=1)]: Done  80 out of  80 | elapsed: 13.2min finished\n"
          ],
          "name": "stderr"
        },
        {
          "output_type": "stream",
          "text": [
            "BEST PARAMS: {'C': 10, 'gamma': 0.01}\n",
            "\n",
            "0.834 (+/-0.012) for {'C': 1, 'gamma': 0.1}\n",
            "0.825 (+/-0.008) for {'C': 1, 'gamma': 0.01}\n",
            "0.783 (+/-0.006) for {'C': 1, 'gamma': 0.001}\n",
            "0.506 (+/-0.003) for {'C': 1, 'gamma': 0.0001}\n",
            "0.832 (+/-0.009) for {'C': 10, 'gamma': 0.1}\n",
            "0.84 (+/-0.012) for {'C': 10, 'gamma': 0.01}\n",
            "0.823 (+/-0.012) for {'C': 10, 'gamma': 0.001}\n",
            "0.784 (+/-0.005) for {'C': 10, 'gamma': 0.0001}\n",
            "0.809 (+/-0.012) for {'C': 100, 'gamma': 0.1}\n",
            "0.837 (+/-0.015) for {'C': 100, 'gamma': 0.01}\n",
            "0.84 (+/-0.01) for {'C': 100, 'gamma': 0.001}\n",
            "0.822 (+/-0.014) for {'C': 100, 'gamma': 0.0001}\n",
            "0.795 (+/-0.022) for {'C': 1000, 'gamma': 0.1}\n",
            "0.829 (+/-0.007) for {'C': 1000, 'gamma': 0.01}\n",
            "0.837 (+/-0.015) for {'C': 1000, 'gamma': 0.001}\n",
            "0.838 (+/-0.011) for {'C': 1000, 'gamma': 0.0001}\n"
          ],
          "name": "stdout"
        }
      ]
    },
    {
      "cell_type": "code",
      "metadata": {
        "colab": {
          "base_uri": "https://localhost:8080/"
        },
        "id": "MGCwBeilZeaX",
        "outputId": "ef91c74e-c454-41be-dc27-fa0d02952fa0"
      },
      "source": [
        "# print best parameter after tuning \r\n",
        "print(rbf_grid.best_params_) \r\n",
        "  \r\n",
        "# print how our model looks after hyper-parameter tuning \r\n",
        "print(rbf_grid.best_estimator_) "
      ],
      "execution_count": 111,
      "outputs": [
        {
          "output_type": "stream",
          "text": [
            "{'C': 10, 'gamma': 0.01}\n",
            "SVC(C=10, break_ties=False, cache_size=200, class_weight=None, coef0=0.0,\n",
            "    decision_function_shape='ovr', degree=3, gamma=0.01, kernel='rbf',\n",
            "    max_iter=-1, probability=True, random_state=None, shrinking=True, tol=0.001,\n",
            "    verbose=True)\n"
          ],
          "name": "stdout"
        }
      ]
    },
    {
      "cell_type": "code",
      "metadata": {
        "colab": {
          "base_uri": "https://localhost:8080/"
        },
        "id": "rIuohuaBZeaZ",
        "outputId": "e9b68f97-5fda-435a-a41e-e49382aa40fc"
      },
      "source": [
        "grid_predictions = rbf_grid.predict(w2v_test_reviews) \r\n",
        "  \r\n",
        "# print classification report \r\n",
        "print(classification_report(test_df['label'], grid_predictions)) "
      ],
      "execution_count": 112,
      "outputs": [
        {
          "output_type": "stream",
          "text": [
            "              precision    recall  f1-score   support\n",
            "\n",
            "           0       0.86      0.84      0.85      2495\n",
            "           1       0.84      0.86      0.85      2505\n",
            "\n",
            "    accuracy                           0.85      5000\n",
            "   macro avg       0.85      0.85      0.85      5000\n",
            "weighted avg       0.85      0.85      0.85      5000\n",
            "\n"
          ],
          "name": "stdout"
        }
      ]
    },
    {
      "cell_type": "code",
      "metadata": {
        "colab": {
          "base_uri": "https://localhost:8080/"
        },
        "id": "4PK506TzZeaa",
        "outputId": "cb86b1b8-7bcc-4778-aa68-6f794849b60e"
      },
      "source": [
        "#training the model\n",
        "svm_rbf = SVC(kernel='rbf', verbose=True, C=10, gamma=0.01)\n",
        "\n",
        "#fitting the model for w2v features\n",
        "svm_rbf_w2v = svm_rbf.fit(w2v_train_reviews, train_df['label'])\n",
        "print(svm_rbf_w2v)"
      ],
      "execution_count": 125,
      "outputs": [
        {
          "output_type": "stream",
          "text": [
            "[LibSVM]SVC(C=10, break_ties=False, cache_size=200, class_weight=None, coef0=0.0,\n",
            "    decision_function_shape='ovr', degree=3, gamma=0.01, kernel='rbf',\n",
            "    max_iter=-1, probability=False, random_state=None, shrinking=True,\n",
            "    tol=0.001, verbose=True)\n"
          ],
          "name": "stdout"
        }
      ]
    },
    {
      "cell_type": "code",
      "metadata": {
        "colab": {
          "base_uri": "https://localhost:8080/"
        },
        "id": "pbeLAFH0Zeab",
        "outputId": "ec4de8d9-3b3e-45ef-88c6-e3dd3692c5c1"
      },
      "source": [
        "#Predicting the model for w2v\n",
        "svm_rbf_w2v_predict = svm_rbf.predict(w2v_test_reviews)\n",
        "print(svm_rbf_w2v_predict)"
      ],
      "execution_count": 126,
      "outputs": [
        {
          "output_type": "stream",
          "text": [
            "[0 0 0 ... 0 0 1]\n"
          ],
          "name": "stdout"
        }
      ]
    },
    {
      "cell_type": "code",
      "metadata": {
        "colab": {
          "base_uri": "https://localhost:8080/"
        },
        "id": "fofr_QgCZeac",
        "outputId": "5ed7bb03-6ecb-4012-e66f-14299fe003f9"
      },
      "source": [
        "#Accuracy score for bag of words\n",
        "svm_rbf_w2v_score = accuracy_score(test_df['label'], svm_rbf_w2v_predict)\n",
        "print(\"svm_rbf_w2v_score :\",svm_rbf_w2v_score)"
      ],
      "execution_count": 127,
      "outputs": [
        {
          "output_type": "stream",
          "text": [
            "svm_rbf_w2v_score : 0.856\n"
          ],
          "name": "stdout"
        }
      ]
    },
    {
      "cell_type": "code",
      "metadata": {
        "colab": {
          "base_uri": "https://localhost:8080/"
        },
        "id": "GybdBy8kZeae",
        "outputId": "9a2b53b2-1be2-49f4-ce8b-8352a44d39de"
      },
      "source": [
        "#Classification report for bag of words \n",
        "svm_rbf_w2v_report = classification_report(test_df['label'], svm_rbf_w2v_predict, target_names=['Positive', 'Negative'])\n",
        "print(svm_rbf_w2v_report)"
      ],
      "execution_count": 128,
      "outputs": [
        {
          "output_type": "stream",
          "text": [
            "              precision    recall  f1-score   support\n",
            "\n",
            "    Positive       0.87      0.84      0.85      2495\n",
            "    Negative       0.85      0.87      0.86      2505\n",
            "\n",
            "    accuracy                           0.86      5000\n",
            "   macro avg       0.86      0.86      0.86      5000\n",
            "weighted avg       0.86      0.86      0.86      5000\n",
            "\n"
          ],
          "name": "stdout"
        }
      ]
    },
    {
      "cell_type": "code",
      "metadata": {
        "colab": {
          "base_uri": "https://localhost:8080/"
        },
        "id": "mVtJIrhQZeaf",
        "outputId": "b9b5594a-fb7a-4521-9b7f-2326f8325893"
      },
      "source": [
        "#confusion matrix for bag of words\n",
        "svm_rbf_cm_w2v = confusion_matrix(test_df['label'], svm_rbf_w2v_predict, labels=[1,0])\n",
        "print(svm_rbf_cm_w2v)"
      ],
      "execution_count": 129,
      "outputs": [
        {
          "output_type": "stream",
          "text": [
            "[[2177  328]\n",
            " [ 392 2103]]\n"
          ],
          "name": "stdout"
        }
      ]
    },
    {
      "cell_type": "code",
      "metadata": {
        "colab": {
          "base_uri": "https://localhost:8080/",
          "height": 297
        },
        "id": "UUJzyExRZeag",
        "outputId": "c6ed82c2-d14a-4782-fc61-251f1b8c388a"
      },
      "source": [
        "# w2v\r\n",
        "plot_roc_curve(svm_rbf_w2v, w2v_test_reviews, test_df['label'])"
      ],
      "execution_count": 130,
      "outputs": [
        {
          "output_type": "execute_result",
          "data": {
            "text/plain": [
              "<sklearn.metrics._plot.roc_curve.RocCurveDisplay at 0x7f009f1ec898>"
            ]
          },
          "metadata": {
            "tags": []
          },
          "execution_count": 130
        },
        {
          "output_type": "display_data",
          "data": {
            "image/png": "[encoded data removed]",
            "text/plain": [
              "<Figure size 432x288 with 1 Axes>"
            ]
          },
          "metadata": {
            "tags": [],
            "needs_background": "light"
          }
        }
      ]
    },
    {
      "cell_type": "markdown",
      "metadata": {
        "id": "ZNqp0kBNCrgS"
      },
      "source": [
        "  We observe the results of our classifiers with comuted statistics and ROC curves.\r\n",
        "\r\n",
        "Thank you."
      ]
    }
  ]
}